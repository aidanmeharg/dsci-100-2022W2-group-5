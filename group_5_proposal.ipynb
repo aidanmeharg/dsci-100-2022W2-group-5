{
 "cells": [
  {
   "cell_type": "markdown",
   "id": "70acd4dc-9efb-49b9-b648-10853d2578ce",
   "metadata": {},
   "source": [
    "# Title (spotify genre prediction ??)\n",
    "### Group 5 Project Proposal"
   ]
  },
  {
   "cell_type": "markdown",
   "id": "3725002a-9723-44a5-b2ee-290396ba3a95",
   "metadata": {},
   "source": [
    "Intro stuff: motivations, description of dataset + predictors etc."
   ]
  },
  {
   "cell_type": "markdown",
   "id": "b5329e4b-0e16-459d-9b82-d42d84bda945",
   "metadata": {},
   "source": [
    "Import statements and set seed"
   ]
  },
  {
   "cell_type": "code",
   "execution_count": null,
   "id": "e83e1694-ea62-4469-b3fa-dd303f682e49",
   "metadata": {},
   "outputs": [],
   "source": []
  }
 ],
 "metadata": {
  "kernelspec": {
   "display_name": "R",
   "language": "R",
   "name": "ir"
  },
  "language_info": {
   "codemirror_mode": "r",
   "file_extension": ".r",
   "mimetype": "text/x-r-source",
   "name": "R",
   "pygments_lexer": "r",
   "version": "4.1.3"
  }
 },
 "nbformat": 4,
 "nbformat_minor": 5
}
