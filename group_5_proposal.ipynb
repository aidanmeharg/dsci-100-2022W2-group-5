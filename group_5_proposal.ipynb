{
 "cells": [
  {
   "cell_type": "markdown",
   "id": "d986ddcb",
   "metadata": {},
   "source": [
    "# **Spotify Song Genre Prediction**\n",
    "#### **DSCI 100 Section 007**\n",
    "#### **Group 5 Project Proposal**"
   ]
  },
  {
   "cell_type": "markdown",
   "id": "e4c6a3fe",
   "metadata": {},
   "source": [
    "## Introduction"
   ]
  },
  {
   "cell_type": "markdown",
   "id": "104a603f",
   "metadata": {},
   "source": [
    "One of the world's most well-known music streaming services, Spotify offers a web API with the ability to collect several audio features for any song found on Spotify. In this project, we use a **[dataset](https://www.kaggle.com/datasets/zaheenhamidani/ultimate-spotify-tracks-db)** created by Zaheen Hamidani using the Spotify API. In this project, our group will pursue the viability of genre-based music sorting using audio features such as beats per minute, acoustics, and tempo. In essence, we want to explore the realm of classification regarding music and the various musical genres that songs may fall into. Using data derived from Spotify, our group aims to demonstrate a cohesive understanding of course material and proficiently accomplish this feat.\\\n",
    "\\\n",
    "**Inference Question:** Can a song's audio features be used to correctly classify its musical genre using a simple k-NN model?\n",
    "* The possible predictor variables that are displayed via this avenue of evaluation are as follows:\n",
    "    * track_id (unique identifier)\n",
    "    * popularity\n",
    "    * acousticness (measure of acoustic presence)\n",
    "    * danceability (0 to 1 of how danceable a song is)\n",
    "    * duration_ms\n",
    "    * energy (measure of intensity and activity)\n",
    "    * instrumentalness (measure of whether a track contains no vocals or not)\n",
    "    * key (note range)\n",
    "    * liveness (was this track played live at a venue?)\n",
    "    * loudness (decibels)\n",
    "    * mode (major or minor key)\n",
    "    * speechiness (amount of spoken words)\n",
    "    * tempo (beats per minute)\n",
    "    * time_signature\n",
    "    * valence (musical positiveness conveyed by a track)\n",
    "* More detailed variable descriptions are available **[here](https://developer.spotify.com/documentation/web-api/reference/#/operations/get-audio-features)**"
   ]
  },
  {
   "cell_type": "markdown",
   "id": "f5bd0dc0",
   "metadata": {},
   "source": [
    "## Exploratory Data Analysis"
   ]
  },
  {
   "cell_type": "code",
   "execution_count": 1,
   "id": "eaaa506f",
   "metadata": {},
   "outputs": [
    {
     "name": "stderr",
     "output_type": "stream",
     "text": [
      "── \u001b[1mAttaching packages\u001b[22m ─────────────────────────────────────── tidyverse 1.3.1 ──\n",
      "\n",
      "\u001b[32m✔\u001b[39m \u001b[34mggplot2\u001b[39m 3.3.6     \u001b[32m✔\u001b[39m \u001b[34mpurrr  \u001b[39m 0.3.4\n",
      "\u001b[32m✔\u001b[39m \u001b[34mtibble \u001b[39m 3.1.7     \u001b[32m✔\u001b[39m \u001b[34mdplyr  \u001b[39m 1.0.9\n",
      "\u001b[32m✔\u001b[39m \u001b[34mtidyr  \u001b[39m 1.2.0     \u001b[32m✔\u001b[39m \u001b[34mstringr\u001b[39m 1.4.0\n",
      "\u001b[32m✔\u001b[39m \u001b[34mreadr  \u001b[39m 2.1.2     \u001b[32m✔\u001b[39m \u001b[34mforcats\u001b[39m 0.5.1\n",
      "\n",
      "── \u001b[1mConflicts\u001b[22m ────────────────────────────────────────── tidyverse_conflicts() ──\n",
      "\u001b[31m✖\u001b[39m \u001b[34mdplyr\u001b[39m::\u001b[32mfilter()\u001b[39m masks \u001b[34mstats\u001b[39m::filter()\n",
      "\u001b[31m✖\u001b[39m \u001b[34mdplyr\u001b[39m::\u001b[32mlag()\u001b[39m    masks \u001b[34mstats\u001b[39m::lag()\n",
      "\n",
      "── \u001b[1mAttaching packages\u001b[22m ────────────────────────────────────── tidymodels 1.0.0 ──\n",
      "\n",
      "\u001b[32m✔\u001b[39m \u001b[34mbroom       \u001b[39m 1.0.0     \u001b[32m✔\u001b[39m \u001b[34mrsample     \u001b[39m 1.0.0\n",
      "\u001b[32m✔\u001b[39m \u001b[34mdials       \u001b[39m 1.0.0     \u001b[32m✔\u001b[39m \u001b[34mtune        \u001b[39m 1.0.0\n",
      "\u001b[32m✔\u001b[39m \u001b[34minfer       \u001b[39m 1.0.2     \u001b[32m✔\u001b[39m \u001b[34mworkflows   \u001b[39m 1.0.0\n",
      "\u001b[32m✔\u001b[39m \u001b[34mmodeldata   \u001b[39m 1.0.0     \u001b[32m✔\u001b[39m \u001b[34mworkflowsets\u001b[39m 1.0.0\n",
      "\u001b[32m✔\u001b[39m \u001b[34mparsnip     \u001b[39m 1.0.0     \u001b[32m✔\u001b[39m \u001b[34myardstick   \u001b[39m 1.0.0\n",
      "\u001b[32m✔\u001b[39m \u001b[34mrecipes     \u001b[39m 1.0.1     \n",
      "\n",
      "── \u001b[1mConflicts\u001b[22m ───────────────────────────────────────── tidymodels_conflicts() ──\n",
      "\u001b[31m✖\u001b[39m \u001b[34mscales\u001b[39m::\u001b[32mdiscard()\u001b[39m masks \u001b[34mpurrr\u001b[39m::discard()\n",
      "\u001b[31m✖\u001b[39m \u001b[34mdplyr\u001b[39m::\u001b[32mfilter()\u001b[39m   masks \u001b[34mstats\u001b[39m::filter()\n",
      "\u001b[31m✖\u001b[39m \u001b[34mrecipes\u001b[39m::\u001b[32mfixed()\u001b[39m  masks \u001b[34mstringr\u001b[39m::fixed()\n",
      "\u001b[31m✖\u001b[39m \u001b[34mdplyr\u001b[39m::\u001b[32mlag()\u001b[39m      masks \u001b[34mstats\u001b[39m::lag()\n",
      "\u001b[31m✖\u001b[39m \u001b[34myardstick\u001b[39m::\u001b[32mspec()\u001b[39m masks \u001b[34mreadr\u001b[39m::spec()\n",
      "\u001b[31m✖\u001b[39m \u001b[34mrecipes\u001b[39m::\u001b[32mstep()\u001b[39m   masks \u001b[34mstats\u001b[39m::step()\n",
      "\u001b[34m•\u001b[39m Use \u001b[32mtidymodels_prefer()\u001b[39m to resolve common conflicts.\n",
      "\n"
     ]
    }
   ],
   "source": [
    "library(tidyverse)\n",
    "library(repr)\n",
    "library(tidymodels)\n",
    "options(repr.matrix.max.rows = 8)"
   ]
  },
  {
   "cell_type": "code",
   "execution_count": 2,
   "id": "980772c1",
   "metadata": {},
   "outputs": [
    {
     "name": "stderr",
     "output_type": "stream",
     "text": [
      "\u001b[1mRows: \u001b[22m\u001b[34m232725\u001b[39m \u001b[1mColumns: \u001b[22m\u001b[34m18\u001b[39m\n",
      "\u001b[36m──\u001b[39m \u001b[1mColumn specification\u001b[22m \u001b[36m────────────────────────────────────────────────────────\u001b[39m\n",
      "\u001b[1mDelimiter:\u001b[22m \",\"\n",
      "\u001b[31mchr\u001b[39m  (7): genre, artist_name, track_name, track_id, key, mode, time_signature\n",
      "\u001b[32mdbl\u001b[39m (11): popularity, acousticness, danceability, duration_ms, energy, instr...\n",
      "\n",
      "\u001b[36mℹ\u001b[39m Use `spec()` to retrieve the full column specification for this data.\n",
      "\u001b[36mℹ\u001b[39m Specify the column types or set `show_col_types = FALSE` to quiet this message.\n"
     ]
    },
    {
     "data": {
      "text/html": [
       "<table class=\"dataframe\">\n",
       "<caption>A tibble: 232725 × 18</caption>\n",
       "<thead>\n",
       "\t<tr><th scope=col>genre</th><th scope=col>artist_name</th><th scope=col>track_name</th><th scope=col>track_id</th><th scope=col>popularity</th><th scope=col>acousticness</th><th scope=col>danceability</th><th scope=col>duration_ms</th><th scope=col>energy</th><th scope=col>instrumentalness</th><th scope=col>key</th><th scope=col>liveness</th><th scope=col>loudness</th><th scope=col>mode</th><th scope=col>speechiness</th><th scope=col>tempo</th><th scope=col>time_signature</th><th scope=col>valence</th></tr>\n",
       "\t<tr><th scope=col>&lt;fct&gt;</th><th scope=col>&lt;chr&gt;</th><th scope=col>&lt;chr&gt;</th><th scope=col>&lt;chr&gt;</th><th scope=col>&lt;dbl&gt;</th><th scope=col>&lt;dbl&gt;</th><th scope=col>&lt;dbl&gt;</th><th scope=col>&lt;dbl&gt;</th><th scope=col>&lt;dbl&gt;</th><th scope=col>&lt;dbl&gt;</th><th scope=col>&lt;fct&gt;</th><th scope=col>&lt;dbl&gt;</th><th scope=col>&lt;dbl&gt;</th><th scope=col>&lt;fct&gt;</th><th scope=col>&lt;dbl&gt;</th><th scope=col>&lt;dbl&gt;</th><th scope=col>&lt;fct&gt;</th><th scope=col>&lt;dbl&gt;</th></tr>\n",
       "</thead>\n",
       "<tbody>\n",
       "\t<tr><td>Movie</td><td>Henri Salvador   </td><td>C'est beau de faire un Show     </td><td>0BRjO6ga9RKCKjfDqeFgWV</td><td>0</td><td>0.611</td><td>0.389</td><td> 99373</td><td>0.910</td><td>0</td><td>C#</td><td>0.3460</td><td> -1.828</td><td>Major</td><td>0.0525</td><td>166.969</td><td>4/4</td><td>0.814</td></tr>\n",
       "\t<tr><td>Movie</td><td>Martin &amp; les fées</td><td>Perdu d'avance (par Gad Elmaleh)</td><td>0BjC1NfoEOOusryehmNudP</td><td>1</td><td>0.246</td><td>0.590</td><td>137373</td><td>0.737</td><td>0</td><td>F#</td><td>0.1510</td><td> -5.559</td><td>Minor</td><td>0.0868</td><td>174.003</td><td>4/4</td><td>0.816</td></tr>\n",
       "\t<tr><td>Movie</td><td>Joseph Williams  </td><td>Don't Let Me Be Lonely Tonight  </td><td>0CoSDzoNIKCRs124s9uTVy</td><td>3</td><td>0.952</td><td>0.663</td><td>170267</td><td>0.131</td><td>0</td><td>C </td><td>0.1030</td><td>-13.879</td><td>Minor</td><td>0.0362</td><td> 99.488</td><td>5/4</td><td>0.368</td></tr>\n",
       "\t<tr><td>Movie</td><td>Henri Salvador   </td><td>Dis-moi Monsieur Gordon Cooper  </td><td>0Gc6TVm52BwZD07Ki6tIvf</td><td>0</td><td>0.703</td><td>0.240</td><td>152427</td><td>0.326</td><td>0</td><td>C#</td><td>0.0985</td><td>-12.178</td><td>Major</td><td>0.0395</td><td>171.758</td><td>4/4</td><td>0.227</td></tr>\n",
       "\t<tr><td>⋮</td><td>⋮</td><td>⋮</td><td>⋮</td><td>⋮</td><td>⋮</td><td>⋮</td><td>⋮</td><td>⋮</td><td>⋮</td><td>⋮</td><td>⋮</td><td>⋮</td><td>⋮</td><td>⋮</td><td>⋮</td><td>⋮</td><td>⋮</td></tr>\n",
       "\t<tr><td>Soul</td><td>Jr Thomas &amp; The Volcanos</td><td><span style=white-space:pre-wrap>Burning Fire                  </span></td><td>1qWZdkBl4UVPj9lK6HuuFM</td><td>38</td><td>0.0329</td><td>0.785</td><td>282447</td><td>0.683</td><td>8.80e-04</td><td>E </td><td>0.2370</td><td>-6.944</td><td>Minor</td><td>0.0337</td><td>113.830</td><td>4/4</td><td>0.969</td></tr>\n",
       "\t<tr><td>Soul</td><td>Muddy Waters            </td><td>(I'm Your) Hoochie Coochie Man</td><td>2ziWXUmQLrXTiYjCg2fZ2t</td><td>47</td><td>0.9010</td><td>0.517</td><td>166960</td><td>0.419</td><td>0.00e+00</td><td>D </td><td>0.0945</td><td>-8.282</td><td>Major</td><td>0.1480</td><td> 84.135</td><td>4/4</td><td>0.813</td></tr>\n",
       "\t<tr><td>Soul</td><td>R.LUM.R                 </td><td>With My Words                 </td><td>6EFsue2YbIG4Qkq8Zr9Rir</td><td>44</td><td>0.2620</td><td>0.745</td><td>222442</td><td>0.704</td><td>0.00e+00</td><td>A </td><td>0.3330</td><td>-7.137</td><td>Major</td><td>0.1460</td><td>100.031</td><td>4/4</td><td>0.489</td></tr>\n",
       "\t<tr><td>Soul</td><td>Mint Condition          </td><td>You Don't Have To Hurt No More</td><td>34XO9RwPMKjbvRry54QzWn</td><td>35</td><td>0.0973</td><td>0.758</td><td>323027</td><td>0.470</td><td>4.89e-05</td><td>G#</td><td>0.0836</td><td>-6.708</td><td>Minor</td><td>0.0287</td><td>113.897</td><td>4/4</td><td>0.479</td></tr>\n",
       "</tbody>\n",
       "</table>\n"
      ],
      "text/latex": [
       "A tibble: 232725 × 18\n",
       "\\begin{tabular}{llllllllllllllllll}\n",
       " genre & artist\\_name & track\\_name & track\\_id & popularity & acousticness & danceability & duration\\_ms & energy & instrumentalness & key & liveness & loudness & mode & speechiness & tempo & time\\_signature & valence\\\\\n",
       " <fct> & <chr> & <chr> & <chr> & <dbl> & <dbl> & <dbl> & <dbl> & <dbl> & <dbl> & <fct> & <dbl> & <dbl> & <fct> & <dbl> & <dbl> & <fct> & <dbl>\\\\\n",
       "\\hline\n",
       "\t Movie & Henri Salvador    & C'est beau de faire un Show      & 0BRjO6ga9RKCKjfDqeFgWV & 0 & 0.611 & 0.389 &  99373 & 0.910 & 0 & C\\# & 0.3460 &  -1.828 & Major & 0.0525 & 166.969 & 4/4 & 0.814\\\\\n",
       "\t Movie & Martin \\& les fées & Perdu d'avance (par Gad Elmaleh) & 0BjC1NfoEOOusryehmNudP & 1 & 0.246 & 0.590 & 137373 & 0.737 & 0 & F\\# & 0.1510 &  -5.559 & Minor & 0.0868 & 174.003 & 4/4 & 0.816\\\\\n",
       "\t Movie & Joseph Williams   & Don't Let Me Be Lonely Tonight   & 0CoSDzoNIKCRs124s9uTVy & 3 & 0.952 & 0.663 & 170267 & 0.131 & 0 & C  & 0.1030 & -13.879 & Minor & 0.0362 &  99.488 & 5/4 & 0.368\\\\\n",
       "\t Movie & Henri Salvador    & Dis-moi Monsieur Gordon Cooper   & 0Gc6TVm52BwZD07Ki6tIvf & 0 & 0.703 & 0.240 & 152427 & 0.326 & 0 & C\\# & 0.0985 & -12.178 & Major & 0.0395 & 171.758 & 4/4 & 0.227\\\\\n",
       "\t ⋮ & ⋮ & ⋮ & ⋮ & ⋮ & ⋮ & ⋮ & ⋮ & ⋮ & ⋮ & ⋮ & ⋮ & ⋮ & ⋮ & ⋮ & ⋮ & ⋮ & ⋮\\\\\n",
       "\t Soul & Jr Thomas \\& The Volcanos & Burning Fire                   & 1qWZdkBl4UVPj9lK6HuuFM & 38 & 0.0329 & 0.785 & 282447 & 0.683 & 8.80e-04 & E  & 0.2370 & -6.944 & Minor & 0.0337 & 113.830 & 4/4 & 0.969\\\\\n",
       "\t Soul & Muddy Waters             & (I'm Your) Hoochie Coochie Man & 2ziWXUmQLrXTiYjCg2fZ2t & 47 & 0.9010 & 0.517 & 166960 & 0.419 & 0.00e+00 & D  & 0.0945 & -8.282 & Major & 0.1480 &  84.135 & 4/4 & 0.813\\\\\n",
       "\t Soul & R.LUM.R                  & With My Words                  & 6EFsue2YbIG4Qkq8Zr9Rir & 44 & 0.2620 & 0.745 & 222442 & 0.704 & 0.00e+00 & A  & 0.3330 & -7.137 & Major & 0.1460 & 100.031 & 4/4 & 0.489\\\\\n",
       "\t Soul & Mint Condition           & You Don't Have To Hurt No More & 34XO9RwPMKjbvRry54QzWn & 35 & 0.0973 & 0.758 & 323027 & 0.470 & 4.89e-05 & G\\# & 0.0836 & -6.708 & Minor & 0.0287 & 113.897 & 4/4 & 0.479\\\\\n",
       "\\end{tabular}\n"
      ],
      "text/markdown": [
       "\n",
       "A tibble: 232725 × 18\n",
       "\n",
       "| genre &lt;fct&gt; | artist_name &lt;chr&gt; | track_name &lt;chr&gt; | track_id &lt;chr&gt; | popularity &lt;dbl&gt; | acousticness &lt;dbl&gt; | danceability &lt;dbl&gt; | duration_ms &lt;dbl&gt; | energy &lt;dbl&gt; | instrumentalness &lt;dbl&gt; | key &lt;fct&gt; | liveness &lt;dbl&gt; | loudness &lt;dbl&gt; | mode &lt;fct&gt; | speechiness &lt;dbl&gt; | tempo &lt;dbl&gt; | time_signature &lt;fct&gt; | valence &lt;dbl&gt; |\n",
       "|---|---|---|---|---|---|---|---|---|---|---|---|---|---|---|---|---|---|\n",
       "| Movie | Henri Salvador    | C'est beau de faire un Show      | 0BRjO6ga9RKCKjfDqeFgWV | 0 | 0.611 | 0.389 |  99373 | 0.910 | 0 | C# | 0.3460 |  -1.828 | Major | 0.0525 | 166.969 | 4/4 | 0.814 |\n",
       "| Movie | Martin &amp; les fées | Perdu d'avance (par Gad Elmaleh) | 0BjC1NfoEOOusryehmNudP | 1 | 0.246 | 0.590 | 137373 | 0.737 | 0 | F# | 0.1510 |  -5.559 | Minor | 0.0868 | 174.003 | 4/4 | 0.816 |\n",
       "| Movie | Joseph Williams   | Don't Let Me Be Lonely Tonight   | 0CoSDzoNIKCRs124s9uTVy | 3 | 0.952 | 0.663 | 170267 | 0.131 | 0 | C  | 0.1030 | -13.879 | Minor | 0.0362 |  99.488 | 5/4 | 0.368 |\n",
       "| Movie | Henri Salvador    | Dis-moi Monsieur Gordon Cooper   | 0Gc6TVm52BwZD07Ki6tIvf | 0 | 0.703 | 0.240 | 152427 | 0.326 | 0 | C# | 0.0985 | -12.178 | Major | 0.0395 | 171.758 | 4/4 | 0.227 |\n",
       "| ⋮ | ⋮ | ⋮ | ⋮ | ⋮ | ⋮ | ⋮ | ⋮ | ⋮ | ⋮ | ⋮ | ⋮ | ⋮ | ⋮ | ⋮ | ⋮ | ⋮ | ⋮ |\n",
       "| Soul | Jr Thomas &amp; The Volcanos | Burning Fire                   | 1qWZdkBl4UVPj9lK6HuuFM | 38 | 0.0329 | 0.785 | 282447 | 0.683 | 8.80e-04 | E  | 0.2370 | -6.944 | Minor | 0.0337 | 113.830 | 4/4 | 0.969 |\n",
       "| Soul | Muddy Waters             | (I'm Your) Hoochie Coochie Man | 2ziWXUmQLrXTiYjCg2fZ2t | 47 | 0.9010 | 0.517 | 166960 | 0.419 | 0.00e+00 | D  | 0.0945 | -8.282 | Major | 0.1480 |  84.135 | 4/4 | 0.813 |\n",
       "| Soul | R.LUM.R                  | With My Words                  | 6EFsue2YbIG4Qkq8Zr9Rir | 44 | 0.2620 | 0.745 | 222442 | 0.704 | 0.00e+00 | A  | 0.3330 | -7.137 | Major | 0.1460 | 100.031 | 4/4 | 0.489 |\n",
       "| Soul | Mint Condition           | You Don't Have To Hurt No More | 34XO9RwPMKjbvRry54QzWn | 35 | 0.0973 | 0.758 | 323027 | 0.470 | 4.89e-05 | G# | 0.0836 | -6.708 | Minor | 0.0287 | 113.897 | 4/4 | 0.479 |\n",
       "\n"
      ],
      "text/plain": [
       "       genre artist_name              track_name                      \n",
       "1      Movie Henri Salvador           C'est beau de faire un Show     \n",
       "2      Movie Martin & les fées        Perdu d'avance (par Gad Elmaleh)\n",
       "3      Movie Joseph Williams          Don't Let Me Be Lonely Tonight  \n",
       "4      Movie Henri Salvador           Dis-moi Monsieur Gordon Cooper  \n",
       "⋮      ⋮     ⋮                        ⋮                               \n",
       "232722 Soul  Jr Thomas & The Volcanos Burning Fire                    \n",
       "232723 Soul  Muddy Waters             (I'm Your) Hoochie Coochie Man  \n",
       "232724 Soul  R.LUM.R                  With My Words                   \n",
       "232725 Soul  Mint Condition           You Don't Have To Hurt No More  \n",
       "       track_id               popularity acousticness danceability duration_ms\n",
       "1      0BRjO6ga9RKCKjfDqeFgWV 0          0.611        0.389         99373     \n",
       "2      0BjC1NfoEOOusryehmNudP 1          0.246        0.590        137373     \n",
       "3      0CoSDzoNIKCRs124s9uTVy 3          0.952        0.663        170267     \n",
       "4      0Gc6TVm52BwZD07Ki6tIvf 0          0.703        0.240        152427     \n",
       "⋮      ⋮                      ⋮          ⋮            ⋮            ⋮          \n",
       "232722 1qWZdkBl4UVPj9lK6HuuFM 38         0.0329       0.785        282447     \n",
       "232723 2ziWXUmQLrXTiYjCg2fZ2t 47         0.9010       0.517        166960     \n",
       "232724 6EFsue2YbIG4Qkq8Zr9Rir 44         0.2620       0.745        222442     \n",
       "232725 34XO9RwPMKjbvRry54QzWn 35         0.0973       0.758        323027     \n",
       "       energy instrumentalness key liveness loudness mode  speechiness tempo  \n",
       "1      0.910  0                C#  0.3460    -1.828  Major 0.0525      166.969\n",
       "2      0.737  0                F#  0.1510    -5.559  Minor 0.0868      174.003\n",
       "3      0.131  0                C   0.1030   -13.879  Minor 0.0362       99.488\n",
       "4      0.326  0                C#  0.0985   -12.178  Major 0.0395      171.758\n",
       "⋮      ⋮      ⋮                ⋮   ⋮        ⋮        ⋮     ⋮           ⋮      \n",
       "232722 0.683  8.80e-04         E   0.2370   -6.944   Minor 0.0337      113.830\n",
       "232723 0.419  0.00e+00         D   0.0945   -8.282   Major 0.1480       84.135\n",
       "232724 0.704  0.00e+00         A   0.3330   -7.137   Major 0.1460      100.031\n",
       "232725 0.470  4.89e-05         G#  0.0836   -6.708   Minor 0.0287      113.897\n",
       "       time_signature valence\n",
       "1      4/4            0.814  \n",
       "2      4/4            0.816  \n",
       "3      5/4            0.368  \n",
       "4      4/4            0.227  \n",
       "⋮      ⋮              ⋮      \n",
       "232722 4/4            0.969  \n",
       "232723 4/4            0.813  \n",
       "232724 4/4            0.489  \n",
       "232725 4/4            0.479  "
      ]
     },
     "metadata": {},
     "output_type": "display_data"
    }
   ],
   "source": [
    "song_data <- read_csv(\"https://github.com/aidanmeharg/dsci-100-2022W2-group-5/raw/main/data/SpotifyFeatures.csv\")\n",
    "\n",
    "song_data <- song_data |>\n",
    "    mutate(genre = as_factor(genre)) |> \n",
    "    mutate(key = as_factor(key)) |>\n",
    "    mutate(time_signature = as_factor(time_signature)) |>\n",
    "    mutate(mode = as_factor(mode))\n",
    "\n",
    "song_data"
   ]
  },
  {
   "cell_type": "markdown",
   "id": "b0b362ec",
   "metadata": {},
   "source": [
    "### Check for Songs Classified Under Multiple Genres"
   ]
  },
  {
   "cell_type": "code",
   "execution_count": 3,
   "id": "3fa46403",
   "metadata": {},
   "outputs": [
    {
     "data": {
      "text/html": [
       "<table class=\"dataframe\">\n",
       "<caption>A tibble: 8 × 2</caption>\n",
       "<thead>\n",
       "\t<tr><th scope=col>copies</th><th scope=col>count</th></tr>\n",
       "\t<tr><th scope=col>&lt;int&gt;</th><th scope=col>&lt;int&gt;</th></tr>\n",
       "</thead>\n",
       "<tbody>\n",
       "\t<tr><td>1</td><td>141650</td></tr>\n",
       "\t<tr><td>2</td><td> 21871</td></tr>\n",
       "\t<tr><td>3</td><td>  8091</td></tr>\n",
       "\t<tr><td>4</td><td>  3374</td></tr>\n",
       "\t<tr><td>5</td><td>  1300</td></tr>\n",
       "\t<tr><td>6</td><td>   358</td></tr>\n",
       "\t<tr><td>7</td><td>   124</td></tr>\n",
       "\t<tr><td>8</td><td>     6</td></tr>\n",
       "</tbody>\n",
       "</table>\n"
      ],
      "text/latex": [
       "A tibble: 8 × 2\n",
       "\\begin{tabular}{ll}\n",
       " copies & count\\\\\n",
       " <int> & <int>\\\\\n",
       "\\hline\n",
       "\t 1 & 141650\\\\\n",
       "\t 2 &  21871\\\\\n",
       "\t 3 &   8091\\\\\n",
       "\t 4 &   3374\\\\\n",
       "\t 5 &   1300\\\\\n",
       "\t 6 &    358\\\\\n",
       "\t 7 &    124\\\\\n",
       "\t 8 &      6\\\\\n",
       "\\end{tabular}\n"
      ],
      "text/markdown": [
       "\n",
       "A tibble: 8 × 2\n",
       "\n",
       "| copies &lt;int&gt; | count &lt;int&gt; |\n",
       "|---|---|\n",
       "| 1 | 141650 |\n",
       "| 2 |  21871 |\n",
       "| 3 |   8091 |\n",
       "| 4 |   3374 |\n",
       "| 5 |   1300 |\n",
       "| 6 |    358 |\n",
       "| 7 |    124 |\n",
       "| 8 |      6 |\n",
       "\n"
      ],
      "text/plain": [
       "  copies count \n",
       "1 1      141650\n",
       "2 2       21871\n",
       "3 3        8091\n",
       "4 4        3374\n",
       "5 5        1300\n",
       "6 6         358\n",
       "7 7         124\n",
       "8 8           6"
      ]
     },
     "metadata": {},
     "output_type": "display_data"
    },
    {
     "data": {
      "text/html": [
       "176774"
      ],
      "text/latex": [
       "176774"
      ],
      "text/markdown": [
       "176774"
      ],
      "text/plain": [
       "[1] 176774"
      ]
     },
     "metadata": {},
     "output_type": "display_data"
    },
    {
     "data": {
      "image/png": "[encoded data removed]",
      "text/plain": [
       "plot without title"
      ]
     },
     "metadata": {
      "image/png": {
       "height": 420,
       "width": 420
      }
     },
     "output_type": "display_data"
    }
   ],
   "source": [
    "song_copies <- song_data |>\n",
    "    group_by(track_id) |>\n",
    "    summarize(copies = n()) |>\n",
    "    arrange(desc(copies)) \n",
    "\n",
    "song_copy_counts <- song_copies |>\n",
    "    group_by(copies) |>\n",
    "    summarize(count = n())\n",
    "\n",
    "num_unique_track_ids <- song_copy_counts |>\n",
    "    select(count) |>\n",
    "    pull() |>\n",
    "    sum()\n",
    "\n",
    "song_copy_counts\n",
    "num_unique_track_ids\n",
    "\n",
    "ggplot(song_copy_counts, aes(copies, count))+\n",
    "    geom_bar(stat = \"identity\", fill = \"violetred4\")+\n",
    "    labs(x = \"Number of Labeled Genres For Song\", y = \"Count\")+\n",
    "    ggtitle(\"Figure 1\")+\n",
    "    theme(text = element_text(size = 20))"
   ]
  },
  {
   "cell_type": "markdown",
   "id": "c4faf271",
   "metadata": {},
   "source": [
    "There are a total of 176,774 unique tracks in this dataset. Of those tracks, 141,650 (~80%) fall under a single genre classification while the rest appear in as many as eight different genres! Having songs that fall into multiple genres will complicate the classification process, so for this project we decided to only use songs with one assigned genre."
   ]
  },
  {
   "cell_type": "code",
   "execution_count": 4,
   "id": "2569fa3b",
   "metadata": {},
   "outputs": [],
   "source": [
    "multi_genre_songs <- song_copies |>\n",
    "    filter(copies > 1) |>\n",
    "    select(track_id) |>\n",
    "    pull()\n",
    "\n",
    "song_data <- song_data |>\n",
    "    filter(!(track_id %in% multi_genre_songs))"
   ]
  },
  {
   "cell_type": "code",
   "execution_count": 5,
   "id": "13f865e3",
   "metadata": {},
   "outputs": [
    {
     "data": {
      "image/png": "[encoded data removed]",
      "text/plain": [
       "plot without title"
      ]
     },
     "metadata": {
      "image/png": {
       "height": 480,
       "width": 720
      }
     },
     "output_type": "display_data"
    }
   ],
   "source": [
    "options(repr.plot.height = 8, repr.plot.width = 12)\n",
    "\n",
    "genre_plot <- song_data |>\n",
    "    group_by(genre) |>\n",
    "    summarize(count = n()) |>\n",
    "    ggplot(aes(reorder(genre, -count), count))+\n",
    "        geom_bar(stat = \"identity\", fill = \"violetred4\")+\n",
    "        labs(x = \"Genre\", y = \"Count\")+\n",
    "        ggtitle(\"Figure 2\")+\n",
    "        coord_flip()+\n",
    "        theme(text = element_text(size = 20), axis.text.x = element_text(angle = 90))\n",
    "\n",
    "genre_plot"
   ]
  },
  {
   "cell_type": "markdown",
   "id": "0196116d",
   "metadata": {},
   "source": [
    "As seen on the above graph there is a problem regarding the genre of Children's Music. It seems to be classified into two genres because of the apostrophe: one is Children's Music and the other is Children’s Music. We will correct this and put both of them under the same category as they should be. We also remove A Capella songs from our analysis entirely due to a very low number of observations."
   ]
  },
  {
   "cell_type": "code",
   "execution_count": 6,
   "id": "8a5b3cc5",
   "metadata": {},
   "outputs": [
    {
     "name": "stdout",
     "output_type": "stream",
     "text": [
      "[1] \"Number of Rows of the original data set:  141650\"\n",
      "[1] \"Number of genres of the original Data set:  27\"\n"
     ]
    }
   ],
   "source": [
    "#Checking how many songs and genres are in the data set\n",
    "Original_number_Of_songs <-nrow(song_data)\n",
    "Original_number_Of_Genere <- song_data |>\n",
    "                            group_by(genre) |>\n",
    "                            summarize(count = n()) |> \n",
    "                            nrow()\n",
    "print(paste(\"Number of Rows of the original data set: \", Original_number_Of_songs))\n",
    "print(paste(\"Number of genres of the original Data set: \", Original_number_Of_Genere))\n",
    "#We select one of the two genre classify as children songs and mutate them to the other name of Children's Music\n",
    "selectingOneTypeOfChildrensSong <- song_data |>\n",
    "                                filter(genre==\"Children’s Music\") |>\n",
    "                                mutate(genre=factor(\"Children's Music\"))\n",
    "\n",
    "#We delete that said genre from the original data set\n",
    "song_data <- song_data |> \n",
    "            filter(genre!=\"Children’s Music\")\n"
   ]
  },
  {
   "cell_type": "code",
   "execution_count": 7,
   "id": "bf3ba4d5",
   "metadata": {},
   "outputs": [
    {
     "name": "stdout",
     "output_type": "stream",
     "text": [
      "[1] \"Number of Rows of the new data set:  141650\"\n",
      "[1] \"Number of genres of the new Data set:  26\"\n"
     ]
    }
   ],
   "source": [
    "#We merge both of them into one data set\n",
    "song_data <-add_row(song_data, selectingOneTypeOfChildrensSong)\n",
    "\n",
    "#Confirm they have the same number of rows\n",
    "New_number_of_songs<-nrow(song_data)\n",
    "print(paste(\"Number of Rows of the new data set: \", New_number_of_songs))\n",
    "#Confirm the have one genre less\n",
    "New_number_Of_Genere <- song_data |>\n",
    "                            group_by(genre) |>\n",
    "                            summarize(count = n()) |>\n",
    "                            nrow()\n",
    "print(paste(\"Number of genres of the new Data set: \", New_number_Of_Genere))"
   ]
  },
  {
   "cell_type": "code",
   "execution_count": 8,
   "id": "36458111",
   "metadata": {},
   "outputs": [],
   "source": [
    "# Remove the A Capella songs (too few observations)\n",
    "song_data <- song_data |>\n",
    "    filter(genre != \"A Capella\")"
   ]
  },
  {
   "cell_type": "markdown",
   "id": "54036338",
   "metadata": {},
   "source": [
    "### Training / Testing Split"
   ]
  },
  {
   "cell_type": "markdown",
   "id": "e4dd705c",
   "metadata": {},
   "source": [
    "**Don't Forget To Run This**"
   ]
  },
  {
   "cell_type": "code",
   "execution_count": 9,
   "id": "5396fd75",
   "metadata": {},
   "outputs": [],
   "source": [
    "set.seed(1738)"
   ]
  },
  {
   "cell_type": "code",
   "execution_count": 10,
   "id": "d83d0992",
   "metadata": {},
   "outputs": [
    {
     "name": "stderr",
     "output_type": "stream",
     "text": [
      "Warning message:\n",
      "“Too little data to stratify.\n",
      "\u001b[36m•\u001b[39m Resampling will be unstratified.”\n"
     ]
    }
   ],
   "source": [
    "song_split <- initial_split(song_data, prop = 0.75, strata = genre)\n",
    "song_train <- training(song_split)\n",
    "song_test <- testing(song_split)"
   ]
  },
  {
   "cell_type": "markdown",
   "id": "cc29e7b7",
   "metadata": {},
   "source": [
    "**Not sure why this warning message keeps occurring.**\n",
    "The splits appear to keep original proportions quite well."
   ]
  },
  {
   "cell_type": "code",
   "execution_count": 11,
   "id": "cf59c0ce-7c2a-466c-af55-9ff2b7113a6d",
   "metadata": {},
   "outputs": [
    {
     "data": {
      "text/html": [
       "<style>\n",
       ".dl-inline {width: auto; margin:0; padding: 0}\n",
       ".dl-inline>dt, .dl-inline>dd {float: none; width: auto; display: inline-block}\n",
       ".dl-inline>dt::after {content: \":\\0020\"; padding-right: .5ex}\n",
       ".dl-inline>dt:not(:first-of-type) {padding-left: .5ex}\n",
       "</style><dl class=dl-inline><dt>genre</dt><dd>0</dd><dt>artist_name</dt><dd>0</dd><dt>track_name</dt><dd>0</dd><dt>track_id</dt><dd>0</dd><dt>popularity</dt><dd>0</dd><dt>acousticness</dt><dd>0</dd><dt>danceability</dt><dd>0</dd><dt>duration_ms</dt><dd>0</dd><dt>energy</dt><dd>0</dd><dt>instrumentalness</dt><dd>0</dd><dt>key</dt><dd>0</dd><dt>liveness</dt><dd>0</dd><dt>loudness</dt><dd>0</dd><dt>mode</dt><dd>0</dd><dt>speechiness</dt><dd>0</dd><dt>tempo</dt><dd>0</dd><dt>time_signature</dt><dd>0</dd><dt>valence</dt><dd>0</dd></dl>\n"
      ],
      "text/latex": [
       "\\begin{description*}\n",
       "\\item[genre] 0\n",
       "\\item[artist\\textbackslash{}\\_name] 0\n",
       "\\item[track\\textbackslash{}\\_name] 0\n",
       "\\item[track\\textbackslash{}\\_id] 0\n",
       "\\item[popularity] 0\n",
       "\\item[acousticness] 0\n",
       "\\item[danceability] 0\n",
       "\\item[duration\\textbackslash{}\\_ms] 0\n",
       "\\item[energy] 0\n",
       "\\item[instrumentalness] 0\n",
       "\\item[key] 0\n",
       "\\item[liveness] 0\n",
       "\\item[loudness] 0\n",
       "\\item[mode] 0\n",
       "\\item[speechiness] 0\n",
       "\\item[tempo] 0\n",
       "\\item[time\\textbackslash{}\\_signature] 0\n",
       "\\item[valence] 0\n",
       "\\end{description*}\n"
      ],
      "text/markdown": [
       "genre\n",
       ":   0artist_name\n",
       ":   0track_name\n",
       ":   0track_id\n",
       ":   0popularity\n",
       ":   0acousticness\n",
       ":   0danceability\n",
       ":   0duration_ms\n",
       ":   0energy\n",
       ":   0instrumentalness\n",
       ":   0key\n",
       ":   0liveness\n",
       ":   0loudness\n",
       ":   0mode\n",
       ":   0speechiness\n",
       ":   0tempo\n",
       ":   0time_signature\n",
       ":   0valence\n",
       ":   0\n",
       "\n"
      ],
      "text/plain": [
       "           genre      artist_name       track_name         track_id \n",
       "               0                0                0                0 \n",
       "      popularity     acousticness     danceability      duration_ms \n",
       "               0                0                0                0 \n",
       "          energy instrumentalness              key         liveness \n",
       "               0                0                0                0 \n",
       "        loudness             mode      speechiness            tempo \n",
       "               0                0                0                0 \n",
       "  time_signature          valence \n",
       "               0                0 "
      ]
     },
     "metadata": {},
     "output_type": "display_data"
    }
   ],
   "source": [
    "colSums(is.na(song_train))"
   ]
  },
  {
   "cell_type": "markdown",
   "id": "7e492628-44a6-4cff-bb1e-6d25ac501735",
   "metadata": {},
   "source": [
    "There appear to be no missing (NA) values in our training set."
   ]
  },
  {
   "cell_type": "code",
   "execution_count": 12,
   "id": "314089eb-d63b-478b-9ea2-d6bf39540a1b",
   "metadata": {},
   "outputs": [
    {
     "data": {
      "text/html": [
       "<table class=\"dataframe\">\n",
       "<caption>A matrix: 6 × 11 of type dbl</caption>\n",
       "<thead>\n",
       "\t<tr><th></th><th scope=col>popularity</th><th scope=col>acousticness</th><th scope=col>danceability</th><th scope=col>duration_ms</th><th scope=col>energy</th><th scope=col>instrumentalness</th><th scope=col>liveness</th><th scope=col>loudness</th><th scope=col>speechiness</th><th scope=col>tempo</th><th scope=col>valence</th></tr>\n",
       "</thead>\n",
       "<tbody>\n",
       "\t<tr><th scope=row>Min.</th><td> 0.00000</td><td>0.0000010</td><td>0.0569000</td><td>  16316.0</td><td>0.0000980</td><td>0.0000000</td><td>0.010200</td><td>-52.45700</td><td>0.0222000</td><td> 30.37900</td><td>0.0000000</td></tr>\n",
       "\t<tr><th scope=row>1st Qu.</th><td>22.00000</td><td>0.0543000</td><td>0.3970000</td><td> 173186.2</td><td>0.3090000</td><td>0.0000000</td><td>0.097600</td><td>-13.80900</td><td>0.0370000</td><td> 91.13275</td><td>0.2070000</td></tr>\n",
       "\t<tr><th scope=row>Median</th><td>33.00000</td><td>0.3550000</td><td>0.5460000</td><td> 218667.0</td><td>0.5800000</td><td>0.0001110</td><td>0.132000</td><td> -8.64600</td><td>0.0491000</td><td>114.24400</td><td>0.4370000</td></tr>\n",
       "\t<tr><th scope=row>Mean</th><td>32.01994</td><td>0.4365578</td><td>0.5286911</td><td> 236980.8</td><td>0.5455903</td><td>0.1929402</td><td>0.234763</td><td>-10.64299</td><td>0.1351841</td><td>116.75850</td><td>0.4494912</td></tr>\n",
       "\t<tr><th scope=row>3rd Qu.</th><td>43.00000</td><td>0.8310000</td><td>0.6740000</td><td> 271673.8</td><td>0.7930000</td><td>0.1930000</td><td>0.292000</td><td> -5.76800</td><td>0.0995000</td><td>138.22500</td><td>0.6750000</td></tr>\n",
       "\t<tr><th scope=row>Max.</th><td>97.00000</td><td>0.9960000</td><td>0.9890000</td><td>5488000.0</td><td>0.9990000</td><td>0.9990000</td><td>1.000000</td><td>  1.61000</td><td>0.9670000</td><td>242.90300</td><td>1.0000000</td></tr>\n",
       "</tbody>\n",
       "</table>\n"
      ],
      "text/latex": [
       "A matrix: 6 × 11 of type dbl\n",
       "\\begin{tabular}{r|lllllllllll}\n",
       "  & popularity & acousticness & danceability & duration\\_ms & energy & instrumentalness & liveness & loudness & speechiness & tempo & valence\\\\\n",
       "\\hline\n",
       "\tMin. &  0.00000 & 0.0000010 & 0.0569000 &   16316.0 & 0.0000980 & 0.0000000 & 0.010200 & -52.45700 & 0.0222000 &  30.37900 & 0.0000000\\\\\n",
       "\t1st Qu. & 22.00000 & 0.0543000 & 0.3970000 &  173186.2 & 0.3090000 & 0.0000000 & 0.097600 & -13.80900 & 0.0370000 &  91.13275 & 0.2070000\\\\\n",
       "\tMedian & 33.00000 & 0.3550000 & 0.5460000 &  218667.0 & 0.5800000 & 0.0001110 & 0.132000 &  -8.64600 & 0.0491000 & 114.24400 & 0.4370000\\\\\n",
       "\tMean & 32.01994 & 0.4365578 & 0.5286911 &  236980.8 & 0.5455903 & 0.1929402 & 0.234763 & -10.64299 & 0.1351841 & 116.75850 & 0.4494912\\\\\n",
       "\t3rd Qu. & 43.00000 & 0.8310000 & 0.6740000 &  271673.8 & 0.7930000 & 0.1930000 & 0.292000 &  -5.76800 & 0.0995000 & 138.22500 & 0.6750000\\\\\n",
       "\tMax. & 97.00000 & 0.9960000 & 0.9890000 & 5488000.0 & 0.9990000 & 0.9990000 & 1.000000 &   1.61000 & 0.9670000 & 242.90300 & 1.0000000\\\\\n",
       "\\end{tabular}\n"
      ],
      "text/markdown": [
       "\n",
       "A matrix: 6 × 11 of type dbl\n",
       "\n",
       "| <!--/--> | popularity | acousticness | danceability | duration_ms | energy | instrumentalness | liveness | loudness | speechiness | tempo | valence |\n",
       "|---|---|---|---|---|---|---|---|---|---|---|---|\n",
       "| Min. |  0.00000 | 0.0000010 | 0.0569000 |   16316.0 | 0.0000980 | 0.0000000 | 0.010200 | -52.45700 | 0.0222000 |  30.37900 | 0.0000000 |\n",
       "| 1st Qu. | 22.00000 | 0.0543000 | 0.3970000 |  173186.2 | 0.3090000 | 0.0000000 | 0.097600 | -13.80900 | 0.0370000 |  91.13275 | 0.2070000 |\n",
       "| Median | 33.00000 | 0.3550000 | 0.5460000 |  218667.0 | 0.5800000 | 0.0001110 | 0.132000 |  -8.64600 | 0.0491000 | 114.24400 | 0.4370000 |\n",
       "| Mean | 32.01994 | 0.4365578 | 0.5286911 |  236980.8 | 0.5455903 | 0.1929402 | 0.234763 | -10.64299 | 0.1351841 | 116.75850 | 0.4494912 |\n",
       "| 3rd Qu. | 43.00000 | 0.8310000 | 0.6740000 |  271673.8 | 0.7930000 | 0.1930000 | 0.292000 |  -5.76800 | 0.0995000 | 138.22500 | 0.6750000 |\n",
       "| Max. | 97.00000 | 0.9960000 | 0.9890000 | 5488000.0 | 0.9990000 | 0.9990000 | 1.000000 |   1.61000 | 0.9670000 | 242.90300 | 1.0000000 |\n",
       "\n"
      ],
      "text/plain": [
       "        popularity acousticness danceability duration_ms energy   \n",
       "Min.     0.00000   0.0000010    0.0569000      16316.0   0.0000980\n",
       "1st Qu. 22.00000   0.0543000    0.3970000     173186.2   0.3090000\n",
       "Median  33.00000   0.3550000    0.5460000     218667.0   0.5800000\n",
       "Mean    32.01994   0.4365578    0.5286911     236980.8   0.5455903\n",
       "3rd Qu. 43.00000   0.8310000    0.6740000     271673.8   0.7930000\n",
       "Max.    97.00000   0.9960000    0.9890000    5488000.0   0.9990000\n",
       "        instrumentalness liveness loudness  speechiness tempo     valence  \n",
       "Min.    0.0000000        0.010200 -52.45700 0.0222000    30.37900 0.0000000\n",
       "1st Qu. 0.0000000        0.097600 -13.80900 0.0370000    91.13275 0.2070000\n",
       "Median  0.0001110        0.132000  -8.64600 0.0491000   114.24400 0.4370000\n",
       "Mean    0.1929402        0.234763 -10.64299 0.1351841   116.75850 0.4494912\n",
       "3rd Qu. 0.1930000        0.292000  -5.76800 0.0995000   138.22500 0.6750000\n",
       "Max.    0.9990000        1.000000   1.61000 0.9670000   242.90300 1.0000000"
      ]
     },
     "metadata": {},
     "output_type": "display_data"
    }
   ],
   "source": [
    "continuous_predictors <- song_train |>\n",
    "    select(popularity:valence) |>\n",
    "    select(-c(\"key\", \"mode\", \"time_signature\")) \n",
    "\n",
    "summary_table <- apply(continuous_predictors, 2,  summary)\n",
    "\n",
    "summary_table"
   ]
  },
  {
   "cell_type": "markdown",
   "id": "34657414-8541-4e8d-bf3e-2a258a100b32",
   "metadata": {},
   "source": [
    "#### Table 1"
   ]
  },
  {
   "cell_type": "markdown",
   "id": "d769ea82-767f-4749-bd90-40c3e09397bd",
   "metadata": {},
   "source": [
    "We can see that most of the continuous features created by spotify have been normalized via min-max scaling, as they are in the interval [0,1] (they have not been zero-centered however). Tempo, loudness, and duration have not been scaled or centered. Histograms are provided for each of the continuous predictors below (figure 3)."
   ]
  },
  {
   "cell_type": "code",
   "execution_count": 13,
   "id": "1ca8db04-b1d0-4e65-9d04-3da0f081ca98",
   "metadata": {},
   "outputs": [
    {
     "name": "stderr",
     "output_type": "stream",
     "text": [
      "`stat_bin()` using `bins = 30`. Pick better value with `binwidth`.\n",
      "\n"
     ]
    },
    {
     "data": {
      "image/png": "[encoded data removed]",
      "text/plain": [
       "plot without title"
      ]
     },
     "metadata": {
      "image/png": {
       "height": 480,
       "width": 720
      }
     },
     "output_type": "display_data"
    }
   ],
   "source": [
    "options(repr.plot.height = 8, repr.plot.width = 12)\n",
    "\n",
    "continuous_long <- continuous_predictors |>\n",
    "    pivot_longer(colnames(continuous_predictors))\n",
    "\n",
    "density_plots <- continuous_long |>\n",
    "    ggplot(aes(value)) +\n",
    "        geom_histogram(fill = \"violetred4\") +\n",
    "        facet_wrap(~name, scales = \"free\")+\n",
    "        labs(x = \"Value\", y = \"Count\") +\n",
    "        ggtitle(\"Distributions of Continuous Predictor Variables (Figure 3)\") + \n",
    "        theme(text = element_text(size = 20))\n",
    "\n",
    "density_plots"
   ]
  },
  {
   "cell_type": "markdown",
   "id": "c4348407-4fc7-4c6c-a041-29f6cd2ba307",
   "metadata": {},
   "source": [
    "We notice that song duration (duration_ms) appears to have some very high outlier values. These may need to be removed in preprocessing. In addition, several of the predictors appear to have very skewed distributions which we may dampen in the future via log transformation."
   ]
  },
  {
   "cell_type": "code",
   "execution_count": 10,
   "id": "47a80ced-eef2-4de2-a8ae-49c365d1c49d",
   "metadata": {},
   "outputs": [
    {
     "ename": "ERROR",
     "evalue": "Error in ggcorr(continuous_predictors, method = c(\"pairwise\", \"pearson\"), : could not find function \"ggcorr\"\n",
     "output_type": "error",
     "traceback": [
      "Error in ggcorr(continuous_predictors, method = c(\"pairwise\", \"pearson\"), : could not find function \"ggcorr\"\nTraceback:\n"
     ]
    }
   ],
   "source": [
    "options(repr.plot.height = 8, repr.plot.width = 14)\n",
    "\n",
    "ggcorr(continuous_predictors, method = c(\"pairwise\", \"pearson\"), hjust = 0.75, size = 5, layout.exp = 1,\n",
    "      label = TRUE, label_round = 2, legend.position = c(0.2, 0.6), name = \"Pearson Correlation\", legend.size = 15)+\n",
    "        ggtitle(\"Pearson Correlation of Continuous Predictors (Figure 4)\")+\n",
    "        theme(text = element_text(size = 20))"
   ]
  },
  {
   "cell_type": "markdown",
   "id": "e770fbb2-a5e8-4bcf-bca9-15c1ff6252b2",
   "metadata": {},
   "source": [
    "The above correlation heatmap (Figure 4) displays Pearson correlation coefficients between each of the continuous predictors. We note that there is a strong positive correlation between loudness and energy (which makes sense). There are also moderately strong negative correlations between energy-acousticness and loudness-acousticness. We will keep this collinearity in mind if we want to reduce the number of predictors in the future."
   ]
  },
  {
   "cell_type": "code",
   "execution_count": 11,
   "id": "a91a19f8-b30a-4634-9dc1-59d1a7ac91da",
   "metadata": {},
   "outputs": [
    {
     "data": {
      "image/png": "[encoded data removed]",
      "text/plain": [
       "plot without title"
      ]
     },
     "metadata": {
      "image/png": {
       "height": 480,
       "width": 840
      }
     },
     "output_type": "display_data"
    },
    {
     "data": {
      "image/png": "[encoded data removed]",
      "text/plain": [
       "plot without title"
      ]
     },
     "metadata": {
      "image/png": {
       "height": 480,
       "width": 840
      }
     },
     "output_type": "display_data"
    }
   ],
   "source": [
    "categorical_predictors <- song_train |>\n",
    "    select(c(\"key\", \"mode\", \"time_signature\"))\n",
    "\n",
    "categorical_predictors$key <- fct_relevel(categorical_predictors$key, \"C\", \"C#\", \"D\", \"D#\", \"E\", \"F\", \"F#\", \"G\", \"G#\", \"A\", \"A#\", \"B\")\n",
    "\n",
    "key_plot <- categorical_predictors |>\n",
    "    group_by(key, mode) |>\n",
    "    tally() |>\n",
    "    ggplot(aes(key, n, fill = mode)) +\n",
    "        geom_bar(stat = \"identity\") +\n",
    "        labs(x = \"Key\", y = \"Count\", fill = \"Mode\")+\n",
    "        ggtitle(\"Distribution of Key Signatures (Figure 5)\")+\n",
    "        theme(text = element_text(size = 20))\n",
    "\n",
    "time_sig_plot <- categorical_predictors |>\n",
    "    group_by(time_signature) |>\n",
    "    tally() |>\n",
    "    ggplot(aes(time_signature, n)) +\n",
    "        geom_bar(stat = \"identity\", fill = \"violetred4\") +\n",
    "        labs(x = \"Approximate Time Signature\", y = \"Count\") +\n",
    "        ggtitle(\"Distribution of Time Signatures (Figure 6)\")+\n",
    "        theme(text = element_text(size = 20))\n",
    "\n",
    "key_plot\n",
    "time_sig_plot"
   ]
  },
  {
   "cell_type": "markdown",
   "id": "ff4cc22c-e3cd-47dc-9836-b2640e1ef1e0",
   "metadata": {},
   "source": [
    "The description of time_signature from Spotify web API indicates that time signatures should range from 3/4 to 7/4, so it is concerning that there are some songs classified under 1/4 and 0/4. It is unclear what the dataset creator has done to alter the values obtained from the Spotify API."
   ]
  },
  {
   "cell_type": "code",
   "execution_count": 12,
   "id": "621534dc-59fe-4bbd-aa19-7c3f01d858a8",
   "metadata": {},
   "outputs": [
    {
     "data": {
      "image/png": "[encoded data removed]",
      "text/plain": [
       "plot without title"
      ]
     },
     "metadata": {
      "image/png": {
       "height": 480,
       "width": 840
      }
     },
     "output_type": "display_data"
    }
   ],
   "source": [
    "genre_dist_plot <- song_train |>\n",
    "    group_by(genre) |>\n",
    "    summarize(count = n()) |>\n",
    "    ggplot(aes(reorder(genre, -count), count))+\n",
    "        geom_bar(stat = \"identity\", fill = \"violetred4\")+\n",
    "        labs(x = \"Genre\", y = \"Count\")+\n",
    "        ggtitle(\"Distribution of Genres in Training Set (Figure 7)\")+\n",
    "        coord_flip()+\n",
    "        theme(text = element_text(size = 20))\n",
    "\n",
    "genre_dist_plot"
   ]
  },
  {
   "cell_type": "markdown",
   "id": "4afedb1e",
   "metadata": {},
   "source": [
    "## Methods\n",
    "\n",
    "- We will do classification using k nearest neighbors, but to accurately predict these we will choose to remove variables that do not contribute anything useful for the model:\n",
    "    - Track_id: It is a identifier, has no predictive power\n",
    "    - Track_name: Does not help the model as having the same name does not represent anything special.  \n",
    "    - Artist_name: Having the same artist, does not guarantee you are going to have the same genre, bands like Linkin Park used to be a rock band now it is a pop band. We would also like our model to be able to predict genres for new artists to help them connect with new listeners \n",
    "    - Popularity: We want to be able to predict genres for small/new artists, thus we will not use this as a predictor\n",
    "    - Liveness: Audience prescence in the song logically should not have bearing on its genre, as any song can be put into a concert and be classified as lively.  \n",
    "- After this we will normalize and center all of the selected variables, as not all of them are measured under the same scale or centered around the same value. This is an especially important step when using k-NN models which are inherently distance based.\n",
    "#### Visualization:\n",
    "- A great way to vizualize the results is to have a bar graph or percent of songs we accurately predict based on genre to see if the model was better or worse for specific set of genres "
   ]
  },
  {
   "cell_type": "markdown",
   "id": "93794303-eaf5-4b21-a4e9-7745b70ed413",
   "metadata": {},
   "source": [
    "### Removing the unncesary Variables"
   ]
  },
  {
   "cell_type": "code",
   "execution_count": 11,
   "id": "ec1637c0-54c8-481a-bba6-45aa1ea09624",
   "metadata": {},
   "outputs": [
    {
     "data": {
      "text/html": [
       "<table class=\"dataframe\">\n",
       "<caption>A tibble: 141531 × 13</caption>\n",
       "<thead>\n",
       "\t<tr><th scope=col>genre</th><th scope=col>acousticness</th><th scope=col>danceability</th><th scope=col>duration_ms</th><th scope=col>energy</th><th scope=col>instrumentalness</th><th scope=col>key</th><th scope=col>loudness</th><th scope=col>mode</th><th scope=col>speechiness</th><th scope=col>tempo</th><th scope=col>time_signature</th><th scope=col>valence</th></tr>\n",
       "\t<tr><th scope=col>&lt;fct&gt;</th><th scope=col>&lt;dbl&gt;</th><th scope=col>&lt;dbl&gt;</th><th scope=col>&lt;dbl&gt;</th><th scope=col>&lt;dbl&gt;</th><th scope=col>&lt;dbl&gt;</th><th scope=col>&lt;fct&gt;</th><th scope=col>&lt;dbl&gt;</th><th scope=col>&lt;fct&gt;</th><th scope=col>&lt;dbl&gt;</th><th scope=col>&lt;dbl&gt;</th><th scope=col>&lt;fct&gt;</th><th scope=col>&lt;dbl&gt;</th></tr>\n",
       "</thead>\n",
       "<tbody>\n",
       "\t<tr><td>Movie</td><td>0.611</td><td>0.389</td><td> 99373</td><td>0.910</td><td>0</td><td>C#</td><td> -1.828</td><td>Major</td><td>0.0525</td><td>166.969</td><td>4/4</td><td>0.814</td></tr>\n",
       "\t<tr><td>Movie</td><td>0.246</td><td>0.590</td><td>137373</td><td>0.737</td><td>0</td><td>F#</td><td> -5.559</td><td>Minor</td><td>0.0868</td><td>174.003</td><td>4/4</td><td>0.816</td></tr>\n",
       "\t<tr><td>Movie</td><td>0.952</td><td>0.663</td><td>170267</td><td>0.131</td><td>0</td><td>C </td><td>-13.879</td><td>Minor</td><td>0.0362</td><td> 99.488</td><td>5/4</td><td>0.368</td></tr>\n",
       "\t<tr><td>Movie</td><td>0.703</td><td>0.240</td><td>152427</td><td>0.326</td><td>0</td><td>C#</td><td>-12.178</td><td>Major</td><td>0.0395</td><td>171.758</td><td>4/4</td><td>0.227</td></tr>\n",
       "\t<tr><td>⋮</td><td>⋮</td><td>⋮</td><td>⋮</td><td>⋮</td><td>⋮</td><td>⋮</td><td>⋮</td><td>⋮</td><td>⋮</td><td>⋮</td><td>⋮</td><td>⋮</td></tr>\n",
       "\t<tr><td>Children's Music</td><td>0.27300</td><td>0.698</td><td>303813</td><td>0.577</td><td>0.00232</td><td>F </td><td>-7.877</td><td>Major</td><td>0.0260</td><td>118.072</td><td>4/4</td><td>0.354</td></tr>\n",
       "\t<tr><td>Children's Music</td><td>0.01010</td><td>0.560</td><td>266320</td><td>0.867</td><td>0.00000</td><td>C </td><td>-4.251</td><td>Major</td><td>0.0362</td><td>100.020</td><td>4/4</td><td>0.397</td></tr>\n",
       "\t<tr><td>Children's Music</td><td>0.00253</td><td>0.502</td><td>251867</td><td>0.723</td><td>0.00000</td><td>A </td><td>-5.505</td><td>Major</td><td>0.0390</td><td> 80.961</td><td>4/4</td><td>0.614</td></tr>\n",
       "\t<tr><td>Children's Music</td><td>0.17100</td><td>0.460</td><td>226533</td><td>0.565</td><td>0.00000</td><td>D#</td><td>-9.787</td><td>Major</td><td>0.4320</td><td>143.005</td><td>4/4</td><td>0.663</td></tr>\n",
       "</tbody>\n",
       "</table>\n"
      ],
      "text/latex": [
       "A tibble: 141531 × 13\n",
       "\\begin{tabular}{lllllllllllll}\n",
       " genre & acousticness & danceability & duration\\_ms & energy & instrumentalness & key & loudness & mode & speechiness & tempo & time\\_signature & valence\\\\\n",
       " <fct> & <dbl> & <dbl> & <dbl> & <dbl> & <dbl> & <fct> & <dbl> & <fct> & <dbl> & <dbl> & <fct> & <dbl>\\\\\n",
       "\\hline\n",
       "\t Movie & 0.611 & 0.389 &  99373 & 0.910 & 0 & C\\# &  -1.828 & Major & 0.0525 & 166.969 & 4/4 & 0.814\\\\\n",
       "\t Movie & 0.246 & 0.590 & 137373 & 0.737 & 0 & F\\# &  -5.559 & Minor & 0.0868 & 174.003 & 4/4 & 0.816\\\\\n",
       "\t Movie & 0.952 & 0.663 & 170267 & 0.131 & 0 & C  & -13.879 & Minor & 0.0362 &  99.488 & 5/4 & 0.368\\\\\n",
       "\t Movie & 0.703 & 0.240 & 152427 & 0.326 & 0 & C\\# & -12.178 & Major & 0.0395 & 171.758 & 4/4 & 0.227\\\\\n",
       "\t ⋮ & ⋮ & ⋮ & ⋮ & ⋮ & ⋮ & ⋮ & ⋮ & ⋮ & ⋮ & ⋮ & ⋮ & ⋮\\\\\n",
       "\t Children's Music & 0.27300 & 0.698 & 303813 & 0.577 & 0.00232 & F  & -7.877 & Major & 0.0260 & 118.072 & 4/4 & 0.354\\\\\n",
       "\t Children's Music & 0.01010 & 0.560 & 266320 & 0.867 & 0.00000 & C  & -4.251 & Major & 0.0362 & 100.020 & 4/4 & 0.397\\\\\n",
       "\t Children's Music & 0.00253 & 0.502 & 251867 & 0.723 & 0.00000 & A  & -5.505 & Major & 0.0390 &  80.961 & 4/4 & 0.614\\\\\n",
       "\t Children's Music & 0.17100 & 0.460 & 226533 & 0.565 & 0.00000 & D\\# & -9.787 & Major & 0.4320 & 143.005 & 4/4 & 0.663\\\\\n",
       "\\end{tabular}\n"
      ],
      "text/markdown": [
       "\n",
       "A tibble: 141531 × 13\n",
       "\n",
       "| genre &lt;fct&gt; | acousticness &lt;dbl&gt; | danceability &lt;dbl&gt; | duration_ms &lt;dbl&gt; | energy &lt;dbl&gt; | instrumentalness &lt;dbl&gt; | key &lt;fct&gt; | loudness &lt;dbl&gt; | mode &lt;fct&gt; | speechiness &lt;dbl&gt; | tempo &lt;dbl&gt; | time_signature &lt;fct&gt; | valence &lt;dbl&gt; |\n",
       "|---|---|---|---|---|---|---|---|---|---|---|---|---|\n",
       "| Movie | 0.611 | 0.389 |  99373 | 0.910 | 0 | C# |  -1.828 | Major | 0.0525 | 166.969 | 4/4 | 0.814 |\n",
       "| Movie | 0.246 | 0.590 | 137373 | 0.737 | 0 | F# |  -5.559 | Minor | 0.0868 | 174.003 | 4/4 | 0.816 |\n",
       "| Movie | 0.952 | 0.663 | 170267 | 0.131 | 0 | C  | -13.879 | Minor | 0.0362 |  99.488 | 5/4 | 0.368 |\n",
       "| Movie | 0.703 | 0.240 | 152427 | 0.326 | 0 | C# | -12.178 | Major | 0.0395 | 171.758 | 4/4 | 0.227 |\n",
       "| ⋮ | ⋮ | ⋮ | ⋮ | ⋮ | ⋮ | ⋮ | ⋮ | ⋮ | ⋮ | ⋮ | ⋮ | ⋮ |\n",
       "| Children's Music | 0.27300 | 0.698 | 303813 | 0.577 | 0.00232 | F  | -7.877 | Major | 0.0260 | 118.072 | 4/4 | 0.354 |\n",
       "| Children's Music | 0.01010 | 0.560 | 266320 | 0.867 | 0.00000 | C  | -4.251 | Major | 0.0362 | 100.020 | 4/4 | 0.397 |\n",
       "| Children's Music | 0.00253 | 0.502 | 251867 | 0.723 | 0.00000 | A  | -5.505 | Major | 0.0390 |  80.961 | 4/4 | 0.614 |\n",
       "| Children's Music | 0.17100 | 0.460 | 226533 | 0.565 | 0.00000 | D# | -9.787 | Major | 0.4320 | 143.005 | 4/4 | 0.663 |\n",
       "\n"
      ],
      "text/plain": [
       "       genre            acousticness danceability duration_ms energy\n",
       "1      Movie            0.611        0.389         99373      0.910 \n",
       "2      Movie            0.246        0.590        137373      0.737 \n",
       "3      Movie            0.952        0.663        170267      0.131 \n",
       "4      Movie            0.703        0.240        152427      0.326 \n",
       "⋮      ⋮                ⋮            ⋮            ⋮           ⋮     \n",
       "141528 Children's Music 0.27300      0.698        303813      0.577 \n",
       "141529 Children's Music 0.01010      0.560        266320      0.867 \n",
       "141530 Children's Music 0.00253      0.502        251867      0.723 \n",
       "141531 Children's Music 0.17100      0.460        226533      0.565 \n",
       "       instrumentalness key loudness mode  speechiness tempo   time_signature\n",
       "1      0                C#   -1.828  Major 0.0525      166.969 4/4           \n",
       "2      0                F#   -5.559  Minor 0.0868      174.003 4/4           \n",
       "3      0                C   -13.879  Minor 0.0362       99.488 5/4           \n",
       "4      0                C#  -12.178  Major 0.0395      171.758 4/4           \n",
       "⋮      ⋮                ⋮   ⋮        ⋮     ⋮           ⋮       ⋮             \n",
       "141528 0.00232          F   -7.877   Major 0.0260      118.072 4/4           \n",
       "141529 0.00000          C   -4.251   Major 0.0362      100.020 4/4           \n",
       "141530 0.00000          A   -5.505   Major 0.0390       80.961 4/4           \n",
       "141531 0.00000          D#  -9.787   Major 0.4320      143.005 4/4           \n",
       "       valence\n",
       "1      0.814  \n",
       "2      0.816  \n",
       "3      0.368  \n",
       "4      0.227  \n",
       "⋮      ⋮      \n",
       "141528 0.354  \n",
       "141529 0.397  \n",
       "141530 0.614  \n",
       "141531 0.663  "
      ]
     },
     "metadata": {},
     "output_type": "display_data"
    }
   ],
   "source": [
    "song_data<- song_data |>\n",
    "            select(-track_id, -track_name, -artist_name, -popularity, -liveness)\n",
    "song_data"
   ]
  },
  {
   "cell_type": "code",
   "execution_count": 12,
   "id": "76238502-f190-40c1-9329-fd81529779a8",
   "metadata": {},
   "outputs": [
    {
     "name": "stderr",
     "output_type": "stream",
     "text": [
      "Warning message:\n",
      "“Too little data to stratify.\n",
      "\u001b[36m•\u001b[39m Resampling will be unstratified.”\n"
     ]
    },
    {
     "name": "stdout",
     "output_type": "stream",
     "text": [
      "[1] 141\n"
     ]
    }
   ],
   "source": [
    "song_split <- initial_split(song_data, prop = 0.001, strata = genre)\n",
    "song_train <- training(song_split)\n",
    "song_test <- testing(song_split)\n",
    "print(nrow(song_train))"
   ]
  },
  {
   "cell_type": "markdown",
   "id": "e542df16-89ef-4071-b564-1db96bd044c4",
   "metadata": {},
   "source": [
    "### Creating the KNN model"
   ]
  },
  {
   "cell_type": "code",
   "execution_count": 12,
   "id": "d59a70ab-1328-44ce-a9aa-e571ba49468f",
   "metadata": {},
   "outputs": [
    {
     "name": "stderr",
     "output_type": "stream",
     "text": [
      "Warning message:\n",
      "“Too little data to stratify.\n",
      "\u001b[36m•\u001b[39m Resampling will be unstratified.”\n"
     ]
    },
    {
     "data": {
      "text/plain": [
       "Recipe\n",
       "\n",
       "Inputs:\n",
       "\n",
       "      role #variables\n",
       "   outcome          1\n",
       " predictor         12\n",
       "\n",
       "Operations:\n",
       "\n",
       "Scaling for all_numeric()\n",
       "Centering for all_numeric()"
      ]
     },
     "metadata": {},
     "output_type": "display_data"
    },
    {
     "data": {
      "text/plain": [
       "K-Nearest Neighbor Model Specification (classification)\n",
       "\n",
       "Main Arguments:\n",
       "  neighbors = tune()\n",
       "  weight_func = rectangular\n",
       "\n",
       "Computational engine: kknn \n"
      ]
     },
     "metadata": {},
     "output_type": "display_data"
    },
    {
     "name": "stderr",
     "output_type": "stream",
     "text": [
      "Warning message:\n",
      "“The `...` are not used in this function but one or more objects were passed: 'tune'”\n",
      "\u001b[33m!\u001b[39m \u001b[33mFold01: internal:\n",
      "  No observations were detected in `truth` for level(s): 'A Capella', 'C...\n",
      "  Computation will proceed by ignoring those levels.\u001b[39m\n",
      "\n",
      "\u001b[33m!\u001b[39m \u001b[33mFold02: internal:\n",
      "  No observations were detected in `truth` for level(s): 'A Capella', 'C...\n",
      "  Computation will proceed by ignoring those levels.\u001b[39m\n",
      "\n",
      "\u001b[33m!\u001b[39m \u001b[33mFold03: internal:\n",
      "  No observations were detected in `truth` for level(s): 'A Capella', 'C...\n",
      "  Computation will proceed by ignoring those levels.\u001b[39m\n",
      "\n",
      "\u001b[33m!\u001b[39m \u001b[33mFold04: internal:\n",
      "  No observations were detected in `truth` for level(s): 'A Capella', 'C...\n",
      "  Computation will proceed by ignoring those levels.\u001b[39m\n",
      "\n",
      "\u001b[33m!\u001b[39m \u001b[33mFold05: internal:\n",
      "  No observations were detected in `truth` for level(s): 'A Capella', 'C...\n",
      "  Computation will proceed by ignoring those levels.\u001b[39m\n",
      "\n",
      "\u001b[33m!\u001b[39m \u001b[33mFold06: internal:\n",
      "  No observations were detected in `truth` for level(s): 'A Capella', 'C...\n",
      "  Computation will proceed by ignoring those levels.\u001b[39m\n",
      "\n",
      "\u001b[33m!\u001b[39m \u001b[33mFold07: internal:\n",
      "  No observations were detected in `truth` for level(s): 'A Capella', 'C...\n",
      "  Computation will proceed by ignoring those levels.\u001b[39m\n",
      "\n",
      "\u001b[33m!\u001b[39m \u001b[33mFold08: internal:\n",
      "  No observations were detected in `truth` for level(s): 'A Capella', 'C...\n",
      "  Computation will proceed by ignoring those levels.\u001b[39m\n",
      "\n",
      "\u001b[33m!\u001b[39m \u001b[33mFold09: internal:\n",
      "  No observations were detected in `truth` for level(s): 'A Capella', 'H...\n",
      "  Computation will proceed by ignoring those levels.\u001b[39m\n",
      "\n",
      "\u001b[33m!\u001b[39m \u001b[33mFold10: internal:\n",
      "  No observations were detected in `truth` for level(s): 'A Capella', 'C...\n",
      "  Computation will proceed by ignoring those levels.\u001b[39m\n",
      "\n"
     ]
    },
    {
     "data": {
      "text/html": [
       "0.26643109540636"
      ],
      "text/latex": [
       "0.26643109540636"
      ],
      "text/markdown": [
       "0.26643109540636"
      ],
      "text/plain": [
       "[1] 0.2664311"
      ]
     },
     "metadata": {},
     "output_type": "display_data"
    }
   ],
   "source": [
    "#First we will create the folds so we can cross validate to check for the best number of neighbors\n",
    "song_fold<-vfold_cv(song_train, v=10, strata=genre)\n",
    "#second we create the recipe\n",
    "song_recipe<- song_train |>\n",
    "                recipe(\"genre~.\") |>\n",
    "                step_scale(all_numeric())|>\n",
    "                step_center(all_numeric())\n",
    "song_recipe\n",
    "#lets create the model\n",
    "song_model <- nearest_neighbor(weight_func=\"rectangular\", neighbors=tune()) |>\n",
    "                set_engine(\"kknn\") |>\n",
    "                set_mode(\"classification\")\n",
    "song_model\n",
    "#lets create k values \n",
    "neighrbos = tibble(neighbors=seq(1, 10))\n",
    "#lets create the fit\n",
    "song_fit<- workflow()|>\n",
    "            add_recipe(song_recipe) |>\n",
    "            add_model(song_model) |>\n",
    "            tune_grid(resamples= song_fold, tune=neighrbos) |>\n",
    "            collect_metrics() |>\n",
    "            filter(.metric==\"accuracy\") |>\n",
    "            arrange(.metric) |>\n",
    "            slice_head() |>\n",
    "            pull(mean)\n",
    "song_fit"
   ]
  },
  {
   "cell_type": "code",
   "execution_count": 13,
   "id": "421f3345-ccfb-4d7a-8e69-419be58ffc0b",
   "metadata": {},
   "outputs": [
    {
     "name": "stderr",
     "output_type": "stream",
     "text": [
      "\u001b[33m!\u001b[39m \u001b[33mFold01: internal:\n",
      "  No observations were detected in `truth` for level(s): 'R&B', 'A Capel...\n",
      "  Computation will proceed by ignoring those levels.\u001b[39m\n",
      "\n",
      "\u001b[33m!\u001b[39m \u001b[33mFold02: internal:\n",
      "  No observations were detected in `truth` for level(s): 'R&B', 'A Capel...\n",
      "  Computation will proceed by ignoring those levels.\u001b[39m\n",
      "\n",
      "\u001b[33m!\u001b[39m \u001b[33mFold03: internal:\n",
      "  No observations were detected in `truth` for level(s): 'R&B', 'A Capel...\n",
      "  Computation will proceed by ignoring those levels.\u001b[39m\n",
      "\n",
      "\u001b[33m!\u001b[39m \u001b[33mFold04: internal:\n",
      "  No observations were detected in `truth` for level(s): 'Movie', 'R&B',...\n",
      "  Computation will proceed by ignoring those levels.\u001b[39m\n",
      "\n",
      "\u001b[33m!\u001b[39m \u001b[33mFold05: internal:\n",
      "  No observations were detected in `truth` for level(s): 'R&B', 'A Capel...\n",
      "  Computation will proceed by ignoring those levels.\u001b[39m\n",
      "\n",
      "\u001b[33m!\u001b[39m \u001b[33mFold06: internal:\n",
      "  No observations were detected in `truth` for level(s): 'R&B', 'A Capel...\n",
      "  Computation will proceed by ignoring those levels.\u001b[39m\n",
      "\n",
      "\u001b[33m!\u001b[39m \u001b[33mFold07: internal:\n",
      "  No observations were detected in `truth` for level(s): 'R&B', 'A Capel...\n",
      "  Computation will proceed by ignoring those levels.\u001b[39m\n",
      "\n",
      "\u001b[33m!\u001b[39m \u001b[33mFold08: internal:\n",
      "  No observations were detected in `truth` for level(s): 'Movie', 'R&B',...\n",
      "  Computation will proceed by ignoring those levels.\u001b[39m\n",
      "\n",
      "\u001b[33m!\u001b[39m \u001b[33mFold09: internal:\n",
      "  No observations were detected in `truth` for level(s): 'R&B', 'A Capel...\n",
      "  Computation will proceed by ignoring those levels.\u001b[39m\n",
      "\n",
      "\u001b[33m!\u001b[39m \u001b[33mFold10: internal:\n",
      "  No observations were detected in `truth` for level(s): 'R&B', 'A Capel...\n",
      "  Computation will proceed by ignoring those levels.\u001b[39m\n",
      "\n"
     ]
    },
    {
     "name": "stdout",
     "output_type": "stream",
     "text": [
      "[1] \"genre ~acousticness with mean 0.113333333333333  with distance  manhattan\"\n"
     ]
    },
    {
     "name": "stderr",
     "output_type": "stream",
     "text": [
      "\u001b[33m!\u001b[39m \u001b[33mFold01: internal:\n",
      "  No observations were detected in `truth` for level(s): 'R&B', 'A Capel...\n",
      "  Computation will proceed by ignoring those levels.\u001b[39m\n",
      "\n",
      "\u001b[33m!\u001b[39m \u001b[33mFold02: internal:\n",
      "  No observations were detected in `truth` for level(s): 'R&B', 'A Capel...\n",
      "  Computation will proceed by ignoring those levels.\u001b[39m\n",
      "\n",
      "\u001b[33m!\u001b[39m \u001b[33mFold03: internal:\n",
      "  No observations were detected in `truth` for level(s): 'R&B', 'A Capel...\n",
      "  Computation will proceed by ignoring those levels.\u001b[39m\n",
      "\n",
      "\u001b[33m!\u001b[39m \u001b[33mFold04: internal:\n",
      "  No observations were detected in `truth` for level(s): 'Movie', 'R&B',...\n",
      "  Computation will proceed by ignoring those levels.\u001b[39m\n",
      "\n",
      "\u001b[33m!\u001b[39m \u001b[33mFold05: internal:\n",
      "  No observations were detected in `truth` for level(s): 'R&B', 'A Capel...\n",
      "  Computation will proceed by ignoring those levels.\u001b[39m\n",
      "\n",
      "\u001b[33m!\u001b[39m \u001b[33mFold06: internal:\n",
      "  No observations were detected in `truth` for level(s): 'R&B', 'A Capel...\n",
      "  Computation will proceed by ignoring those levels.\u001b[39m\n",
      "\n",
      "\u001b[33m!\u001b[39m \u001b[33mFold07: internal:\n",
      "  No observations were detected in `truth` for level(s): 'R&B', 'A Capel...\n",
      "  Computation will proceed by ignoring those levels.\u001b[39m\n",
      "\n",
      "\u001b[33m!\u001b[39m \u001b[33mFold08: internal:\n",
      "  No observations were detected in `truth` for level(s): 'Movie', 'R&B',...\n",
      "  Computation will proceed by ignoring those levels.\u001b[39m\n",
      "\n",
      "\u001b[33m!\u001b[39m \u001b[33mFold09: internal:\n",
      "  No observations were detected in `truth` for level(s): 'R&B', 'A Capel...\n",
      "  Computation will proceed by ignoring those levels.\u001b[39m\n",
      "\n",
      "\u001b[33m!\u001b[39m \u001b[33mFold10: internal:\n",
      "  No observations were detected in `truth` for level(s): 'R&B', 'A Capel...\n",
      "  Computation will proceed by ignoring those levels.\u001b[39m\n",
      "\n"
     ]
    },
    {
     "name": "stdout",
     "output_type": "stream",
     "text": [
      "[1] \"genre ~acousticness with mean 0.113333333333333  with distance  euclidean\"\n"
     ]
    },
    {
     "name": "stderr",
     "output_type": "stream",
     "text": [
      "\u001b[33m!\u001b[39m \u001b[33mFold01: internal:\n",
      "  No observations were detected in `truth` for level(s): 'R&B', 'A Capel...\n",
      "  Computation will proceed by ignoring those levels.\u001b[39m\n",
      "\n",
      "\u001b[33m!\u001b[39m \u001b[33mFold02: internal:\n",
      "  No observations were detected in `truth` for level(s): 'R&B', 'A Capel...\n",
      "  Computation will proceed by ignoring those levels.\u001b[39m\n",
      "\n",
      "\u001b[33m!\u001b[39m \u001b[33mFold03: internal:\n",
      "  No observations were detected in `truth` for level(s): 'R&B', 'A Capel...\n",
      "  Computation will proceed by ignoring those levels.\u001b[39m\n",
      "\n",
      "\u001b[33m!\u001b[39m \u001b[33mFold04: internal:\n",
      "  No observations were detected in `truth` for level(s): 'Movie', 'R&B',...\n",
      "  Computation will proceed by ignoring those levels.\u001b[39m\n",
      "\n",
      "\u001b[33m!\u001b[39m \u001b[33mFold05: internal:\n",
      "  No observations were detected in `truth` for level(s): 'R&B', 'A Capel...\n",
      "  Computation will proceed by ignoring those levels.\u001b[39m\n",
      "\n",
      "\u001b[33m!\u001b[39m \u001b[33mFold06: internal:\n",
      "  No observations were detected in `truth` for level(s): 'R&B', 'A Capel...\n",
      "  Computation will proceed by ignoring those levels.\u001b[39m\n",
      "\n",
      "\u001b[33m!\u001b[39m \u001b[33mFold07: internal:\n",
      "  No observations were detected in `truth` for level(s): 'R&B', 'A Capel...\n",
      "  Computation will proceed by ignoring those levels.\u001b[39m\n",
      "\n",
      "\u001b[33m!\u001b[39m \u001b[33mFold08: internal:\n",
      "  No observations were detected in `truth` for level(s): 'Movie', 'R&B',...\n",
      "  Computation will proceed by ignoring those levels.\u001b[39m\n",
      "\n",
      "\u001b[33m!\u001b[39m \u001b[33mFold09: internal:\n",
      "  No observations were detected in `truth` for level(s): 'R&B', 'A Capel...\n",
      "  Computation will proceed by ignoring those levels.\u001b[39m\n",
      "\n",
      "\u001b[33m!\u001b[39m \u001b[33mFold10: internal:\n",
      "  No observations were detected in `truth` for level(s): 'R&B', 'A Capel...\n",
      "  Computation will proceed by ignoring those levels.\u001b[39m\n",
      "\n"
     ]
    },
    {
     "name": "stdout",
     "output_type": "stream",
     "text": [
      "[1] \"genre ~acousticness with mean 0.113333333333333  with distance  maximum\"\n"
     ]
    },
    {
     "name": "stderr",
     "output_type": "stream",
     "text": [
      "\u001b[33m!\u001b[39m \u001b[33mFold01: internal:\n",
      "  No observations were detected in `truth` for level(s): 'R&B', 'A Capel...\n",
      "  Computation will proceed by ignoring those levels.\u001b[39m\n",
      "\n",
      "\u001b[33m!\u001b[39m \u001b[33mFold02: internal:\n",
      "  No observations were detected in `truth` for level(s): 'R&B', 'A Capel...\n",
      "  Computation will proceed by ignoring those levels.\u001b[39m\n",
      "\n",
      "\u001b[33m!\u001b[39m \u001b[33mFold03: internal:\n",
      "  No observations were detected in `truth` for level(s): 'R&B', 'A Capel...\n",
      "  Computation will proceed by ignoring those levels.\u001b[39m\n",
      "\n",
      "\u001b[33m!\u001b[39m \u001b[33mFold04: internal:\n",
      "  No observations were detected in `truth` for level(s): 'Movie', 'R&B',...\n",
      "  Computation will proceed by ignoring those levels.\u001b[39m\n",
      "\n",
      "\u001b[33m!\u001b[39m \u001b[33mFold05: internal:\n",
      "  No observations were detected in `truth` for level(s): 'R&B', 'A Capel...\n",
      "  Computation will proceed by ignoring those levels.\u001b[39m\n",
      "\n",
      "\u001b[33m!\u001b[39m \u001b[33mFold06: internal:\n",
      "  No observations were detected in `truth` for level(s): 'R&B', 'A Capel...\n",
      "  Computation will proceed by ignoring those levels.\u001b[39m\n",
      "\n",
      "\u001b[33m!\u001b[39m \u001b[33mFold07: internal:\n",
      "  No observations were detected in `truth` for level(s): 'R&B', 'A Capel...\n",
      "  Computation will proceed by ignoring those levels.\u001b[39m\n",
      "\n",
      "\u001b[33m!\u001b[39m \u001b[33mFold08: internal:\n",
      "  No observations were detected in `truth` for level(s): 'Movie', 'R&B',...\n",
      "  Computation will proceed by ignoring those levels.\u001b[39m\n",
      "\n",
      "\u001b[33m!\u001b[39m \u001b[33mFold09: internal:\n",
      "  No observations were detected in `truth` for level(s): 'R&B', 'A Capel...\n",
      "  Computation will proceed by ignoring those levels.\u001b[39m\n",
      "\n",
      "\u001b[33m!\u001b[39m \u001b[33mFold10: internal:\n",
      "  No observations were detected in `truth` for level(s): 'R&B', 'A Capel...\n",
      "  Computation will proceed by ignoring those levels.\u001b[39m\n",
      "\n"
     ]
    },
    {
     "name": "stdout",
     "output_type": "stream",
     "text": [
      "[1] \"genre ~acousticness + danceability with mean 0.149047619047619  with distance  manhattan\"\n"
     ]
    },
    {
     "name": "stderr",
     "output_type": "stream",
     "text": [
      "\u001b[33m!\u001b[39m \u001b[33mFold01: internal:\n",
      "  No observations were detected in `truth` for level(s): 'R&B', 'A Capel...\n",
      "  Computation will proceed by ignoring those levels.\u001b[39m\n",
      "\n",
      "\u001b[33m!\u001b[39m \u001b[33mFold02: internal:\n",
      "  No observations were detected in `truth` for level(s): 'R&B', 'A Capel...\n",
      "  Computation will proceed by ignoring those levels.\u001b[39m\n",
      "\n",
      "\u001b[33m!\u001b[39m \u001b[33mFold03: internal:\n",
      "  No observations were detected in `truth` for level(s): 'R&B', 'A Capel...\n",
      "  Computation will proceed by ignoring those levels.\u001b[39m\n",
      "\n",
      "\u001b[33m!\u001b[39m \u001b[33mFold04: internal:\n",
      "  No observations were detected in `truth` for level(s): 'Movie', 'R&B',...\n",
      "  Computation will proceed by ignoring those levels.\u001b[39m\n",
      "\n",
      "\u001b[33m!\u001b[39m \u001b[33mFold05: internal:\n",
      "  No observations were detected in `truth` for level(s): 'R&B', 'A Capel...\n",
      "  Computation will proceed by ignoring those levels.\u001b[39m\n",
      "\n",
      "\u001b[33m!\u001b[39m \u001b[33mFold06: internal:\n",
      "  No observations were detected in `truth` for level(s): 'R&B', 'A Capel...\n",
      "  Computation will proceed by ignoring those levels.\u001b[39m\n",
      "\n",
      "\u001b[33m!\u001b[39m \u001b[33mFold07: internal:\n",
      "  No observations were detected in `truth` for level(s): 'R&B', 'A Capel...\n",
      "  Computation will proceed by ignoring those levels.\u001b[39m\n",
      "\n",
      "\u001b[33m!\u001b[39m \u001b[33mFold08: internal:\n",
      "  No observations were detected in `truth` for level(s): 'Movie', 'R&B',...\n",
      "  Computation will proceed by ignoring those levels.\u001b[39m\n",
      "\n",
      "\u001b[33m!\u001b[39m \u001b[33mFold09: internal:\n",
      "  No observations were detected in `truth` for level(s): 'R&B', 'A Capel...\n",
      "  Computation will proceed by ignoring those levels.\u001b[39m\n",
      "\n",
      "\u001b[33m!\u001b[39m \u001b[33mFold10: internal:\n",
      "  No observations were detected in `truth` for level(s): 'R&B', 'A Capel...\n",
      "  Computation will proceed by ignoring those levels.\u001b[39m\n",
      "\n"
     ]
    },
    {
     "name": "stdout",
     "output_type": "stream",
     "text": [
      "[1] \"genre ~acousticness + danceability with mean 0.149047619047619  with distance  euclidean\"\n"
     ]
    },
    {
     "name": "stderr",
     "output_type": "stream",
     "text": [
      "\u001b[33m!\u001b[39m \u001b[33mFold01: internal:\n",
      "  No observations were detected in `truth` for level(s): 'R&B', 'A Capel...\n",
      "  Computation will proceed by ignoring those levels.\u001b[39m\n",
      "\n",
      "\u001b[33m!\u001b[39m \u001b[33mFold02: internal:\n",
      "  No observations were detected in `truth` for level(s): 'R&B', 'A Capel...\n",
      "  Computation will proceed by ignoring those levels.\u001b[39m\n",
      "\n",
      "\u001b[33m!\u001b[39m \u001b[33mFold03: internal:\n",
      "  No observations were detected in `truth` for level(s): 'R&B', 'A Capel...\n",
      "  Computation will proceed by ignoring those levels.\u001b[39m\n",
      "\n",
      "\u001b[33m!\u001b[39m \u001b[33mFold04: internal:\n",
      "  No observations were detected in `truth` for level(s): 'Movie', 'R&B',...\n",
      "  Computation will proceed by ignoring those levels.\u001b[39m\n",
      "\n",
      "\u001b[33m!\u001b[39m \u001b[33mFold05: internal:\n",
      "  No observations were detected in `truth` for level(s): 'R&B', 'A Capel...\n",
      "  Computation will proceed by ignoring those levels.\u001b[39m\n",
      "\n",
      "\u001b[33m!\u001b[39m \u001b[33mFold06: internal:\n",
      "  No observations were detected in `truth` for level(s): 'R&B', 'A Capel...\n",
      "  Computation will proceed by ignoring those levels.\u001b[39m\n",
      "\n",
      "\u001b[33m!\u001b[39m \u001b[33mFold07: internal:\n",
      "  No observations were detected in `truth` for level(s): 'R&B', 'A Capel...\n",
      "  Computation will proceed by ignoring those levels.\u001b[39m\n",
      "\n",
      "\u001b[33m!\u001b[39m \u001b[33mFold08: internal:\n",
      "  No observations were detected in `truth` for level(s): 'Movie', 'R&B',...\n",
      "  Computation will proceed by ignoring those levels.\u001b[39m\n",
      "\n",
      "\u001b[33m!\u001b[39m \u001b[33mFold09: internal:\n",
      "  No observations were detected in `truth` for level(s): 'R&B', 'A Capel...\n",
      "  Computation will proceed by ignoring those levels.\u001b[39m\n",
      "\n",
      "\u001b[33m!\u001b[39m \u001b[33mFold10: internal:\n",
      "  No observations were detected in `truth` for level(s): 'R&B', 'A Capel...\n",
      "  Computation will proceed by ignoring those levels.\u001b[39m\n",
      "\n"
     ]
    },
    {
     "name": "stdout",
     "output_type": "stream",
     "text": [
      "[1] \"genre ~acousticness + danceability with mean 0.149047619047619  with distance  maximum\"\n"
     ]
    },
    {
     "name": "stderr",
     "output_type": "stream",
     "text": [
      "\u001b[33m!\u001b[39m \u001b[33mFold01: internal:\n",
      "  No observations were detected in `truth` for level(s): 'R&B', 'A Capel...\n",
      "  Computation will proceed by ignoring those levels.\u001b[39m\n",
      "\n",
      "\u001b[33m!\u001b[39m \u001b[33mFold02: internal:\n",
      "  No observations were detected in `truth` for level(s): 'R&B', 'A Capel...\n",
      "  Computation will proceed by ignoring those levels.\u001b[39m\n",
      "\n",
      "\u001b[33m!\u001b[39m \u001b[33mFold03: internal:\n",
      "  No observations were detected in `truth` for level(s): 'R&B', 'A Capel...\n",
      "  Computation will proceed by ignoring those levels.\u001b[39m\n",
      "\n",
      "\u001b[33m!\u001b[39m \u001b[33mFold04: internal:\n",
      "  No observations were detected in `truth` for level(s): 'Movie', 'R&B',...\n",
      "  Computation will proceed by ignoring those levels.\u001b[39m\n",
      "\n",
      "\u001b[33m!\u001b[39m \u001b[33mFold05: internal:\n",
      "  No observations were detected in `truth` for level(s): 'R&B', 'A Capel...\n",
      "  Computation will proceed by ignoring those levels.\u001b[39m\n",
      "\n",
      "\u001b[33m!\u001b[39m \u001b[33mFold06: internal:\n",
      "  No observations were detected in `truth` for level(s): 'R&B', 'A Capel...\n",
      "  Computation will proceed by ignoring those levels.\u001b[39m\n",
      "\n",
      "\u001b[33m!\u001b[39m \u001b[33mFold07: internal:\n",
      "  No observations were detected in `truth` for level(s): 'R&B', 'A Capel...\n",
      "  Computation will proceed by ignoring those levels.\u001b[39m\n",
      "\n",
      "\u001b[33m!\u001b[39m \u001b[33mFold08: internal:\n",
      "  No observations were detected in `truth` for level(s): 'Movie', 'R&B',...\n",
      "  Computation will proceed by ignoring those levels.\u001b[39m\n",
      "\n",
      "\u001b[33m!\u001b[39m \u001b[33mFold09: internal:\n",
      "  No observations were detected in `truth` for level(s): 'R&B', 'A Capel...\n",
      "  Computation will proceed by ignoring those levels.\u001b[39m\n",
      "\n",
      "\u001b[33m!\u001b[39m \u001b[33mFold10: internal:\n",
      "  No observations were detected in `truth` for level(s): 'R&B', 'A Capel...\n",
      "  Computation will proceed by ignoring those levels.\u001b[39m\n",
      "\n"
     ]
    },
    {
     "name": "stdout",
     "output_type": "stream",
     "text": [
      "[1] \"genre ~acousticness + danceability + duration_ms with mean 0.168571428571429  with distance  manhattan\"\n"
     ]
    },
    {
     "name": "stderr",
     "output_type": "stream",
     "text": [
      "\u001b[33m!\u001b[39m \u001b[33mFold01: internal:\n",
      "  No observations were detected in `truth` for level(s): 'R&B', 'A Capel...\n",
      "  Computation will proceed by ignoring those levels.\u001b[39m\n",
      "\n",
      "\u001b[33m!\u001b[39m \u001b[33mFold02: internal:\n",
      "  No observations were detected in `truth` for level(s): 'R&B', 'A Capel...\n",
      "  Computation will proceed by ignoring those levels.\u001b[39m\n",
      "\n",
      "\u001b[33m!\u001b[39m \u001b[33mFold03: internal:\n",
      "  No observations were detected in `truth` for level(s): 'R&B', 'A Capel...\n",
      "  Computation will proceed by ignoring those levels.\u001b[39m\n",
      "\n",
      "\u001b[33m!\u001b[39m \u001b[33mFold04: internal:\n",
      "  No observations were detected in `truth` for level(s): 'Movie', 'R&B',...\n",
      "  Computation will proceed by ignoring those levels.\u001b[39m\n",
      "\n",
      "\u001b[33m!\u001b[39m \u001b[33mFold05: internal:\n",
      "  No observations were detected in `truth` for level(s): 'R&B', 'A Capel...\n",
      "  Computation will proceed by ignoring those levels.\u001b[39m\n",
      "\n",
      "\u001b[33m!\u001b[39m \u001b[33mFold06: internal:\n",
      "  No observations were detected in `truth` for level(s): 'R&B', 'A Capel...\n",
      "  Computation will proceed by ignoring those levels.\u001b[39m\n",
      "\n",
      "\u001b[33m!\u001b[39m \u001b[33mFold07: internal:\n",
      "  No observations were detected in `truth` for level(s): 'R&B', 'A Capel...\n",
      "  Computation will proceed by ignoring those levels.\u001b[39m\n",
      "\n",
      "\u001b[33m!\u001b[39m \u001b[33mFold08: internal:\n",
      "  No observations were detected in `truth` for level(s): 'Movie', 'R&B',...\n",
      "  Computation will proceed by ignoring those levels.\u001b[39m\n",
      "\n",
      "\u001b[33m!\u001b[39m \u001b[33mFold09: internal:\n",
      "  No observations were detected in `truth` for level(s): 'R&B', 'A Capel...\n",
      "  Computation will proceed by ignoring those levels.\u001b[39m\n",
      "\n",
      "\u001b[33m!\u001b[39m \u001b[33mFold10: internal:\n",
      "  No observations were detected in `truth` for level(s): 'R&B', 'A Capel...\n",
      "  Computation will proceed by ignoring those levels.\u001b[39m\n",
      "\n"
     ]
    },
    {
     "name": "stdout",
     "output_type": "stream",
     "text": [
      "[1] \"genre ~acousticness + danceability + duration_ms with mean 0.168571428571429  with distance  euclidean\"\n"
     ]
    },
    {
     "name": "stderr",
     "output_type": "stream",
     "text": [
      "\u001b[33m!\u001b[39m \u001b[33mFold01: internal:\n",
      "  No observations were detected in `truth` for level(s): 'R&B', 'A Capel...\n",
      "  Computation will proceed by ignoring those levels.\u001b[39m\n",
      "\n",
      "\u001b[33m!\u001b[39m \u001b[33mFold02: internal:\n",
      "  No observations were detected in `truth` for level(s): 'R&B', 'A Capel...\n",
      "  Computation will proceed by ignoring those levels.\u001b[39m\n",
      "\n",
      "\u001b[33m!\u001b[39m \u001b[33mFold03: internal:\n",
      "  No observations were detected in `truth` for level(s): 'R&B', 'A Capel...\n",
      "  Computation will proceed by ignoring those levels.\u001b[39m\n",
      "\n",
      "\u001b[33m!\u001b[39m \u001b[33mFold04: internal:\n",
      "  No observations were detected in `truth` for level(s): 'Movie', 'R&B',...\n",
      "  Computation will proceed by ignoring those levels.\u001b[39m\n",
      "\n",
      "\u001b[33m!\u001b[39m \u001b[33mFold05: internal:\n",
      "  No observations were detected in `truth` for level(s): 'R&B', 'A Capel...\n",
      "  Computation will proceed by ignoring those levels.\u001b[39m\n",
      "\n",
      "\u001b[33m!\u001b[39m \u001b[33mFold06: internal:\n",
      "  No observations were detected in `truth` for level(s): 'R&B', 'A Capel...\n",
      "  Computation will proceed by ignoring those levels.\u001b[39m\n",
      "\n",
      "\u001b[33m!\u001b[39m \u001b[33mFold07: internal:\n",
      "  No observations were detected in `truth` for level(s): 'R&B', 'A Capel...\n",
      "  Computation will proceed by ignoring those levels.\u001b[39m\n",
      "\n",
      "\u001b[33m!\u001b[39m \u001b[33mFold08: internal:\n",
      "  No observations were detected in `truth` for level(s): 'Movie', 'R&B',...\n",
      "  Computation will proceed by ignoring those levels.\u001b[39m\n",
      "\n",
      "\u001b[33m!\u001b[39m \u001b[33mFold09: internal:\n",
      "  No observations were detected in `truth` for level(s): 'R&B', 'A Capel...\n",
      "  Computation will proceed by ignoring those levels.\u001b[39m\n",
      "\n",
      "\u001b[33m!\u001b[39m \u001b[33mFold10: internal:\n",
      "  No observations were detected in `truth` for level(s): 'R&B', 'A Capel...\n",
      "  Computation will proceed by ignoring those levels.\u001b[39m\n",
      "\n"
     ]
    },
    {
     "name": "stdout",
     "output_type": "stream",
     "text": [
      "[1] \"genre ~acousticness + danceability + duration_ms with mean 0.168571428571429  with distance  maximum\"\n"
     ]
    },
    {
     "name": "stderr",
     "output_type": "stream",
     "text": [
      "\u001b[33m!\u001b[39m \u001b[33mFold01: internal:\n",
      "  No observations were detected in `truth` for level(s): 'R&B', 'A Capel...\n",
      "  Computation will proceed by ignoring those levels.\u001b[39m\n",
      "\n",
      "\u001b[33m!\u001b[39m \u001b[33mFold02: internal:\n",
      "  No observations were detected in `truth` for level(s): 'R&B', 'A Capel...\n",
      "  Computation will proceed by ignoring those levels.\u001b[39m\n",
      "\n",
      "\u001b[33m!\u001b[39m \u001b[33mFold03: internal:\n",
      "  No observations were detected in `truth` for level(s): 'R&B', 'A Capel...\n",
      "  Computation will proceed by ignoring those levels.\u001b[39m\n",
      "\n",
      "\u001b[33m!\u001b[39m \u001b[33mFold04: internal:\n",
      "  No observations were detected in `truth` for level(s): 'Movie', 'R&B',...\n",
      "  Computation will proceed by ignoring those levels.\u001b[39m\n",
      "\n",
      "\u001b[33m!\u001b[39m \u001b[33mFold05: internal:\n",
      "  No observations were detected in `truth` for level(s): 'R&B', 'A Capel...\n",
      "  Computation will proceed by ignoring those levels.\u001b[39m\n",
      "\n",
      "\u001b[33m!\u001b[39m \u001b[33mFold06: internal:\n",
      "  No observations were detected in `truth` for level(s): 'R&B', 'A Capel...\n",
      "  Computation will proceed by ignoring those levels.\u001b[39m\n",
      "\n",
      "\u001b[33m!\u001b[39m \u001b[33mFold07: internal:\n",
      "  No observations were detected in `truth` for level(s): 'R&B', 'A Capel...\n",
      "  Computation will proceed by ignoring those levels.\u001b[39m\n",
      "\n",
      "\u001b[33m!\u001b[39m \u001b[33mFold08: internal:\n",
      "  No observations were detected in `truth` for level(s): 'Movie', 'R&B',...\n",
      "  Computation will proceed by ignoring those levels.\u001b[39m\n",
      "\n",
      "\u001b[33m!\u001b[39m \u001b[33mFold09: internal:\n",
      "  No observations were detected in `truth` for level(s): 'R&B', 'A Capel...\n",
      "  Computation will proceed by ignoring those levels.\u001b[39m\n",
      "\n",
      "\u001b[33m!\u001b[39m \u001b[33mFold10: internal:\n",
      "  No observations were detected in `truth` for level(s): 'R&B', 'A Capel...\n",
      "  Computation will proceed by ignoring those levels.\u001b[39m\n",
      "\n"
     ]
    },
    {
     "name": "stdout",
     "output_type": "stream",
     "text": [
      "[1] \"genre ~acousticness + danceability + duration_ms + energy with mean 0.268571428571429  with distance  manhattan\"\n"
     ]
    },
    {
     "name": "stderr",
     "output_type": "stream",
     "text": [
      "\u001b[33m!\u001b[39m \u001b[33mFold01: internal:\n",
      "  No observations were detected in `truth` for level(s): 'R&B', 'A Capel...\n",
      "  Computation will proceed by ignoring those levels.\u001b[39m\n",
      "\n",
      "\u001b[33m!\u001b[39m \u001b[33mFold02: internal:\n",
      "  No observations were detected in `truth` for level(s): 'R&B', 'A Capel...\n",
      "  Computation will proceed by ignoring those levels.\u001b[39m\n",
      "\n",
      "\u001b[33m!\u001b[39m \u001b[33mFold03: internal:\n",
      "  No observations were detected in `truth` for level(s): 'R&B', 'A Capel...\n",
      "  Computation will proceed by ignoring those levels.\u001b[39m\n",
      "\n",
      "\u001b[33m!\u001b[39m \u001b[33mFold04: internal:\n",
      "  No observations were detected in `truth` for level(s): 'Movie', 'R&B',...\n",
      "  Computation will proceed by ignoring those levels.\u001b[39m\n",
      "\n",
      "\u001b[33m!\u001b[39m \u001b[33mFold05: internal:\n",
      "  No observations were detected in `truth` for level(s): 'R&B', 'A Capel...\n",
      "  Computation will proceed by ignoring those levels.\u001b[39m\n",
      "\n",
      "\u001b[33m!\u001b[39m \u001b[33mFold06: internal:\n",
      "  No observations were detected in `truth` for level(s): 'R&B', 'A Capel...\n",
      "  Computation will proceed by ignoring those levels.\u001b[39m\n",
      "\n",
      "\u001b[33m!\u001b[39m \u001b[33mFold07: internal:\n",
      "  No observations were detected in `truth` for level(s): 'R&B', 'A Capel...\n",
      "  Computation will proceed by ignoring those levels.\u001b[39m\n",
      "\n",
      "\u001b[33m!\u001b[39m \u001b[33mFold08: internal:\n",
      "  No observations were detected in `truth` for level(s): 'Movie', 'R&B',...\n",
      "  Computation will proceed by ignoring those levels.\u001b[39m\n",
      "\n",
      "\u001b[33m!\u001b[39m \u001b[33mFold09: internal:\n",
      "  No observations were detected in `truth` for level(s): 'R&B', 'A Capel...\n",
      "  Computation will proceed by ignoring those levels.\u001b[39m\n",
      "\n",
      "\u001b[33m!\u001b[39m \u001b[33mFold10: internal:\n",
      "  No observations were detected in `truth` for level(s): 'R&B', 'A Capel...\n",
      "  Computation will proceed by ignoring those levels.\u001b[39m\n",
      "\n"
     ]
    },
    {
     "name": "stdout",
     "output_type": "stream",
     "text": [
      "[1] \"genre ~acousticness + danceability + duration_ms + energy with mean 0.268571428571429  with distance  euclidean\"\n"
     ]
    },
    {
     "name": "stderr",
     "output_type": "stream",
     "text": [
      "\u001b[33m!\u001b[39m \u001b[33mFold01: internal:\n",
      "  No observations were detected in `truth` for level(s): 'R&B', 'A Capel...\n",
      "  Computation will proceed by ignoring those levels.\u001b[39m\n",
      "\n",
      "\u001b[33m!\u001b[39m \u001b[33mFold02: internal:\n",
      "  No observations were detected in `truth` for level(s): 'R&B', 'A Capel...\n",
      "  Computation will proceed by ignoring those levels.\u001b[39m\n",
      "\n",
      "\u001b[33m!\u001b[39m \u001b[33mFold03: internal:\n",
      "  No observations were detected in `truth` for level(s): 'R&B', 'A Capel...\n",
      "  Computation will proceed by ignoring those levels.\u001b[39m\n",
      "\n",
      "\u001b[33m!\u001b[39m \u001b[33mFold04: internal:\n",
      "  No observations were detected in `truth` for level(s): 'Movie', 'R&B',...\n",
      "  Computation will proceed by ignoring those levels.\u001b[39m\n",
      "\n",
      "\u001b[33m!\u001b[39m \u001b[33mFold05: internal:\n",
      "  No observations were detected in `truth` for level(s): 'R&B', 'A Capel...\n",
      "  Computation will proceed by ignoring those levels.\u001b[39m\n",
      "\n",
      "\u001b[33m!\u001b[39m \u001b[33mFold06: internal:\n",
      "  No observations were detected in `truth` for level(s): 'R&B', 'A Capel...\n",
      "  Computation will proceed by ignoring those levels.\u001b[39m\n",
      "\n",
      "\u001b[33m!\u001b[39m \u001b[33mFold07: internal:\n",
      "  No observations were detected in `truth` for level(s): 'R&B', 'A Capel...\n",
      "  Computation will proceed by ignoring those levels.\u001b[39m\n",
      "\n",
      "\u001b[33m!\u001b[39m \u001b[33mFold08: internal:\n",
      "  No observations were detected in `truth` for level(s): 'Movie', 'R&B',...\n",
      "  Computation will proceed by ignoring those levels.\u001b[39m\n",
      "\n",
      "\u001b[33m!\u001b[39m \u001b[33mFold09: internal:\n",
      "  No observations were detected in `truth` for level(s): 'R&B', 'A Capel...\n",
      "  Computation will proceed by ignoring those levels.\u001b[39m\n",
      "\n",
      "\u001b[33m!\u001b[39m \u001b[33mFold10: internal:\n",
      "  No observations were detected in `truth` for level(s): 'R&B', 'A Capel...\n",
      "  Computation will proceed by ignoring those levels.\u001b[39m\n",
      "\n"
     ]
    },
    {
     "name": "stdout",
     "output_type": "stream",
     "text": [
      "[1] \"genre ~acousticness + danceability + duration_ms + energy with mean 0.268571428571429  with distance  maximum\"\n"
     ]
    },
    {
     "name": "stderr",
     "output_type": "stream",
     "text": [
      "\u001b[33m!\u001b[39m \u001b[33mFold01: internal:\n",
      "  No observations were detected in `truth` for level(s): 'R&B', 'A Capel...\n",
      "  Computation will proceed by ignoring those levels.\u001b[39m\n",
      "\n",
      "\u001b[33m!\u001b[39m \u001b[33mFold02: internal:\n",
      "  No observations were detected in `truth` for level(s): 'R&B', 'A Capel...\n",
      "  Computation will proceed by ignoring those levels.\u001b[39m\n",
      "\n",
      "\u001b[33m!\u001b[39m \u001b[33mFold03: internal:\n",
      "  No observations were detected in `truth` for level(s): 'R&B', 'A Capel...\n",
      "  Computation will proceed by ignoring those levels.\u001b[39m\n",
      "\n",
      "\u001b[33m!\u001b[39m \u001b[33mFold04: internal:\n",
      "  No observations were detected in `truth` for level(s): 'Movie', 'R&B',...\n",
      "  Computation will proceed by ignoring those levels.\u001b[39m\n",
      "\n",
      "\u001b[33m!\u001b[39m \u001b[33mFold05: internal:\n",
      "  No observations were detected in `truth` for level(s): 'R&B', 'A Capel...\n",
      "  Computation will proceed by ignoring those levels.\u001b[39m\n",
      "\n",
      "\u001b[33m!\u001b[39m \u001b[33mFold06: internal:\n",
      "  No observations were detected in `truth` for level(s): 'R&B', 'A Capel...\n",
      "  Computation will proceed by ignoring those levels.\u001b[39m\n",
      "\n",
      "\u001b[33m!\u001b[39m \u001b[33mFold07: internal:\n",
      "  No observations were detected in `truth` for level(s): 'R&B', 'A Capel...\n",
      "  Computation will proceed by ignoring those levels.\u001b[39m\n",
      "\n",
      "\u001b[33m!\u001b[39m \u001b[33mFold08: internal:\n",
      "  No observations were detected in `truth` for level(s): 'Movie', 'R&B',...\n",
      "  Computation will proceed by ignoring those levels.\u001b[39m\n",
      "\n",
      "\u001b[33m!\u001b[39m \u001b[33mFold09: internal:\n",
      "  No observations were detected in `truth` for level(s): 'R&B', 'A Capel...\n",
      "  Computation will proceed by ignoring those levels.\u001b[39m\n",
      "\n",
      "\u001b[33m!\u001b[39m \u001b[33mFold10: internal:\n",
      "  No observations were detected in `truth` for level(s): 'R&B', 'A Capel...\n",
      "  Computation will proceed by ignoring those levels.\u001b[39m\n",
      "\n"
     ]
    },
    {
     "name": "stdout",
     "output_type": "stream",
     "text": [
      "[1] \"genre ~acousticness + danceability + duration_ms + energy + instrumentalness with mean 0.318571428571429  with distance  manhattan\"\n"
     ]
    },
    {
     "name": "stderr",
     "output_type": "stream",
     "text": [
      "\u001b[33m!\u001b[39m \u001b[33mFold01: internal:\n",
      "  No observations were detected in `truth` for level(s): 'R&B', 'A Capel...\n",
      "  Computation will proceed by ignoring those levels.\u001b[39m\n",
      "\n",
      "\u001b[33m!\u001b[39m \u001b[33mFold02: internal:\n",
      "  No observations were detected in `truth` for level(s): 'R&B', 'A Capel...\n",
      "  Computation will proceed by ignoring those levels.\u001b[39m\n",
      "\n",
      "\u001b[33m!\u001b[39m \u001b[33mFold03: internal:\n",
      "  No observations were detected in `truth` for level(s): 'R&B', 'A Capel...\n",
      "  Computation will proceed by ignoring those levels.\u001b[39m\n",
      "\n",
      "\u001b[33m!\u001b[39m \u001b[33mFold04: internal:\n",
      "  No observations were detected in `truth` for level(s): 'Movie', 'R&B',...\n",
      "  Computation will proceed by ignoring those levels.\u001b[39m\n",
      "\n",
      "\u001b[33m!\u001b[39m \u001b[33mFold05: internal:\n",
      "  No observations were detected in `truth` for level(s): 'R&B', 'A Capel...\n",
      "  Computation will proceed by ignoring those levels.\u001b[39m\n",
      "\n",
      "\u001b[33m!\u001b[39m \u001b[33mFold06: internal:\n",
      "  No observations were detected in `truth` for level(s): 'R&B', 'A Capel...\n",
      "  Computation will proceed by ignoring those levels.\u001b[39m\n",
      "\n",
      "\u001b[33m!\u001b[39m \u001b[33mFold07: internal:\n",
      "  No observations were detected in `truth` for level(s): 'R&B', 'A Capel...\n",
      "  Computation will proceed by ignoring those levels.\u001b[39m\n",
      "\n",
      "\u001b[33m!\u001b[39m \u001b[33mFold08: internal:\n",
      "  No observations were detected in `truth` for level(s): 'Movie', 'R&B',...\n",
      "  Computation will proceed by ignoring those levels.\u001b[39m\n",
      "\n",
      "\u001b[33m!\u001b[39m \u001b[33mFold09: internal:\n",
      "  No observations were detected in `truth` for level(s): 'R&B', 'A Capel...\n",
      "  Computation will proceed by ignoring those levels.\u001b[39m\n",
      "\n",
      "\u001b[33m!\u001b[39m \u001b[33mFold10: internal:\n",
      "  No observations were detected in `truth` for level(s): 'R&B', 'A Capel...\n",
      "  Computation will proceed by ignoring those levels.\u001b[39m\n",
      "\n"
     ]
    },
    {
     "name": "stdout",
     "output_type": "stream",
     "text": [
      "[1] \"genre ~acousticness + danceability + duration_ms + energy + instrumentalness with mean 0.318571428571429  with distance  euclidean\"\n"
     ]
    },
    {
     "name": "stderr",
     "output_type": "stream",
     "text": [
      "\u001b[33m!\u001b[39m \u001b[33mFold01: internal:\n",
      "  No observations were detected in `truth` for level(s): 'R&B', 'A Capel...\n",
      "  Computation will proceed by ignoring those levels.\u001b[39m\n",
      "\n",
      "\u001b[33m!\u001b[39m \u001b[33mFold02: internal:\n",
      "  No observations were detected in `truth` for level(s): 'R&B', 'A Capel...\n",
      "  Computation will proceed by ignoring those levels.\u001b[39m\n",
      "\n",
      "\u001b[33m!\u001b[39m \u001b[33mFold03: internal:\n",
      "  No observations were detected in `truth` for level(s): 'R&B', 'A Capel...\n",
      "  Computation will proceed by ignoring those levels.\u001b[39m\n",
      "\n",
      "\u001b[33m!\u001b[39m \u001b[33mFold04: internal:\n",
      "  No observations were detected in `truth` for level(s): 'Movie', 'R&B',...\n",
      "  Computation will proceed by ignoring those levels.\u001b[39m\n",
      "\n",
      "\u001b[33m!\u001b[39m \u001b[33mFold05: internal:\n",
      "  No observations were detected in `truth` for level(s): 'R&B', 'A Capel...\n",
      "  Computation will proceed by ignoring those levels.\u001b[39m\n",
      "\n",
      "\u001b[33m!\u001b[39m \u001b[33mFold06: internal:\n",
      "  No observations were detected in `truth` for level(s): 'R&B', 'A Capel...\n",
      "  Computation will proceed by ignoring those levels.\u001b[39m\n",
      "\n",
      "\u001b[33m!\u001b[39m \u001b[33mFold07: internal:\n",
      "  No observations were detected in `truth` for level(s): 'R&B', 'A Capel...\n",
      "  Computation will proceed by ignoring those levels.\u001b[39m\n",
      "\n",
      "\u001b[33m!\u001b[39m \u001b[33mFold08: internal:\n",
      "  No observations were detected in `truth` for level(s): 'Movie', 'R&B',...\n",
      "  Computation will proceed by ignoring those levels.\u001b[39m\n",
      "\n",
      "\u001b[33m!\u001b[39m \u001b[33mFold09: internal:\n",
      "  No observations were detected in `truth` for level(s): 'R&B', 'A Capel...\n",
      "  Computation will proceed by ignoring those levels.\u001b[39m\n",
      "\n",
      "\u001b[33m!\u001b[39m \u001b[33mFold10: internal:\n",
      "  No observations were detected in `truth` for level(s): 'R&B', 'A Capel...\n",
      "  Computation will proceed by ignoring those levels.\u001b[39m\n",
      "\n"
     ]
    },
    {
     "name": "stdout",
     "output_type": "stream",
     "text": [
      "[1] \"genre ~acousticness + danceability + duration_ms + energy + instrumentalness with mean 0.318571428571429  with distance  maximum\"\n"
     ]
    },
    {
     "name": "stderr",
     "output_type": "stream",
     "text": [
      "\u001b[33m!\u001b[39m \u001b[33mFold01: internal:\n",
      "  No observations were detected in `truth` for level(s): 'R&B', 'A Capel...\n",
      "  Computation will proceed by ignoring those levels.\u001b[39m\n",
      "\n",
      "\u001b[33m!\u001b[39m \u001b[33mFold02: internal:\n",
      "  No observations were detected in `truth` for level(s): 'R&B', 'A Capel...\n",
      "  Computation will proceed by ignoring those levels.\u001b[39m\n",
      "\n",
      "\u001b[33m!\u001b[39m \u001b[33mFold03: internal:\n",
      "  No observations were detected in `truth` for level(s): 'R&B', 'A Capel...\n",
      "  Computation will proceed by ignoring those levels.\u001b[39m\n",
      "\n",
      "\u001b[33m!\u001b[39m \u001b[33mFold04: internal:\n",
      "  No observations were detected in `truth` for level(s): 'Movie', 'R&B',...\n",
      "  Computation will proceed by ignoring those levels.\u001b[39m\n",
      "\n",
      "\u001b[33m!\u001b[39m \u001b[33mFold05: internal:\n",
      "  No observations were detected in `truth` for level(s): 'R&B', 'A Capel...\n",
      "  Computation will proceed by ignoring those levels.\u001b[39m\n",
      "\n",
      "\u001b[33m!\u001b[39m \u001b[33mFold06: internal:\n",
      "  No observations were detected in `truth` for level(s): 'R&B', 'A Capel...\n",
      "  Computation will proceed by ignoring those levels.\u001b[39m\n",
      "\n",
      "\u001b[33m!\u001b[39m \u001b[33mFold07: internal:\n",
      "  No observations were detected in `truth` for level(s): 'R&B', 'A Capel...\n",
      "  Computation will proceed by ignoring those levels.\u001b[39m\n",
      "\n",
      "\u001b[33m!\u001b[39m \u001b[33mFold08: internal:\n",
      "  No observations were detected in `truth` for level(s): 'Movie', 'R&B',...\n",
      "  Computation will proceed by ignoring those levels.\u001b[39m\n",
      "\n",
      "\u001b[33m!\u001b[39m \u001b[33mFold09: internal:\n",
      "  No observations were detected in `truth` for level(s): 'R&B', 'A Capel...\n",
      "  Computation will proceed by ignoring those levels.\u001b[39m\n",
      "\n",
      "\u001b[33m!\u001b[39m \u001b[33mFold10: internal:\n",
      "  No observations were detected in `truth` for level(s): 'R&B', 'A Capel...\n",
      "  Computation will proceed by ignoring those levels.\u001b[39m\n",
      "\n"
     ]
    },
    {
     "name": "stdout",
     "output_type": "stream",
     "text": [
      "[1] \"genre ~acousticness + danceability + duration_ms + energy + instrumentalness + key with mean 0.254285714285714  with distance  manhattan\"\n"
     ]
    },
    {
     "name": "stderr",
     "output_type": "stream",
     "text": [
      "\u001b[33m!\u001b[39m \u001b[33mFold01: internal:\n",
      "  No observations were detected in `truth` for level(s): 'R&B', 'A Capel...\n",
      "  Computation will proceed by ignoring those levels.\u001b[39m\n",
      "\n",
      "\u001b[33m!\u001b[39m \u001b[33mFold02: internal:\n",
      "  No observations were detected in `truth` for level(s): 'R&B', 'A Capel...\n",
      "  Computation will proceed by ignoring those levels.\u001b[39m\n",
      "\n",
      "\u001b[33m!\u001b[39m \u001b[33mFold03: internal:\n",
      "  No observations were detected in `truth` for level(s): 'R&B', 'A Capel...\n",
      "  Computation will proceed by ignoring those levels.\u001b[39m\n",
      "\n",
      "\u001b[33m!\u001b[39m \u001b[33mFold04: internal:\n",
      "  No observations were detected in `truth` for level(s): 'Movie', 'R&B',...\n",
      "  Computation will proceed by ignoring those levels.\u001b[39m\n",
      "\n",
      "\u001b[33m!\u001b[39m \u001b[33mFold05: internal:\n",
      "  No observations were detected in `truth` for level(s): 'R&B', 'A Capel...\n",
      "  Computation will proceed by ignoring those levels.\u001b[39m\n",
      "\n",
      "\u001b[33m!\u001b[39m \u001b[33mFold06: internal:\n",
      "  No observations were detected in `truth` for level(s): 'R&B', 'A Capel...\n",
      "  Computation will proceed by ignoring those levels.\u001b[39m\n",
      "\n",
      "\u001b[33m!\u001b[39m \u001b[33mFold07: internal:\n",
      "  No observations were detected in `truth` for level(s): 'R&B', 'A Capel...\n",
      "  Computation will proceed by ignoring those levels.\u001b[39m\n",
      "\n",
      "\u001b[33m!\u001b[39m \u001b[33mFold08: internal:\n",
      "  No observations were detected in `truth` for level(s): 'Movie', 'R&B',...\n",
      "  Computation will proceed by ignoring those levels.\u001b[39m\n",
      "\n",
      "\u001b[33m!\u001b[39m \u001b[33mFold09: internal:\n",
      "  No observations were detected in `truth` for level(s): 'R&B', 'A Capel...\n",
      "  Computation will proceed by ignoring those levels.\u001b[39m\n",
      "\n",
      "\u001b[33m!\u001b[39m \u001b[33mFold10: internal:\n",
      "  No observations were detected in `truth` for level(s): 'R&B', 'A Capel...\n",
      "  Computation will proceed by ignoring those levels.\u001b[39m\n",
      "\n"
     ]
    },
    {
     "name": "stdout",
     "output_type": "stream",
     "text": [
      "[1] \"genre ~acousticness + danceability + duration_ms + energy + instrumentalness + key with mean 0.254285714285714  with distance  euclidean\"\n"
     ]
    },
    {
     "name": "stderr",
     "output_type": "stream",
     "text": [
      "\u001b[33m!\u001b[39m \u001b[33mFold01: internal:\n",
      "  No observations were detected in `truth` for level(s): 'R&B', 'A Capel...\n",
      "  Computation will proceed by ignoring those levels.\u001b[39m\n",
      "\n",
      "\u001b[33m!\u001b[39m \u001b[33mFold02: internal:\n",
      "  No observations were detected in `truth` for level(s): 'R&B', 'A Capel...\n",
      "  Computation will proceed by ignoring those levels.\u001b[39m\n",
      "\n",
      "\u001b[33m!\u001b[39m \u001b[33mFold03: internal:\n",
      "  No observations were detected in `truth` for level(s): 'R&B', 'A Capel...\n",
      "  Computation will proceed by ignoring those levels.\u001b[39m\n",
      "\n",
      "\u001b[33m!\u001b[39m \u001b[33mFold04: internal:\n",
      "  No observations were detected in `truth` for level(s): 'Movie', 'R&B',...\n",
      "  Computation will proceed by ignoring those levels.\u001b[39m\n",
      "\n",
      "\u001b[33m!\u001b[39m \u001b[33mFold05: internal:\n",
      "  No observations were detected in `truth` for level(s): 'R&B', 'A Capel...\n",
      "  Computation will proceed by ignoring those levels.\u001b[39m\n",
      "\n",
      "\u001b[33m!\u001b[39m \u001b[33mFold06: internal:\n",
      "  No observations were detected in `truth` for level(s): 'R&B', 'A Capel...\n",
      "  Computation will proceed by ignoring those levels.\u001b[39m\n",
      "\n",
      "\u001b[33m!\u001b[39m \u001b[33mFold07: internal:\n",
      "  No observations were detected in `truth` for level(s): 'R&B', 'A Capel...\n",
      "  Computation will proceed by ignoring those levels.\u001b[39m\n",
      "\n",
      "\u001b[33m!\u001b[39m \u001b[33mFold08: internal:\n",
      "  No observations were detected in `truth` for level(s): 'Movie', 'R&B',...\n",
      "  Computation will proceed by ignoring those levels.\u001b[39m\n",
      "\n",
      "\u001b[33m!\u001b[39m \u001b[33mFold09: internal:\n",
      "  No observations were detected in `truth` for level(s): 'R&B', 'A Capel...\n",
      "  Computation will proceed by ignoring those levels.\u001b[39m\n",
      "\n",
      "\u001b[33m!\u001b[39m \u001b[33mFold10: internal:\n",
      "  No observations were detected in `truth` for level(s): 'R&B', 'A Capel...\n",
      "  Computation will proceed by ignoring those levels.\u001b[39m\n",
      "\n"
     ]
    },
    {
     "name": "stdout",
     "output_type": "stream",
     "text": [
      "[1] \"genre ~acousticness + danceability + duration_ms + energy + instrumentalness + key with mean 0.254285714285714  with distance  maximum\"\n"
     ]
    },
    {
     "name": "stderr",
     "output_type": "stream",
     "text": [
      "\u001b[33m!\u001b[39m \u001b[33mFold01: internal:\n",
      "  No observations were detected in `truth` for level(s): 'R&B', 'A Capel...\n",
      "  Computation will proceed by ignoring those levels.\u001b[39m\n",
      "\n",
      "\u001b[33m!\u001b[39m \u001b[33mFold02: internal:\n",
      "  No observations were detected in `truth` for level(s): 'R&B', 'A Capel...\n",
      "  Computation will proceed by ignoring those levels.\u001b[39m\n",
      "\n",
      "\u001b[33m!\u001b[39m \u001b[33mFold03: internal:\n",
      "  No observations were detected in `truth` for level(s): 'R&B', 'A Capel...\n",
      "  Computation will proceed by ignoring those levels.\u001b[39m\n",
      "\n",
      "\u001b[33m!\u001b[39m \u001b[33mFold04: internal:\n",
      "  No observations were detected in `truth` for level(s): 'Movie', 'R&B',...\n",
      "  Computation will proceed by ignoring those levels.\u001b[39m\n",
      "\n",
      "\u001b[33m!\u001b[39m \u001b[33mFold05: internal:\n",
      "  No observations were detected in `truth` for level(s): 'R&B', 'A Capel...\n",
      "  Computation will proceed by ignoring those levels.\u001b[39m\n",
      "\n",
      "\u001b[33m!\u001b[39m \u001b[33mFold06: internal:\n",
      "  No observations were detected in `truth` for level(s): 'R&B', 'A Capel...\n",
      "  Computation will proceed by ignoring those levels.\u001b[39m\n",
      "\n",
      "\u001b[33m!\u001b[39m \u001b[33mFold07: internal:\n",
      "  No observations were detected in `truth` for level(s): 'R&B', 'A Capel...\n",
      "  Computation will proceed by ignoring those levels.\u001b[39m\n",
      "\n",
      "\u001b[33m!\u001b[39m \u001b[33mFold08: internal:\n",
      "  No observations were detected in `truth` for level(s): 'Movie', 'R&B',...\n",
      "  Computation will proceed by ignoring those levels.\u001b[39m\n",
      "\n",
      "\u001b[33m!\u001b[39m \u001b[33mFold09: internal:\n",
      "  No observations were detected in `truth` for level(s): 'R&B', 'A Capel...\n",
      "  Computation will proceed by ignoring those levels.\u001b[39m\n",
      "\n",
      "\u001b[33m!\u001b[39m \u001b[33mFold10: internal:\n",
      "  No observations were detected in `truth` for level(s): 'R&B', 'A Capel...\n",
      "  Computation will proceed by ignoring those levels.\u001b[39m\n",
      "\n"
     ]
    },
    {
     "name": "stdout",
     "output_type": "stream",
     "text": [
      "[1] \"genre ~acousticness + danceability + duration_ms + energy + instrumentalness + key + loudness with mean 0.303333333333333  with distance  manhattan\"\n"
     ]
    },
    {
     "name": "stderr",
     "output_type": "stream",
     "text": [
      "\u001b[33m!\u001b[39m \u001b[33mFold01: internal:\n",
      "  No observations were detected in `truth` for level(s): 'R&B', 'A Capel...\n",
      "  Computation will proceed by ignoring those levels.\u001b[39m\n",
      "\n",
      "\u001b[33m!\u001b[39m \u001b[33mFold02: internal:\n",
      "  No observations were detected in `truth` for level(s): 'R&B', 'A Capel...\n",
      "  Computation will proceed by ignoring those levels.\u001b[39m\n",
      "\n",
      "\u001b[33m!\u001b[39m \u001b[33mFold03: internal:\n",
      "  No observations were detected in `truth` for level(s): 'R&B', 'A Capel...\n",
      "  Computation will proceed by ignoring those levels.\u001b[39m\n",
      "\n",
      "\u001b[33m!\u001b[39m \u001b[33mFold04: internal:\n",
      "  No observations were detected in `truth` for level(s): 'Movie', 'R&B',...\n",
      "  Computation will proceed by ignoring those levels.\u001b[39m\n",
      "\n",
      "\u001b[33m!\u001b[39m \u001b[33mFold05: internal:\n",
      "  No observations were detected in `truth` for level(s): 'R&B', 'A Capel...\n",
      "  Computation will proceed by ignoring those levels.\u001b[39m\n",
      "\n",
      "\u001b[33m!\u001b[39m \u001b[33mFold06: internal:\n",
      "  No observations were detected in `truth` for level(s): 'R&B', 'A Capel...\n",
      "  Computation will proceed by ignoring those levels.\u001b[39m\n",
      "\n",
      "\u001b[33m!\u001b[39m \u001b[33mFold07: internal:\n",
      "  No observations were detected in `truth` for level(s): 'R&B', 'A Capel...\n",
      "  Computation will proceed by ignoring those levels.\u001b[39m\n",
      "\n",
      "\u001b[33m!\u001b[39m \u001b[33mFold08: internal:\n",
      "  No observations were detected in `truth` for level(s): 'Movie', 'R&B',...\n",
      "  Computation will proceed by ignoring those levels.\u001b[39m\n",
      "\n",
      "\u001b[33m!\u001b[39m \u001b[33mFold09: internal:\n",
      "  No observations were detected in `truth` for level(s): 'R&B', 'A Capel...\n",
      "  Computation will proceed by ignoring those levels.\u001b[39m\n",
      "\n",
      "\u001b[33m!\u001b[39m \u001b[33mFold10: internal:\n",
      "  No observations were detected in `truth` for level(s): 'R&B', 'A Capel...\n",
      "  Computation will proceed by ignoring those levels.\u001b[39m\n",
      "\n"
     ]
    },
    {
     "name": "stdout",
     "output_type": "stream",
     "text": [
      "[1] \"genre ~acousticness + danceability + duration_ms + energy + instrumentalness + key + loudness with mean 0.303333333333333  with distance  euclidean\"\n"
     ]
    },
    {
     "name": "stderr",
     "output_type": "stream",
     "text": [
      "\u001b[33m!\u001b[39m \u001b[33mFold01: internal:\n",
      "  No observations were detected in `truth` for level(s): 'R&B', 'A Capel...\n",
      "  Computation will proceed by ignoring those levels.\u001b[39m\n",
      "\n",
      "\u001b[33m!\u001b[39m \u001b[33mFold02: internal:\n",
      "  No observations were detected in `truth` for level(s): 'R&B', 'A Capel...\n",
      "  Computation will proceed by ignoring those levels.\u001b[39m\n",
      "\n",
      "\u001b[33m!\u001b[39m \u001b[33mFold03: internal:\n",
      "  No observations were detected in `truth` for level(s): 'R&B', 'A Capel...\n",
      "  Computation will proceed by ignoring those levels.\u001b[39m\n",
      "\n",
      "\u001b[33m!\u001b[39m \u001b[33mFold04: internal:\n",
      "  No observations were detected in `truth` for level(s): 'Movie', 'R&B',...\n",
      "  Computation will proceed by ignoring those levels.\u001b[39m\n",
      "\n",
      "\u001b[33m!\u001b[39m \u001b[33mFold05: internal:\n",
      "  No observations were detected in `truth` for level(s): 'R&B', 'A Capel...\n",
      "  Computation will proceed by ignoring those levels.\u001b[39m\n",
      "\n",
      "\u001b[33m!\u001b[39m \u001b[33mFold06: internal:\n",
      "  No observations were detected in `truth` for level(s): 'R&B', 'A Capel...\n",
      "  Computation will proceed by ignoring those levels.\u001b[39m\n",
      "\n",
      "\u001b[33m!\u001b[39m \u001b[33mFold07: internal:\n",
      "  No observations were detected in `truth` for level(s): 'R&B', 'A Capel...\n",
      "  Computation will proceed by ignoring those levels.\u001b[39m\n",
      "\n",
      "\u001b[33m!\u001b[39m \u001b[33mFold08: internal:\n",
      "  No observations were detected in `truth` for level(s): 'Movie', 'R&B',...\n",
      "  Computation will proceed by ignoring those levels.\u001b[39m\n",
      "\n",
      "\u001b[33m!\u001b[39m \u001b[33mFold09: internal:\n",
      "  No observations were detected in `truth` for level(s): 'R&B', 'A Capel...\n",
      "  Computation will proceed by ignoring those levels.\u001b[39m\n",
      "\n",
      "\u001b[33m!\u001b[39m \u001b[33mFold10: internal:\n",
      "  No observations were detected in `truth` for level(s): 'R&B', 'A Capel...\n",
      "  Computation will proceed by ignoring those levels.\u001b[39m\n",
      "\n"
     ]
    },
    {
     "name": "stdout",
     "output_type": "stream",
     "text": [
      "[1] \"genre ~acousticness + danceability + duration_ms + energy + instrumentalness + key + loudness with mean 0.303333333333333  with distance  maximum\"\n"
     ]
    },
    {
     "name": "stderr",
     "output_type": "stream",
     "text": [
      "\u001b[33m!\u001b[39m \u001b[33mFold01: internal:\n",
      "  No observations were detected in `truth` for level(s): 'R&B', 'A Capel...\n",
      "  Computation will proceed by ignoring those levels.\u001b[39m\n",
      "\n",
      "\u001b[33m!\u001b[39m \u001b[33mFold02: internal:\n",
      "  No observations were detected in `truth` for level(s): 'R&B', 'A Capel...\n",
      "  Computation will proceed by ignoring those levels.\u001b[39m\n",
      "\n",
      "\u001b[33m!\u001b[39m \u001b[33mFold03: internal:\n",
      "  No observations were detected in `truth` for level(s): 'R&B', 'A Capel...\n",
      "  Computation will proceed by ignoring those levels.\u001b[39m\n",
      "\n",
      "\u001b[33m!\u001b[39m \u001b[33mFold04: internal:\n",
      "  No observations were detected in `truth` for level(s): 'Movie', 'R&B',...\n",
      "  Computation will proceed by ignoring those levels.\u001b[39m\n",
      "\n",
      "\u001b[33m!\u001b[39m \u001b[33mFold05: internal:\n",
      "  No observations were detected in `truth` for level(s): 'R&B', 'A Capel...\n",
      "  Computation will proceed by ignoring those levels.\u001b[39m\n",
      "\n",
      "\u001b[33m!\u001b[39m \u001b[33mFold06: internal:\n",
      "  No observations were detected in `truth` for level(s): 'R&B', 'A Capel...\n",
      "  Computation will proceed by ignoring those levels.\u001b[39m\n",
      "\n",
      "\u001b[33m!\u001b[39m \u001b[33mFold07: internal:\n",
      "  No observations were detected in `truth` for level(s): 'R&B', 'A Capel...\n",
      "  Computation will proceed by ignoring those levels.\u001b[39m\n",
      "\n",
      "\u001b[33m!\u001b[39m \u001b[33mFold08: internal:\n",
      "  No observations were detected in `truth` for level(s): 'Movie', 'R&B',...\n",
      "  Computation will proceed by ignoring those levels.\u001b[39m\n",
      "\n",
      "\u001b[33m!\u001b[39m \u001b[33mFold09: internal:\n",
      "  No observations were detected in `truth` for level(s): 'R&B', 'A Capel...\n",
      "  Computation will proceed by ignoring those levels.\u001b[39m\n",
      "\n",
      "\u001b[33m!\u001b[39m \u001b[33mFold10: internal:\n",
      "  No observations were detected in `truth` for level(s): 'R&B', 'A Capel...\n",
      "  Computation will proceed by ignoring those levels.\u001b[39m\n",
      "\n"
     ]
    },
    {
     "name": "stdout",
     "output_type": "stream",
     "text": [
      "[1] \"genre ~acousticness + danceability + duration_ms + energy + instrumentalness + key + loudness + mode with mean 0.226190476190476  with distance  manhattan\"\n"
     ]
    },
    {
     "name": "stderr",
     "output_type": "stream",
     "text": [
      "\u001b[33m!\u001b[39m \u001b[33mFold01: internal:\n",
      "  No observations were detected in `truth` for level(s): 'R&B', 'A Capel...\n",
      "  Computation will proceed by ignoring those levels.\u001b[39m\n",
      "\n",
      "\u001b[33m!\u001b[39m \u001b[33mFold02: internal:\n",
      "  No observations were detected in `truth` for level(s): 'R&B', 'A Capel...\n",
      "  Computation will proceed by ignoring those levels.\u001b[39m\n",
      "\n",
      "\u001b[33m!\u001b[39m \u001b[33mFold03: internal:\n",
      "  No observations were detected in `truth` for level(s): 'R&B', 'A Capel...\n",
      "  Computation will proceed by ignoring those levels.\u001b[39m\n",
      "\n",
      "\u001b[33m!\u001b[39m \u001b[33mFold04: internal:\n",
      "  No observations were detected in `truth` for level(s): 'Movie', 'R&B',...\n",
      "  Computation will proceed by ignoring those levels.\u001b[39m\n",
      "\n",
      "\u001b[33m!\u001b[39m \u001b[33mFold05: internal:\n",
      "  No observations were detected in `truth` for level(s): 'R&B', 'A Capel...\n",
      "  Computation will proceed by ignoring those levels.\u001b[39m\n",
      "\n",
      "\u001b[33m!\u001b[39m \u001b[33mFold06: internal:\n",
      "  No observations were detected in `truth` for level(s): 'R&B', 'A Capel...\n",
      "  Computation will proceed by ignoring those levels.\u001b[39m\n",
      "\n",
      "\u001b[33m!\u001b[39m \u001b[33mFold07: internal:\n",
      "  No observations were detected in `truth` for level(s): 'R&B', 'A Capel...\n",
      "  Computation will proceed by ignoring those levels.\u001b[39m\n",
      "\n",
      "\u001b[33m!\u001b[39m \u001b[33mFold08: internal:\n",
      "  No observations were detected in `truth` for level(s): 'Movie', 'R&B',...\n",
      "  Computation will proceed by ignoring those levels.\u001b[39m\n",
      "\n",
      "\u001b[33m!\u001b[39m \u001b[33mFold09: internal:\n",
      "  No observations were detected in `truth` for level(s): 'R&B', 'A Capel...\n",
      "  Computation will proceed by ignoring those levels.\u001b[39m\n",
      "\n",
      "\u001b[33m!\u001b[39m \u001b[33mFold10: internal:\n",
      "  No observations were detected in `truth` for level(s): 'R&B', 'A Capel...\n",
      "  Computation will proceed by ignoring those levels.\u001b[39m\n",
      "\n"
     ]
    },
    {
     "name": "stdout",
     "output_type": "stream",
     "text": [
      "[1] \"genre ~acousticness + danceability + duration_ms + energy + instrumentalness + key + loudness + mode with mean 0.226190476190476  with distance  euclidean\"\n"
     ]
    },
    {
     "name": "stderr",
     "output_type": "stream",
     "text": [
      "\u001b[33m!\u001b[39m \u001b[33mFold01: internal:\n",
      "  No observations were detected in `truth` for level(s): 'R&B', 'A Capel...\n",
      "  Computation will proceed by ignoring those levels.\u001b[39m\n",
      "\n",
      "\u001b[33m!\u001b[39m \u001b[33mFold02: internal:\n",
      "  No observations were detected in `truth` for level(s): 'R&B', 'A Capel...\n",
      "  Computation will proceed by ignoring those levels.\u001b[39m\n",
      "\n",
      "\u001b[33m!\u001b[39m \u001b[33mFold03: internal:\n",
      "  No observations were detected in `truth` for level(s): 'R&B', 'A Capel...\n",
      "  Computation will proceed by ignoring those levels.\u001b[39m\n",
      "\n",
      "\u001b[33m!\u001b[39m \u001b[33mFold04: internal:\n",
      "  No observations were detected in `truth` for level(s): 'Movie', 'R&B',...\n",
      "  Computation will proceed by ignoring those levels.\u001b[39m\n",
      "\n",
      "\u001b[33m!\u001b[39m \u001b[33mFold05: internal:\n",
      "  No observations were detected in `truth` for level(s): 'R&B', 'A Capel...\n",
      "  Computation will proceed by ignoring those levels.\u001b[39m\n",
      "\n",
      "\u001b[33m!\u001b[39m \u001b[33mFold06: internal:\n",
      "  No observations were detected in `truth` for level(s): 'R&B', 'A Capel...\n",
      "  Computation will proceed by ignoring those levels.\u001b[39m\n",
      "\n",
      "\u001b[33m!\u001b[39m \u001b[33mFold07: internal:\n",
      "  No observations were detected in `truth` for level(s): 'R&B', 'A Capel...\n",
      "  Computation will proceed by ignoring those levels.\u001b[39m\n",
      "\n",
      "\u001b[33m!\u001b[39m \u001b[33mFold08: internal:\n",
      "  No observations were detected in `truth` for level(s): 'Movie', 'R&B',...\n",
      "  Computation will proceed by ignoring those levels.\u001b[39m\n",
      "\n",
      "\u001b[33m!\u001b[39m \u001b[33mFold09: internal:\n",
      "  No observations were detected in `truth` for level(s): 'R&B', 'A Capel...\n",
      "  Computation will proceed by ignoring those levels.\u001b[39m\n",
      "\n",
      "\u001b[33m!\u001b[39m \u001b[33mFold10: internal:\n",
      "  No observations were detected in `truth` for level(s): 'R&B', 'A Capel...\n",
      "  Computation will proceed by ignoring those levels.\u001b[39m\n",
      "\n"
     ]
    },
    {
     "name": "stdout",
     "output_type": "stream",
     "text": [
      "[1] \"genre ~acousticness + danceability + duration_ms + energy + instrumentalness + key + loudness + mode with mean 0.226190476190476  with distance  maximum\"\n"
     ]
    },
    {
     "name": "stderr",
     "output_type": "stream",
     "text": [
      "\u001b[33m!\u001b[39m \u001b[33mFold01: internal:\n",
      "  No observations were detected in `truth` for level(s): 'R&B', 'A Capel...\n",
      "  Computation will proceed by ignoring those levels.\u001b[39m\n",
      "\n",
      "\u001b[33m!\u001b[39m \u001b[33mFold02: internal:\n",
      "  No observations were detected in `truth` for level(s): 'R&B', 'A Capel...\n",
      "  Computation will proceed by ignoring those levels.\u001b[39m\n",
      "\n",
      "\u001b[33m!\u001b[39m \u001b[33mFold03: internal:\n",
      "  No observations were detected in `truth` for level(s): 'R&B', 'A Capel...\n",
      "  Computation will proceed by ignoring those levels.\u001b[39m\n",
      "\n",
      "\u001b[33m!\u001b[39m \u001b[33mFold04: internal:\n",
      "  No observations were detected in `truth` for level(s): 'Movie', 'R&B',...\n",
      "  Computation will proceed by ignoring those levels.\u001b[39m\n",
      "\n",
      "\u001b[33m!\u001b[39m \u001b[33mFold05: internal:\n",
      "  No observations were detected in `truth` for level(s): 'R&B', 'A Capel...\n",
      "  Computation will proceed by ignoring those levels.\u001b[39m\n",
      "\n",
      "\u001b[33m!\u001b[39m \u001b[33mFold06: internal:\n",
      "  No observations were detected in `truth` for level(s): 'R&B', 'A Capel...\n",
      "  Computation will proceed by ignoring those levels.\u001b[39m\n",
      "\n",
      "\u001b[33m!\u001b[39m \u001b[33mFold07: internal:\n",
      "  No observations were detected in `truth` for level(s): 'R&B', 'A Capel...\n",
      "  Computation will proceed by ignoring those levels.\u001b[39m\n",
      "\n",
      "\u001b[33m!\u001b[39m \u001b[33mFold08: internal:\n",
      "  No observations were detected in `truth` for level(s): 'Movie', 'R&B',...\n",
      "  Computation will proceed by ignoring those levels.\u001b[39m\n",
      "\n",
      "\u001b[33m!\u001b[39m \u001b[33mFold09: internal:\n",
      "  No observations were detected in `truth` for level(s): 'R&B', 'A Capel...\n",
      "  Computation will proceed by ignoring those levels.\u001b[39m\n",
      "\n",
      "\u001b[33m!\u001b[39m \u001b[33mFold10: internal:\n",
      "  No observations were detected in `truth` for level(s): 'R&B', 'A Capel...\n",
      "  Computation will proceed by ignoring those levels.\u001b[39m\n",
      "\n"
     ]
    },
    {
     "name": "stdout",
     "output_type": "stream",
     "text": [
      "[1] \"genre ~acousticness + danceability + duration_ms + energy + instrumentalness + key + loudness + mode + speechiness with mean 0.254761904761905  with distance  manhattan\"\n"
     ]
    },
    {
     "name": "stderr",
     "output_type": "stream",
     "text": [
      "\u001b[33m!\u001b[39m \u001b[33mFold01: internal:\n",
      "  No observations were detected in `truth` for level(s): 'R&B', 'A Capel...\n",
      "  Computation will proceed by ignoring those levels.\u001b[39m\n",
      "\n",
      "\u001b[33m!\u001b[39m \u001b[33mFold02: internal:\n",
      "  No observations were detected in `truth` for level(s): 'R&B', 'A Capel...\n",
      "  Computation will proceed by ignoring those levels.\u001b[39m\n",
      "\n",
      "\u001b[33m!\u001b[39m \u001b[33mFold03: internal:\n",
      "  No observations were detected in `truth` for level(s): 'R&B', 'A Capel...\n",
      "  Computation will proceed by ignoring those levels.\u001b[39m\n",
      "\n",
      "\u001b[33m!\u001b[39m \u001b[33mFold04: internal:\n",
      "  No observations were detected in `truth` for level(s): 'Movie', 'R&B',...\n",
      "  Computation will proceed by ignoring those levels.\u001b[39m\n",
      "\n",
      "\u001b[33m!\u001b[39m \u001b[33mFold05: internal:\n",
      "  No observations were detected in `truth` for level(s): 'R&B', 'A Capel...\n",
      "  Computation will proceed by ignoring those levels.\u001b[39m\n",
      "\n",
      "\u001b[33m!\u001b[39m \u001b[33mFold06: internal:\n",
      "  No observations were detected in `truth` for level(s): 'R&B', 'A Capel...\n",
      "  Computation will proceed by ignoring those levels.\u001b[39m\n",
      "\n",
      "\u001b[33m!\u001b[39m \u001b[33mFold07: internal:\n",
      "  No observations were detected in `truth` for level(s): 'R&B', 'A Capel...\n",
      "  Computation will proceed by ignoring those levels.\u001b[39m\n",
      "\n",
      "\u001b[33m!\u001b[39m \u001b[33mFold08: internal:\n",
      "  No observations were detected in `truth` for level(s): 'Movie', 'R&B',...\n",
      "  Computation will proceed by ignoring those levels.\u001b[39m\n",
      "\n",
      "\u001b[33m!\u001b[39m \u001b[33mFold09: internal:\n",
      "  No observations were detected in `truth` for level(s): 'R&B', 'A Capel...\n",
      "  Computation will proceed by ignoring those levels.\u001b[39m\n",
      "\n",
      "\u001b[33m!\u001b[39m \u001b[33mFold10: internal:\n",
      "  No observations were detected in `truth` for level(s): 'R&B', 'A Capel...\n",
      "  Computation will proceed by ignoring those levels.\u001b[39m\n",
      "\n"
     ]
    },
    {
     "name": "stdout",
     "output_type": "stream",
     "text": [
      "[1] \"genre ~acousticness + danceability + duration_ms + energy + instrumentalness + key + loudness + mode + speechiness with mean 0.254761904761905  with distance  euclidean\"\n"
     ]
    },
    {
     "name": "stderr",
     "output_type": "stream",
     "text": [
      "\u001b[33m!\u001b[39m \u001b[33mFold01: internal:\n",
      "  No observations were detected in `truth` for level(s): 'R&B', 'A Capel...\n",
      "  Computation will proceed by ignoring those levels.\u001b[39m\n",
      "\n",
      "\u001b[33m!\u001b[39m \u001b[33mFold02: internal:\n",
      "  No observations were detected in `truth` for level(s): 'R&B', 'A Capel...\n",
      "  Computation will proceed by ignoring those levels.\u001b[39m\n",
      "\n",
      "\u001b[33m!\u001b[39m \u001b[33mFold03: internal:\n",
      "  No observations were detected in `truth` for level(s): 'R&B', 'A Capel...\n",
      "  Computation will proceed by ignoring those levels.\u001b[39m\n",
      "\n",
      "\u001b[33m!\u001b[39m \u001b[33mFold04: internal:\n",
      "  No observations were detected in `truth` for level(s): 'Movie', 'R&B',...\n",
      "  Computation will proceed by ignoring those levels.\u001b[39m\n",
      "\n",
      "\u001b[33m!\u001b[39m \u001b[33mFold05: internal:\n",
      "  No observations were detected in `truth` for level(s): 'R&B', 'A Capel...\n",
      "  Computation will proceed by ignoring those levels.\u001b[39m\n",
      "\n",
      "\u001b[33m!\u001b[39m \u001b[33mFold06: internal:\n",
      "  No observations were detected in `truth` for level(s): 'R&B', 'A Capel...\n",
      "  Computation will proceed by ignoring those levels.\u001b[39m\n",
      "\n",
      "\u001b[33m!\u001b[39m \u001b[33mFold07: internal:\n",
      "  No observations were detected in `truth` for level(s): 'R&B', 'A Capel...\n",
      "  Computation will proceed by ignoring those levels.\u001b[39m\n",
      "\n",
      "\u001b[33m!\u001b[39m \u001b[33mFold08: internal:\n",
      "  No observations were detected in `truth` for level(s): 'Movie', 'R&B',...\n",
      "  Computation will proceed by ignoring those levels.\u001b[39m\n",
      "\n",
      "\u001b[33m!\u001b[39m \u001b[33mFold09: internal:\n",
      "  No observations were detected in `truth` for level(s): 'R&B', 'A Capel...\n",
      "  Computation will proceed by ignoring those levels.\u001b[39m\n",
      "\n",
      "\u001b[33m!\u001b[39m \u001b[33mFold10: internal:\n",
      "  No observations were detected in `truth` for level(s): 'R&B', 'A Capel...\n",
      "  Computation will proceed by ignoring those levels.\u001b[39m\n",
      "\n"
     ]
    },
    {
     "name": "stdout",
     "output_type": "stream",
     "text": [
      "[1] \"genre ~acousticness + danceability + duration_ms + energy + instrumentalness + key + loudness + mode + speechiness with mean 0.254761904761905  with distance  maximum\"\n"
     ]
    },
    {
     "name": "stderr",
     "output_type": "stream",
     "text": [
      "\u001b[33m!\u001b[39m \u001b[33mFold01: internal:\n",
      "  No observations were detected in `truth` for level(s): 'R&B', 'A Capel...\n",
      "  Computation will proceed by ignoring those levels.\u001b[39m\n",
      "\n",
      "\u001b[33m!\u001b[39m \u001b[33mFold02: internal:\n",
      "  No observations were detected in `truth` for level(s): 'R&B', 'A Capel...\n",
      "  Computation will proceed by ignoring those levels.\u001b[39m\n",
      "\n",
      "\u001b[33m!\u001b[39m \u001b[33mFold03: internal:\n",
      "  No observations were detected in `truth` for level(s): 'R&B', 'A Capel...\n",
      "  Computation will proceed by ignoring those levels.\u001b[39m\n",
      "\n",
      "\u001b[33m!\u001b[39m \u001b[33mFold04: internal:\n",
      "  No observations were detected in `truth` for level(s): 'Movie', 'R&B',...\n",
      "  Computation will proceed by ignoring those levels.\u001b[39m\n",
      "\n",
      "\u001b[33m!\u001b[39m \u001b[33mFold05: internal:\n",
      "  No observations were detected in `truth` for level(s): 'R&B', 'A Capel...\n",
      "  Computation will proceed by ignoring those levels.\u001b[39m\n",
      "\n",
      "\u001b[33m!\u001b[39m \u001b[33mFold06: internal:\n",
      "  No observations were detected in `truth` for level(s): 'R&B', 'A Capel...\n",
      "  Computation will proceed by ignoring those levels.\u001b[39m\n",
      "\n",
      "\u001b[33m!\u001b[39m \u001b[33mFold07: internal:\n",
      "  No observations were detected in `truth` for level(s): 'R&B', 'A Capel...\n",
      "  Computation will proceed by ignoring those levels.\u001b[39m\n",
      "\n",
      "\u001b[33m!\u001b[39m \u001b[33mFold08: internal:\n",
      "  No observations were detected in `truth` for level(s): 'Movie', 'R&B',...\n",
      "  Computation will proceed by ignoring those levels.\u001b[39m\n",
      "\n",
      "\u001b[33m!\u001b[39m \u001b[33mFold09: internal:\n",
      "  No observations were detected in `truth` for level(s): 'R&B', 'A Capel...\n",
      "  Computation will proceed by ignoring those levels.\u001b[39m\n",
      "\n",
      "\u001b[33m!\u001b[39m \u001b[33mFold10: internal:\n",
      "  No observations were detected in `truth` for level(s): 'R&B', 'A Capel...\n",
      "  Computation will proceed by ignoring those levels.\u001b[39m\n",
      "\n"
     ]
    },
    {
     "name": "stdout",
     "output_type": "stream",
     "text": [
      "[1] \"genre ~acousticness + danceability + duration_ms + energy + instrumentalness + key + loudness + mode + speechiness + tempo with mean 0.247619047619048  with distance  manhattan\"\n"
     ]
    },
    {
     "name": "stderr",
     "output_type": "stream",
     "text": [
      "\u001b[33m!\u001b[39m \u001b[33mFold01: internal:\n",
      "  No observations were detected in `truth` for level(s): 'R&B', 'A Capel...\n",
      "  Computation will proceed by ignoring those levels.\u001b[39m\n",
      "\n",
      "\u001b[33m!\u001b[39m \u001b[33mFold02: internal:\n",
      "  No observations were detected in `truth` for level(s): 'R&B', 'A Capel...\n",
      "  Computation will proceed by ignoring those levels.\u001b[39m\n",
      "\n",
      "\u001b[33m!\u001b[39m \u001b[33mFold03: internal:\n",
      "  No observations were detected in `truth` for level(s): 'R&B', 'A Capel...\n",
      "  Computation will proceed by ignoring those levels.\u001b[39m\n",
      "\n",
      "\u001b[33m!\u001b[39m \u001b[33mFold04: internal:\n",
      "  No observations were detected in `truth` for level(s): 'Movie', 'R&B',...\n",
      "  Computation will proceed by ignoring those levels.\u001b[39m\n",
      "\n",
      "\u001b[33m!\u001b[39m \u001b[33mFold05: internal:\n",
      "  No observations were detected in `truth` for level(s): 'R&B', 'A Capel...\n",
      "  Computation will proceed by ignoring those levels.\u001b[39m\n",
      "\n",
      "\u001b[33m!\u001b[39m \u001b[33mFold06: internal:\n",
      "  No observations were detected in `truth` for level(s): 'R&B', 'A Capel...\n",
      "  Computation will proceed by ignoring those levels.\u001b[39m\n",
      "\n",
      "\u001b[33m!\u001b[39m \u001b[33mFold07: internal:\n",
      "  No observations were detected in `truth` for level(s): 'R&B', 'A Capel...\n",
      "  Computation will proceed by ignoring those levels.\u001b[39m\n",
      "\n",
      "\u001b[33m!\u001b[39m \u001b[33mFold08: internal:\n",
      "  No observations were detected in `truth` for level(s): 'Movie', 'R&B',...\n",
      "  Computation will proceed by ignoring those levels.\u001b[39m\n",
      "\n",
      "\u001b[33m!\u001b[39m \u001b[33mFold09: internal:\n",
      "  No observations were detected in `truth` for level(s): 'R&B', 'A Capel...\n",
      "  Computation will proceed by ignoring those levels.\u001b[39m\n",
      "\n",
      "\u001b[33m!\u001b[39m \u001b[33mFold10: internal:\n",
      "  No observations were detected in `truth` for level(s): 'R&B', 'A Capel...\n",
      "  Computation will proceed by ignoring those levels.\u001b[39m\n",
      "\n"
     ]
    },
    {
     "name": "stdout",
     "output_type": "stream",
     "text": [
      "[1] \"genre ~acousticness + danceability + duration_ms + energy + instrumentalness + key + loudness + mode + speechiness + tempo with mean 0.247619047619048  with distance  euclidean\"\n"
     ]
    },
    {
     "name": "stderr",
     "output_type": "stream",
     "text": [
      "\u001b[33m!\u001b[39m \u001b[33mFold01: internal:\n",
      "  No observations were detected in `truth` for level(s): 'R&B', 'A Capel...\n",
      "  Computation will proceed by ignoring those levels.\u001b[39m\n",
      "\n",
      "\u001b[33m!\u001b[39m \u001b[33mFold02: internal:\n",
      "  No observations were detected in `truth` for level(s): 'R&B', 'A Capel...\n",
      "  Computation will proceed by ignoring those levels.\u001b[39m\n",
      "\n",
      "\u001b[33m!\u001b[39m \u001b[33mFold03: internal:\n",
      "  No observations were detected in `truth` for level(s): 'R&B', 'A Capel...\n",
      "  Computation will proceed by ignoring those levels.\u001b[39m\n",
      "\n",
      "\u001b[33m!\u001b[39m \u001b[33mFold04: internal:\n",
      "  No observations were detected in `truth` for level(s): 'Movie', 'R&B',...\n",
      "  Computation will proceed by ignoring those levels.\u001b[39m\n",
      "\n",
      "\u001b[33m!\u001b[39m \u001b[33mFold05: internal:\n",
      "  No observations were detected in `truth` for level(s): 'R&B', 'A Capel...\n",
      "  Computation will proceed by ignoring those levels.\u001b[39m\n",
      "\n",
      "\u001b[33m!\u001b[39m \u001b[33mFold06: internal:\n",
      "  No observations were detected in `truth` for level(s): 'R&B', 'A Capel...\n",
      "  Computation will proceed by ignoring those levels.\u001b[39m\n",
      "\n",
      "\u001b[33m!\u001b[39m \u001b[33mFold07: internal:\n",
      "  No observations were detected in `truth` for level(s): 'R&B', 'A Capel...\n",
      "  Computation will proceed by ignoring those levels.\u001b[39m\n",
      "\n",
      "\u001b[33m!\u001b[39m \u001b[33mFold08: internal:\n",
      "  No observations were detected in `truth` for level(s): 'Movie', 'R&B',...\n",
      "  Computation will proceed by ignoring those levels.\u001b[39m\n",
      "\n",
      "\u001b[33m!\u001b[39m \u001b[33mFold09: internal:\n",
      "  No observations were detected in `truth` for level(s): 'R&B', 'A Capel...\n",
      "  Computation will proceed by ignoring those levels.\u001b[39m\n",
      "\n",
      "\u001b[33m!\u001b[39m \u001b[33mFold10: internal:\n",
      "  No observations were detected in `truth` for level(s): 'R&B', 'A Capel...\n",
      "  Computation will proceed by ignoring those levels.\u001b[39m\n",
      "\n"
     ]
    },
    {
     "name": "stdout",
     "output_type": "stream",
     "text": [
      "[1] \"genre ~acousticness + danceability + duration_ms + energy + instrumentalness + key + loudness + mode + speechiness + tempo with mean 0.247619047619048  with distance  maximum\"\n"
     ]
    },
    {
     "name": "stderr",
     "output_type": "stream",
     "text": [
      "\u001b[33m!\u001b[39m \u001b[33mFold01: internal:\n",
      "  No observations were detected in `truth` for level(s): 'R&B', 'A Capel...\n",
      "  Computation will proceed by ignoring those levels.\u001b[39m\n",
      "\n",
      "\u001b[33m!\u001b[39m \u001b[33mFold02: internal:\n",
      "  No observations were detected in `truth` for level(s): 'R&B', 'A Capel...\n",
      "  Computation will proceed by ignoring those levels.\u001b[39m\n",
      "\n",
      "\u001b[33m!\u001b[39m \u001b[33mFold03: internal:\n",
      "  No observations were detected in `truth` for level(s): 'R&B', 'A Capel...\n",
      "  Computation will proceed by ignoring those levels.\u001b[39m\n",
      "\n",
      "\u001b[33m!\u001b[39m \u001b[33mFold04: internal:\n",
      "  No observations were detected in `truth` for level(s): 'Movie', 'R&B',...\n",
      "  Computation will proceed by ignoring those levels.\u001b[39m\n",
      "\n",
      "\u001b[33m!\u001b[39m \u001b[33mFold05: internal:\n",
      "  No observations were detected in `truth` for level(s): 'R&B', 'A Capel...\n",
      "  Computation will proceed by ignoring those levels.\u001b[39m\n",
      "\n",
      "\u001b[33m!\u001b[39m \u001b[33mFold06: internal:\n",
      "  No observations were detected in `truth` for level(s): 'R&B', 'A Capel...\n",
      "  Computation will proceed by ignoring those levels.\u001b[39m\n",
      "\n",
      "\u001b[33m!\u001b[39m \u001b[33mFold07: internal:\n",
      "  No observations were detected in `truth` for level(s): 'R&B', 'A Capel...\n",
      "  Computation will proceed by ignoring those levels.\u001b[39m\n",
      "\n",
      "\u001b[33m!\u001b[39m \u001b[33mFold08: internal:\n",
      "  No observations were detected in `truth` for level(s): 'Movie', 'R&B',...\n",
      "  Computation will proceed by ignoring those levels.\u001b[39m\n",
      "\n",
      "\u001b[33m!\u001b[39m \u001b[33mFold09: internal:\n",
      "  No observations were detected in `truth` for level(s): 'R&B', 'A Capel...\n",
      "  Computation will proceed by ignoring those levels.\u001b[39m\n",
      "\n",
      "\u001b[33m!\u001b[39m \u001b[33mFold10: internal:\n",
      "  No observations were detected in `truth` for level(s): 'R&B', 'A Capel...\n",
      "  Computation will proceed by ignoring those levels.\u001b[39m\n",
      "\n"
     ]
    },
    {
     "name": "stdout",
     "output_type": "stream",
     "text": [
      "[1] \"genre ~acousticness + danceability + duration_ms + energy + instrumentalness + key + loudness + mode + speechiness + tempo + time_signature with mean 0.233333333333333  with distance  manhattan\"\n"
     ]
    },
    {
     "name": "stderr",
     "output_type": "stream",
     "text": [
      "\u001b[33m!\u001b[39m \u001b[33mFold01: internal:\n",
      "  No observations were detected in `truth` for level(s): 'R&B', 'A Capel...\n",
      "  Computation will proceed by ignoring those levels.\u001b[39m\n",
      "\n",
      "\u001b[33m!\u001b[39m \u001b[33mFold02: internal:\n",
      "  No observations were detected in `truth` for level(s): 'R&B', 'A Capel...\n",
      "  Computation will proceed by ignoring those levels.\u001b[39m\n",
      "\n",
      "\u001b[33m!\u001b[39m \u001b[33mFold03: internal:\n",
      "  No observations were detected in `truth` for level(s): 'R&B', 'A Capel...\n",
      "  Computation will proceed by ignoring those levels.\u001b[39m\n",
      "\n",
      "\u001b[33m!\u001b[39m \u001b[33mFold04: internal:\n",
      "  No observations were detected in `truth` for level(s): 'Movie', 'R&B',...\n",
      "  Computation will proceed by ignoring those levels.\u001b[39m\n",
      "\n",
      "\u001b[33m!\u001b[39m \u001b[33mFold05: internal:\n",
      "  No observations were detected in `truth` for level(s): 'R&B', 'A Capel...\n",
      "  Computation will proceed by ignoring those levels.\u001b[39m\n",
      "\n",
      "\u001b[33m!\u001b[39m \u001b[33mFold06: internal:\n",
      "  No observations were detected in `truth` for level(s): 'R&B', 'A Capel...\n",
      "  Computation will proceed by ignoring those levels.\u001b[39m\n",
      "\n",
      "\u001b[33m!\u001b[39m \u001b[33mFold07: internal:\n",
      "  No observations were detected in `truth` for level(s): 'R&B', 'A Capel...\n",
      "  Computation will proceed by ignoring those levels.\u001b[39m\n",
      "\n",
      "\u001b[33m!\u001b[39m \u001b[33mFold08: internal:\n",
      "  No observations were detected in `truth` for level(s): 'Movie', 'R&B',...\n",
      "  Computation will proceed by ignoring those levels.\u001b[39m\n",
      "\n",
      "\u001b[33m!\u001b[39m \u001b[33mFold09: internal:\n",
      "  No observations were detected in `truth` for level(s): 'R&B', 'A Capel...\n",
      "  Computation will proceed by ignoring those levels.\u001b[39m\n",
      "\n",
      "\u001b[33m!\u001b[39m \u001b[33mFold10: internal:\n",
      "  No observations were detected in `truth` for level(s): 'R&B', 'A Capel...\n",
      "  Computation will proceed by ignoring those levels.\u001b[39m\n",
      "\n"
     ]
    },
    {
     "name": "stdout",
     "output_type": "stream",
     "text": [
      "[1] \"genre ~acousticness + danceability + duration_ms + energy + instrumentalness + key + loudness + mode + speechiness + tempo + time_signature with mean 0.233333333333333  with distance  euclidean\"\n"
     ]
    },
    {
     "name": "stderr",
     "output_type": "stream",
     "text": [
      "\u001b[33m!\u001b[39m \u001b[33mFold01: internal:\n",
      "  No observations were detected in `truth` for level(s): 'R&B', 'A Capel...\n",
      "  Computation will proceed by ignoring those levels.\u001b[39m\n",
      "\n",
      "\u001b[33m!\u001b[39m \u001b[33mFold02: internal:\n",
      "  No observations were detected in `truth` for level(s): 'R&B', 'A Capel...\n",
      "  Computation will proceed by ignoring those levels.\u001b[39m\n",
      "\n",
      "\u001b[33m!\u001b[39m \u001b[33mFold03: internal:\n",
      "  No observations were detected in `truth` for level(s): 'R&B', 'A Capel...\n",
      "  Computation will proceed by ignoring those levels.\u001b[39m\n",
      "\n",
      "\u001b[33m!\u001b[39m \u001b[33mFold04: internal:\n",
      "  No observations were detected in `truth` for level(s): 'Movie', 'R&B',...\n",
      "  Computation will proceed by ignoring those levels.\u001b[39m\n",
      "\n",
      "\u001b[33m!\u001b[39m \u001b[33mFold05: internal:\n",
      "  No observations were detected in `truth` for level(s): 'R&B', 'A Capel...\n",
      "  Computation will proceed by ignoring those levels.\u001b[39m\n",
      "\n",
      "\u001b[33m!\u001b[39m \u001b[33mFold06: internal:\n",
      "  No observations were detected in `truth` for level(s): 'R&B', 'A Capel...\n",
      "  Computation will proceed by ignoring those levels.\u001b[39m\n",
      "\n",
      "\u001b[33m!\u001b[39m \u001b[33mFold07: internal:\n",
      "  No observations were detected in `truth` for level(s): 'R&B', 'A Capel...\n",
      "  Computation will proceed by ignoring those levels.\u001b[39m\n",
      "\n",
      "\u001b[33m!\u001b[39m \u001b[33mFold08: internal:\n",
      "  No observations were detected in `truth` for level(s): 'Movie', 'R&B',...\n",
      "  Computation will proceed by ignoring those levels.\u001b[39m\n",
      "\n",
      "\u001b[33m!\u001b[39m \u001b[33mFold09: internal:\n",
      "  No observations were detected in `truth` for level(s): 'R&B', 'A Capel...\n",
      "  Computation will proceed by ignoring those levels.\u001b[39m\n",
      "\n",
      "\u001b[33m!\u001b[39m \u001b[33mFold10: internal:\n",
      "  No observations were detected in `truth` for level(s): 'R&B', 'A Capel...\n",
      "  Computation will proceed by ignoring those levels.\u001b[39m\n",
      "\n"
     ]
    },
    {
     "name": "stdout",
     "output_type": "stream",
     "text": [
      "[1] \"genre ~acousticness + danceability + duration_ms + energy + instrumentalness + key + loudness + mode + speechiness + tempo + time_signature with mean 0.233333333333333  with distance  maximum\"\n"
     ]
    },
    {
     "name": "stderr",
     "output_type": "stream",
     "text": [
      "\u001b[33m!\u001b[39m \u001b[33mFold01: internal:\n",
      "  No observations were detected in `truth` for level(s): 'R&B', 'A Capel...\n",
      "  Computation will proceed by ignoring those levels.\u001b[39m\n",
      "\n",
      "\u001b[33m!\u001b[39m \u001b[33mFold02: internal:\n",
      "  No observations were detected in `truth` for level(s): 'R&B', 'A Capel...\n",
      "  Computation will proceed by ignoring those levels.\u001b[39m\n",
      "\n",
      "\u001b[33m!\u001b[39m \u001b[33mFold03: internal:\n",
      "  No observations were detected in `truth` for level(s): 'R&B', 'A Capel...\n",
      "  Computation will proceed by ignoring those levels.\u001b[39m\n",
      "\n",
      "\u001b[33m!\u001b[39m \u001b[33mFold04: internal:\n",
      "  No observations were detected in `truth` for level(s): 'Movie', 'R&B',...\n",
      "  Computation will proceed by ignoring those levels.\u001b[39m\n",
      "\n",
      "\u001b[33m!\u001b[39m \u001b[33mFold05: internal:\n",
      "  No observations were detected in `truth` for level(s): 'R&B', 'A Capel...\n",
      "  Computation will proceed by ignoring those levels.\u001b[39m\n",
      "\n",
      "\u001b[33m!\u001b[39m \u001b[33mFold06: internal:\n",
      "  No observations were detected in `truth` for level(s): 'R&B', 'A Capel...\n",
      "  Computation will proceed by ignoring those levels.\u001b[39m\n",
      "\n",
      "\u001b[33m!\u001b[39m \u001b[33mFold07: internal:\n",
      "  No observations were detected in `truth` for level(s): 'R&B', 'A Capel...\n",
      "  Computation will proceed by ignoring those levels.\u001b[39m\n",
      "\n",
      "\u001b[33m!\u001b[39m \u001b[33mFold08: internal:\n",
      "  No observations were detected in `truth` for level(s): 'Movie', 'R&B',...\n",
      "  Computation will proceed by ignoring those levels.\u001b[39m\n",
      "\n",
      "\u001b[33m!\u001b[39m \u001b[33mFold09: internal:\n",
      "  No observations were detected in `truth` for level(s): 'R&B', 'A Capel...\n",
      "  Computation will proceed by ignoring those levels.\u001b[39m\n",
      "\n",
      "\u001b[33m!\u001b[39m \u001b[33mFold10: internal:\n",
      "  No observations were detected in `truth` for level(s): 'R&B', 'A Capel...\n",
      "  Computation will proceed by ignoring those levels.\u001b[39m\n",
      "\n"
     ]
    },
    {
     "name": "stdout",
     "output_type": "stream",
     "text": [
      "[1] \"genre ~acousticness + danceability + duration_ms + energy + instrumentalness + key + loudness + mode + speechiness + tempo + time_signature + valence with mean 0.24047619047619  with distance  manhattan\"\n"
     ]
    },
    {
     "name": "stderr",
     "output_type": "stream",
     "text": [
      "\u001b[33m!\u001b[39m \u001b[33mFold01: internal:\n",
      "  No observations were detected in `truth` for level(s): 'R&B', 'A Capel...\n",
      "  Computation will proceed by ignoring those levels.\u001b[39m\n",
      "\n",
      "\u001b[33m!\u001b[39m \u001b[33mFold02: internal:\n",
      "  No observations were detected in `truth` for level(s): 'R&B', 'A Capel...\n",
      "  Computation will proceed by ignoring those levels.\u001b[39m\n",
      "\n",
      "\u001b[33m!\u001b[39m \u001b[33mFold03: internal:\n",
      "  No observations were detected in `truth` for level(s): 'R&B', 'A Capel...\n",
      "  Computation will proceed by ignoring those levels.\u001b[39m\n",
      "\n",
      "\u001b[33m!\u001b[39m \u001b[33mFold04: internal:\n",
      "  No observations were detected in `truth` for level(s): 'Movie', 'R&B',...\n",
      "  Computation will proceed by ignoring those levels.\u001b[39m\n",
      "\n",
      "\u001b[33m!\u001b[39m \u001b[33mFold05: internal:\n",
      "  No observations were detected in `truth` for level(s): 'R&B', 'A Capel...\n",
      "  Computation will proceed by ignoring those levels.\u001b[39m\n",
      "\n",
      "\u001b[33m!\u001b[39m \u001b[33mFold06: internal:\n",
      "  No observations were detected in `truth` for level(s): 'R&B', 'A Capel...\n",
      "  Computation will proceed by ignoring those levels.\u001b[39m\n",
      "\n",
      "\u001b[33m!\u001b[39m \u001b[33mFold07: internal:\n",
      "  No observations were detected in `truth` for level(s): 'R&B', 'A Capel...\n",
      "  Computation will proceed by ignoring those levels.\u001b[39m\n",
      "\n",
      "\u001b[33m!\u001b[39m \u001b[33mFold08: internal:\n",
      "  No observations were detected in `truth` for level(s): 'Movie', 'R&B',...\n",
      "  Computation will proceed by ignoring those levels.\u001b[39m\n",
      "\n",
      "\u001b[33m!\u001b[39m \u001b[33mFold09: internal:\n",
      "  No observations were detected in `truth` for level(s): 'R&B', 'A Capel...\n",
      "  Computation will proceed by ignoring those levels.\u001b[39m\n",
      "\n",
      "\u001b[33m!\u001b[39m \u001b[33mFold10: internal:\n",
      "  No observations were detected in `truth` for level(s): 'R&B', 'A Capel...\n",
      "  Computation will proceed by ignoring those levels.\u001b[39m\n",
      "\n"
     ]
    },
    {
     "name": "stdout",
     "output_type": "stream",
     "text": [
      "[1] \"genre ~acousticness + danceability + duration_ms + energy + instrumentalness + key + loudness + mode + speechiness + tempo + time_signature + valence with mean 0.24047619047619  with distance  euclidean\"\n"
     ]
    },
    {
     "name": "stderr",
     "output_type": "stream",
     "text": [
      "\u001b[33m!\u001b[39m \u001b[33mFold01: internal:\n",
      "  No observations were detected in `truth` for level(s): 'R&B', 'A Capel...\n",
      "  Computation will proceed by ignoring those levels.\u001b[39m\n",
      "\n",
      "\u001b[33m!\u001b[39m \u001b[33mFold02: internal:\n",
      "  No observations were detected in `truth` for level(s): 'R&B', 'A Capel...\n",
      "  Computation will proceed by ignoring those levels.\u001b[39m\n",
      "\n",
      "\u001b[33m!\u001b[39m \u001b[33mFold03: internal:\n",
      "  No observations were detected in `truth` for level(s): 'R&B', 'A Capel...\n",
      "  Computation will proceed by ignoring those levels.\u001b[39m\n",
      "\n",
      "\u001b[33m!\u001b[39m \u001b[33mFold04: internal:\n",
      "  No observations were detected in `truth` for level(s): 'Movie', 'R&B',...\n",
      "  Computation will proceed by ignoring those levels.\u001b[39m\n",
      "\n",
      "\u001b[33m!\u001b[39m \u001b[33mFold05: internal:\n",
      "  No observations were detected in `truth` for level(s): 'R&B', 'A Capel...\n",
      "  Computation will proceed by ignoring those levels.\u001b[39m\n",
      "\n",
      "\u001b[33m!\u001b[39m \u001b[33mFold06: internal:\n",
      "  No observations were detected in `truth` for level(s): 'R&B', 'A Capel...\n",
      "  Computation will proceed by ignoring those levels.\u001b[39m\n",
      "\n",
      "\u001b[33m!\u001b[39m \u001b[33mFold07: internal:\n",
      "  No observations were detected in `truth` for level(s): 'R&B', 'A Capel...\n",
      "  Computation will proceed by ignoring those levels.\u001b[39m\n",
      "\n",
      "\u001b[33m!\u001b[39m \u001b[33mFold08: internal:\n",
      "  No observations were detected in `truth` for level(s): 'Movie', 'R&B',...\n",
      "  Computation will proceed by ignoring those levels.\u001b[39m\n",
      "\n",
      "\u001b[33m!\u001b[39m \u001b[33mFold09: internal:\n",
      "  No observations were detected in `truth` for level(s): 'R&B', 'A Capel...\n",
      "  Computation will proceed by ignoring those levels.\u001b[39m\n",
      "\n",
      "\u001b[33m!\u001b[39m \u001b[33mFold10: internal:\n",
      "  No observations were detected in `truth` for level(s): 'R&B', 'A Capel...\n",
      "  Computation will proceed by ignoring those levels.\u001b[39m\n",
      "\n"
     ]
    },
    {
     "name": "stdout",
     "output_type": "stream",
     "text": [
      "[1] \"genre ~acousticness + danceability + duration_ms + energy + instrumentalness + key + loudness + mode + speechiness + tempo + time_signature + valence with mean 0.24047619047619  with distance  maximum\"\n"
     ]
    }
   ],
   "source": [
    "suppressWarnings({\n",
    "#for loop for each variable\n",
    "names = names(song_data)\n",
    "names<- names[-1]\n",
    "formula= \"\"\n",
    "df <- data.frame(formula = character(), mean = numeric(), distanceUsed= character())\n",
    "#First we will create the folds so we can cross validate to check for the best number of neighbors\n",
    "    song_fold<-vfold_cv(song_train, v=10, strata=genre)\n",
    "#lets create the model\n",
    "    song_model <- nearest_neighbor(weight_func=\"rectangular\", neighbors=tune()) |>\n",
    "                set_engine(\"kknn\", metric) |>\n",
    "                set_mode(\"classification\")\n",
    "#lets create k values \n",
    "    neighrbos = tibble(neighbors=seq(1, 10))\n",
    "for(name in names) {\n",
    "    if(name==\"acousticness\") {\n",
    "        formula = name\n",
    "        result = paste0(\"genre ~\", formula)\n",
    "    }else {\n",
    "        formula = paste0(formula, \" + \", name)\n",
    "        result = paste0(\"genre ~\", formula)\n",
    "    }\n",
    "    different_distances = c(\"manhattan\", \"euclidean\", \"maximum\")\n",
    "    for(distance in different_distances){\n",
    "        song_model <- nearest_neighbor(weight_func=\"rectangular\", neighbors=tune()) |>\n",
    "                set_engine(\"kknn\", metric = distance) |>\n",
    "                set_mode(\"classification\")\n",
    "    #second we create the recipe\n",
    "    song_recipe<- song_train |>\n",
    "                recipe(as.formula(result)) |>\n",
    "                step_scale(all_numeric())|>\n",
    "                step_center(all_numeric())\n",
    "   \n",
    "    #lets create the fit\n",
    "    song_fit<- workflow()|>\n",
    "            add_recipe(song_recipe) |>\n",
    "            add_model(song_model) |>\n",
    "            tune_grid(resamples= song_fold, tune=neighrbos) |>\n",
    "            collect_metrics() |>\n",
    "            filter(.metric==\"accuracy\") |>\n",
    "            arrange(.metric) |>\n",
    "            slice_head() |>\n",
    "            pull(mean)\n",
    "    print(paste(result, \"with mean\", song_fit, \" with distance \",distance))\n",
    "         df <- rbind(df, data.frame(formula = result, mean = song_fit, distanceUsed=distance))\n",
    "        }\n",
    "}\n",
    "    })"
   ]
  },
  {
   "cell_type": "code",
   "execution_count": 12,
   "id": "890bd985-44db-4e5a-b7e6-71837c25e538",
   "metadata": {},
   "outputs": [
    {
     "ename": "ERROR",
     "evalue": "Error in UseMethod(\"arrange\"): no applicable method for 'arrange' applied to an object of class \"function\"\n",
     "output_type": "error",
     "traceback": [
      "Error in UseMethod(\"arrange\"): no applicable method for 'arrange' applied to an object of class \"function\"\nTraceback:\n",
      "1. slice_head(arrange(df, desc(mean)), n = 3)",
      "2. arrange(df, desc(mean))"
     ]
    }
   ],
   "source": [
    "best_model<- df |>\n",
    "        arrange(desc(mean)) |>\n",
    "        slice_head(n=3)\n",
    "best_model"
   ]
  },
  {
   "cell_type": "code",
   "execution_count": 14,
   "id": "49306205-b408-4176-9bc1-cf53b1fd19ff",
   "metadata": {},
   "outputs": [
    {
     "name": "stderr",
     "output_type": "stream",
     "text": [
      "Warning message:\n",
      "“Too little data to stratify.\n",
      "\u001b[36m•\u001b[39m Resampling will be unstratified.”\n"
     ]
    }
   ],
   "source": [
    "#Lets check if there is a k beyond 1 to 10 that can improve the model much better\n",
    "neighbors= tibble(neighbors=seq(1,100))\n",
    "song_fold<-vfold_cv(song_train, v=10, strata=genre)\n",
    "chose_recipe<- recipe(song_train, \"genre ~acousticness + danceability + duration_ms + energy + instrumentalness\t\") |>\n",
    "                step_center(all_numeric()) |>\n",
    "                step_scale(all_numeric())\n",
    "chosen_model <- nearest_neighbor(weight_func=\"rectangular\", neighbors=tune()) |>\n",
    "                set_engine(\"kknn\", metric = \"euclidean\") |>\n",
    "                set_mode(\"classification\")\n",
    "chosen_fit <- workflow() |>\n",
    "            add_recipe(chose_recipe) |>\n",
    "            add_model(chosen_model) |>\n",
    "            tune_grid(resamples=song_fold, grid=neighbors) |>\n",
    "            collect_metrics() |>\n",
    "            filter(.metric==\"accuracy\") |>\n",
    "            arrange(desc(mean)) |>\n",
    "            slice_head(n=2)\n",
    "chosen_fit"
   ]
  },
  {
   "cell_type": "code",
   "execution_count": null,
   "id": "b65dc33f-09fd-4f02-923c-6c8649ea7019",
   "metadata": {},
   "outputs": [],
   "source": [
    "chose_recipe<- recipe(song_train, \"genre ~acousticness + danceability + duration_ms + energy + instrumentalness\t\") |>\n",
    "                step_center(all_numeric()) |>\n",
    "                step_scale(all_numeric())\n",
    "chosen_model <- nearest_neighbor(weight_func=\"rectangular\", neighbors=11) |>\n",
    "                set_engine(\"kknn\", metric = \"euclidean\") |>\n",
    "                set_mode(\"classification\")\n",
    "chosen_fit <- workflow() |>\n",
    "            add_recipe(chose_recipe) |>\n",
    "            add_model(chosen_model) |>\n",
    "            fit(song_train) |>\n",
    "            predict(song_test) |>\n",
    "            append(song_test) \n",
    "chosen_fit"
   ]
  },
  {
   "cell_type": "markdown",
   "id": "aa6f1fa8",
   "metadata": {},
   "source": [
    "## Expected Outcomes + Significance"
   ]
  },
  {
   "cell_type": "markdown",
   "id": "f5a8b819-53e4-42f9-bd57-8fc317a2a65e",
   "metadata": {},
   "source": [
    "**What do you expect to find?**\n",
    "\n",
    "From this analysis we expect to create a classification system that is able to accurately sort songs into a specific genre based on their audio features.\n",
    "\n",
    "**What impact could such findings have?**\n",
    "\n",
    "Creating and testing music genre classification models is extremely important for music streaming platforms, such as Spotify, whose song recommendation systems rely partially on “content-based filtering” (Pastukhov, 2022). Hence, by creating and optimizing a genre classifications system using content-based data, such as raw audio features, we can possibly improve song recommendations for users. Our classification model may also help improve artist discoverability,as according to Spotify, 33% of new artist discoveries happen via personalized music recommendations (“Learn How Fans”).\n",
    "\n",
    "**What future questions could this lead to?**\n",
    "\n",
    "* What features aside from audio features can be used to accurately classify music genres? For example, do songs that commonly appear in the same types of playlists have the same genre? If yes, can we use this playlist data to classify songs?\n",
    "* How can these genre classifications be used to recommend new music to users?\n",
    "* How effective are those music recommendations? Do users (survey data) like the music recommendation system?\n"
   ]
  },
  {
   "cell_type": "markdown",
   "id": "abd6a09a-2aed-41a8-832b-46b97fb4e55e",
   "metadata": {},
   "source": [
    "## References"
   ]
  },
  {
   "cell_type": "markdown",
   "id": "021c4afe-1b62-4e6b-9951-ec63dea9b080",
   "metadata": {},
   "source": [
    "* Learn How Fans Discover Your Music on Spotify with New “Made to Be Found” Site and “Source of Streams” Stats – Spotify for Artists. (n.d.). Artists.spotify.com. Retrieved March 11, 2023, from https://artists.spotify.com/en/blog/how-fans-discover-music-on-spotify-playlists-made-to-be-found\n",
    "* Pastukhov, D. (2022, February 9). Inside Spotify’s Recommender System: A Complete Guide to Spotify Recommendation Algorithms. Www.music-Tomorrow.com. https://www.music-tomorrow.com/blog/how-spotify-recommendation-system-works-a-complete-guide-2022\n"
   ]
  },
  {
   "cell_type": "code",
   "execution_count": null,
   "id": "d722914a-bffc-48ed-a73e-adb802acfc9b",
   "metadata": {},
   "outputs": [],
   "source": []
  }
 ],
 "metadata": {
  "kernelspec": {
   "display_name": "R",
   "language": "R",
   "name": "ir"
  },
  "language_info": {
   "codemirror_mode": "r",
   "file_extension": ".r",
   "mimetype": "text/x-r-source",
   "name": "R",
   "pygments_lexer": "r",
   "version": "4.1.3"
  },
  "toc-autonumbering": false,
  "toc-showcode": false,
  "toc-showtags": false
 },
 "nbformat": 4,
 "nbformat_minor": 5
}
