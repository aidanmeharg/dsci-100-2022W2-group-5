{
 "cells": [
  {
   "cell_type": "markdown",
   "id": "70acd4dc-9efb-49b9-b648-10853d2578ce",
   "metadata": {},
   "source": [
    "# **Spotify Song Genre Prediction**\n",
    "#### **DSCI 100 Section 007**\n",
    "#### **Group 5 Project Proposal**"
   ]
  },
  {
   "cell_type": "markdown",
   "id": "9c7b2b2e-b8b9-4e05-bbf2-71ddf407fbc1",
   "metadata": {},
   "source": [
    "Feature Descriptions: https://developer.spotify.com/documentation/web-api/reference/#/operations/get-audio-features"
   ]
  },
  {
   "cell_type": "code",
   "execution_count": 1,
   "id": "31699c23-b8df-40a4-9e71-6242860b6beb",
   "metadata": {},
   "outputs": [
    {
     "name": "stderr",
     "output_type": "stream",
     "text": [
      "Warning message:\n",
      "\"package 'tidyverse' was built under R version 4.1.3\"\n",
      "Warning message:\n",
      "\"package 'ggplot2' was built under R version 4.1.3\"\n",
      "Warning message:\n",
      "\"package 'tibble' was built under R version 4.1.3\"\n",
      "Warning message:\n",
      "\"package 'tidyr' was built under R version 4.1.3\"\n",
      "Warning message:\n",
      "\"package 'readr' was built under R version 4.1.3\"\n",
      "Warning message:\n",
      "\"package 'purrr' was built under R version 4.1.3\"\n",
      "Warning message:\n",
      "\"package 'dplyr' was built under R version 4.1.3\"\n",
      "Warning message:\n",
      "\"package 'stringr' was built under R version 4.1.3\"\n",
      "Warning message:\n",
      "\"package 'forcats' was built under R version 4.1.3\"\n",
      "Warning message:\n",
      "\"package 'lubridate' was built under R version 4.1.3\"\n",
      "Warning message:\n",
      "\"package 'timechange' was built under R version 4.1.3\"\n",
      "-- \u001b[1mAttaching core tidyverse packages\u001b[22m ---------------------------------------------------------------- tidyverse 2.0.0 --\n",
      "\u001b[32mv\u001b[39m \u001b[34mdplyr    \u001b[39m 1.1.0     \u001b[32mv\u001b[39m \u001b[34mreadr    \u001b[39m 2.1.3\n",
      "\u001b[32mv\u001b[39m \u001b[34mforcats  \u001b[39m 1.0.0     \u001b[32mv\u001b[39m \u001b[34mstringr  \u001b[39m 1.5.0\n",
      "\u001b[32mv\u001b[39m \u001b[34mggplot2  \u001b[39m 3.4.1     \u001b[32mv\u001b[39m \u001b[34mtibble   \u001b[39m 3.2.0\n",
      "\u001b[32mv\u001b[39m \u001b[34mlubridate\u001b[39m 1.9.0     \u001b[32mv\u001b[39m \u001b[34mtidyr    \u001b[39m 1.3.0\n",
      "\u001b[32mv\u001b[39m \u001b[34mpurrr    \u001b[39m 1.0.1     \n",
      "-- \u001b[1mConflicts\u001b[22m ---------------------------------------------------------------------------------- tidyverse_conflicts() --\n",
      "\u001b[31mx\u001b[39m \u001b[34mdplyr\u001b[39m::\u001b[32mfilter()\u001b[39m masks \u001b[34mstats\u001b[39m::filter()\n",
      "\u001b[31mx\u001b[39m \u001b[34mdplyr\u001b[39m::\u001b[32mlag()\u001b[39m    masks \u001b[34mstats\u001b[39m::lag()\n",
      "\u001b[36mi\u001b[39m Use the conflicted package (\u001b[3m\u001b[34m<http://conflicted.r-lib.org/>\u001b[39m\u001b[23m) to force all conflicts to become errors\n",
      "Warning message:\n",
      "\"package 'repr' was built under R version 4.1.3\"\n",
      "Warning message:\n",
      "\"package 'themis' was built under R version 4.1.3\"\n",
      "Loading required package: recipes\n",
      "\n",
      "Warning message:\n",
      "\"package 'recipes' was built under R version 4.1.3\"\n",
      "\n",
      "Attaching package: 'recipes'\n",
      "\n",
      "\n",
      "The following object is masked from 'package:stringr':\n",
      "\n",
      "    fixed\n",
      "\n",
      "\n",
      "The following object is masked from 'package:stats':\n",
      "\n",
      "    step\n",
      "\n",
      "\n",
      "Warning message:\n",
      "\"package 'tidymodels' was built under R version 4.1.3\"\n",
      "-- \u001b[1mAttaching packages\u001b[22m ------------------------------------------------------------------------------ tidymodels 1.0.0 --\n",
      "\n",
      "\u001b[32mv\u001b[39m \u001b[34mbroom       \u001b[39m 1.0.3     \u001b[32mv\u001b[39m \u001b[34mrsample     \u001b[39m 1.1.1\n",
      "\u001b[32mv\u001b[39m \u001b[34mdials       \u001b[39m 1.1.0     \u001b[32mv\u001b[39m \u001b[34mtune        \u001b[39m 1.0.1\n",
      "\u001b[32mv\u001b[39m \u001b[34minfer       \u001b[39m 1.0.4     \u001b[32mv\u001b[39m \u001b[34mworkflows   \u001b[39m 1.1.3\n",
      "\u001b[32mv\u001b[39m \u001b[34mmodeldata   \u001b[39m 1.1.0     \u001b[32mv\u001b[39m \u001b[34mworkflowsets\u001b[39m 1.0.0\n",
      "\u001b[32mv\u001b[39m \u001b[34mparsnip     \u001b[39m 1.0.4     \u001b[32mv\u001b[39m \u001b[34myardstick   \u001b[39m 1.1.0\n",
      "\n",
      "Warning message:\n",
      "\"package 'broom' was built under R version 4.1.3\"\n",
      "Warning message:\n",
      "\"package 'dials' was built under R version 4.1.3\"\n",
      "Warning message:\n",
      "\"package 'scales' was built under R version 4.1.3\"\n",
      "Warning message:\n",
      "\"package 'infer' was built under R version 4.1.3\"\n",
      "Warning message:\n",
      "\"package 'modeldata' was built under R version 4.1.3\"\n",
      "Warning message:\n",
      "\"package 'parsnip' was built under R version 4.1.3\"\n",
      "Warning message:\n",
      "\"package 'rsample' was built under R version 4.1.3\"\n",
      "Warning message:\n",
      "\"package 'tune' was built under R version 4.1.3\"\n",
      "Warning message:\n",
      "\"package 'workflows' was built under R version 4.1.3\"\n",
      "Warning message:\n",
      "\"package 'workflowsets' was built under R version 4.1.3\"\n",
      "Warning message:\n",
      "\"package 'yardstick' was built under R version 4.1.3\"\n",
      "-- \u001b[1mConflicts\u001b[22m --------------------------------------------------------------------------------- tidymodels_conflicts() --\n",
      "\u001b[31mx\u001b[39m \u001b[34mscales\u001b[39m::\u001b[32mdiscard()\u001b[39m masks \u001b[34mpurrr\u001b[39m::discard()\n",
      "\u001b[31mx\u001b[39m \u001b[34mdplyr\u001b[39m::\u001b[32mfilter()\u001b[39m   masks \u001b[34mstats\u001b[39m::filter()\n",
      "\u001b[31mx\u001b[39m \u001b[34mrecipes\u001b[39m::\u001b[32mfixed()\u001b[39m  masks \u001b[34mstringr\u001b[39m::fixed()\n",
      "\u001b[31mx\u001b[39m \u001b[34mdplyr\u001b[39m::\u001b[32mlag()\u001b[39m      masks \u001b[34mstats\u001b[39m::lag()\n",
      "\u001b[31mx\u001b[39m \u001b[34myardstick\u001b[39m::\u001b[32mspec()\u001b[39m masks \u001b[34mreadr\u001b[39m::spec()\n",
      "\u001b[31mx\u001b[39m \u001b[34mrecipes\u001b[39m::\u001b[32mstep()\u001b[39m   masks \u001b[34mstats\u001b[39m::step()\n",
      "\u001b[34m*\u001b[39m Use suppressPackageStartupMessages() to eliminate package startup messages\n",
      "\n"
     ]
    }
   ],
   "source": [
    "library(tidyverse)\n",
    "library(repr)\n",
    "library(themis)\n",
    "library(tidymodels)\n",
    "options(repr.matrix.max.rows = 8)"
   ]
  },
  {
   "cell_type": "code",
   "execution_count": 165,
   "id": "1dd1d3a1-03eb-4d66-ad49-0bae4e6df033",
   "metadata": {},
   "outputs": [
    {
     "name": "stderr",
     "output_type": "stream",
     "text": [
      "\u001b[1mRows: \u001b[22m\u001b[34m232725\u001b[39m \u001b[1mColumns: \u001b[22m\u001b[34m18\u001b[39m\n",
      "\u001b[36m--\u001b[39m \u001b[1mColumn specification\u001b[22m \u001b[36m------------------------------------------------------------------------------------------------\u001b[39m\n",
      "\u001b[1mDelimiter:\u001b[22m \",\"\n",
      "\u001b[31mchr\u001b[39m  (7): genre, artist_name, track_name, track_id, key, mode, time_signature\n",
      "\u001b[32mdbl\u001b[39m (11): popularity, acousticness, danceability, duration_ms, energy, instr...\n",
      "\n",
      "\u001b[36mi\u001b[39m Use `spec()` to retrieve the full column specification for this data.\n",
      "\u001b[36mi\u001b[39m Specify the column types or set `show_col_types = FALSE` to quiet this message.\n"
     ]
    },
    {
     "data": {
      "text/html": [
       "<table class=\"dataframe\">\n",
       "<caption>A tibble: 232725 × 18</caption>\n",
       "<thead>\n",
       "\t<tr><th scope=col>genre</th><th scope=col>artist_name</th><th scope=col>track_name</th><th scope=col>track_id</th><th scope=col>popularity</th><th scope=col>acousticness</th><th scope=col>danceability</th><th scope=col>duration_ms</th><th scope=col>energy</th><th scope=col>instrumentalness</th><th scope=col>key</th><th scope=col>liveness</th><th scope=col>loudness</th><th scope=col>mode</th><th scope=col>speechiness</th><th scope=col>tempo</th><th scope=col>time_signature</th><th scope=col>valence</th></tr>\n",
       "\t<tr><th scope=col>&lt;fct&gt;</th><th scope=col>&lt;chr&gt;</th><th scope=col>&lt;chr&gt;</th><th scope=col>&lt;chr&gt;</th><th scope=col>&lt;dbl&gt;</th><th scope=col>&lt;dbl&gt;</th><th scope=col>&lt;dbl&gt;</th><th scope=col>&lt;dbl&gt;</th><th scope=col>&lt;dbl&gt;</th><th scope=col>&lt;dbl&gt;</th><th scope=col>&lt;fct&gt;</th><th scope=col>&lt;dbl&gt;</th><th scope=col>&lt;dbl&gt;</th><th scope=col>&lt;chr&gt;</th><th scope=col>&lt;dbl&gt;</th><th scope=col>&lt;dbl&gt;</th><th scope=col>&lt;fct&gt;</th><th scope=col>&lt;dbl&gt;</th></tr>\n",
       "</thead>\n",
       "<tbody>\n",
       "\t<tr><td>Movie</td><td>Henri Salvador   </td><td>C'est beau de faire un Show     </td><td>0BRjO6ga9RKCKjfDqeFgWV</td><td>0</td><td>0.611</td><td>0.389</td><td> 99373</td><td>0.910</td><td>0</td><td>C#</td><td>0.3460</td><td> -1.828</td><td>Major</td><td>0.0525</td><td>166.969</td><td>4/4</td><td>0.814</td></tr>\n",
       "\t<tr><td>Movie</td><td>Martin &amp; les fées</td><td>Perdu d'avance (par Gad Elmaleh)</td><td>0BjC1NfoEOOusryehmNudP</td><td>1</td><td>0.246</td><td>0.590</td><td>137373</td><td>0.737</td><td>0</td><td>F#</td><td>0.1510</td><td> -5.559</td><td>Minor</td><td>0.0868</td><td>174.003</td><td>4/4</td><td>0.816</td></tr>\n",
       "\t<tr><td>Movie</td><td>Joseph Williams  </td><td>Don't Let Me Be Lonely Tonight  </td><td>0CoSDzoNIKCRs124s9uTVy</td><td>3</td><td>0.952</td><td>0.663</td><td>170267</td><td>0.131</td><td>0</td><td>C </td><td>0.1030</td><td>-13.879</td><td>Minor</td><td>0.0362</td><td> 99.488</td><td>5/4</td><td>0.368</td></tr>\n",
       "\t<tr><td>Movie</td><td>Henri Salvador   </td><td>Dis-moi Monsieur Gordon Cooper  </td><td>0Gc6TVm52BwZD07Ki6tIvf</td><td>0</td><td>0.703</td><td>0.240</td><td>152427</td><td>0.326</td><td>0</td><td>C#</td><td>0.0985</td><td>-12.178</td><td>Major</td><td>0.0395</td><td>171.758</td><td>4/4</td><td>0.227</td></tr>\n",
       "\t<tr><td>...</td><td>...</td><td>...</td><td>...</td><td>...</td><td>...</td><td>...</td><td>...</td><td>...</td><td>...</td><td>...</td><td>...</td><td>...</td><td>...</td><td>...</td><td>...</td><td>...</td><td>...</td></tr>\n",
       "\t<tr><td>Soul</td><td>Jr Thomas &amp; The Volcanos</td><td><span style=white-space:pre-wrap>Burning Fire                  </span></td><td>1qWZdkBl4UVPj9lK6HuuFM</td><td>38</td><td>0.0329</td><td>0.785</td><td>282447</td><td>0.683</td><td>8.80e-04</td><td>E </td><td>0.2370</td><td>-6.944</td><td>Minor</td><td>0.0337</td><td>113.830</td><td>4/4</td><td>0.969</td></tr>\n",
       "\t<tr><td>Soul</td><td>Muddy Waters            </td><td>(I'm Your) Hoochie Coochie Man</td><td>2ziWXUmQLrXTiYjCg2fZ2t</td><td>47</td><td>0.9010</td><td>0.517</td><td>166960</td><td>0.419</td><td>0.00e+00</td><td>D </td><td>0.0945</td><td>-8.282</td><td>Major</td><td>0.1480</td><td> 84.135</td><td>4/4</td><td>0.813</td></tr>\n",
       "\t<tr><td>Soul</td><td>R.LUM.R                 </td><td>With My Words                 </td><td>6EFsue2YbIG4Qkq8Zr9Rir</td><td>44</td><td>0.2620</td><td>0.745</td><td>222442</td><td>0.704</td><td>0.00e+00</td><td>A </td><td>0.3330</td><td>-7.137</td><td>Major</td><td>0.1460</td><td>100.031</td><td>4/4</td><td>0.489</td></tr>\n",
       "\t<tr><td>Soul</td><td>Mint Condition          </td><td>You Don't Have To Hurt No More</td><td>34XO9RwPMKjbvRry54QzWn</td><td>35</td><td>0.0973</td><td>0.758</td><td>323027</td><td>0.470</td><td>4.89e-05</td><td>G#</td><td>0.0836</td><td>-6.708</td><td>Minor</td><td>0.0287</td><td>113.897</td><td>4/4</td><td>0.479</td></tr>\n",
       "</tbody>\n",
       "</table>\n"
      ],
      "text/latex": [
       "A tibble: 232725 × 18\n",
       "\\begin{tabular}{llllllllllllllllll}\n",
       " genre & artist\\_name & track\\_name & track\\_id & popularity & acousticness & danceability & duration\\_ms & energy & instrumentalness & key & liveness & loudness & mode & speechiness & tempo & time\\_signature & valence\\\\\n",
       " <fct> & <chr> & <chr> & <chr> & <dbl> & <dbl> & <dbl> & <dbl> & <dbl> & <dbl> & <fct> & <dbl> & <dbl> & <chr> & <dbl> & <dbl> & <fct> & <dbl>\\\\\n",
       "\\hline\n",
       "\t Movie & Henri Salvador    & C'est beau de faire un Show      & 0BRjO6ga9RKCKjfDqeFgWV & 0 & 0.611 & 0.389 &  99373 & 0.910 & 0 & C\\# & 0.3460 &  -1.828 & Major & 0.0525 & 166.969 & 4/4 & 0.814\\\\\n",
       "\t Movie & Martin \\& les fées & Perdu d'avance (par Gad Elmaleh) & 0BjC1NfoEOOusryehmNudP & 1 & 0.246 & 0.590 & 137373 & 0.737 & 0 & F\\# & 0.1510 &  -5.559 & Minor & 0.0868 & 174.003 & 4/4 & 0.816\\\\\n",
       "\t Movie & Joseph Williams   & Don't Let Me Be Lonely Tonight   & 0CoSDzoNIKCRs124s9uTVy & 3 & 0.952 & 0.663 & 170267 & 0.131 & 0 & C  & 0.1030 & -13.879 & Minor & 0.0362 &  99.488 & 5/4 & 0.368\\\\\n",
       "\t Movie & Henri Salvador    & Dis-moi Monsieur Gordon Cooper   & 0Gc6TVm52BwZD07Ki6tIvf & 0 & 0.703 & 0.240 & 152427 & 0.326 & 0 & C\\# & 0.0985 & -12.178 & Major & 0.0395 & 171.758 & 4/4 & 0.227\\\\\n",
       "\t ... & ... & ... & ... & ... & ... & ... & ... & ... & ... & ... & ... & ... & ... & ... & ... & ... & ...\\\\\n",
       "\t Soul & Jr Thomas \\& The Volcanos & Burning Fire                   & 1qWZdkBl4UVPj9lK6HuuFM & 38 & 0.0329 & 0.785 & 282447 & 0.683 & 8.80e-04 & E  & 0.2370 & -6.944 & Minor & 0.0337 & 113.830 & 4/4 & 0.969\\\\\n",
       "\t Soul & Muddy Waters             & (I'm Your) Hoochie Coochie Man & 2ziWXUmQLrXTiYjCg2fZ2t & 47 & 0.9010 & 0.517 & 166960 & 0.419 & 0.00e+00 & D  & 0.0945 & -8.282 & Major & 0.1480 &  84.135 & 4/4 & 0.813\\\\\n",
       "\t Soul & R.LUM.R                  & With My Words                  & 6EFsue2YbIG4Qkq8Zr9Rir & 44 & 0.2620 & 0.745 & 222442 & 0.704 & 0.00e+00 & A  & 0.3330 & -7.137 & Major & 0.1460 & 100.031 & 4/4 & 0.489\\\\\n",
       "\t Soul & Mint Condition           & You Don't Have To Hurt No More & 34XO9RwPMKjbvRry54QzWn & 35 & 0.0973 & 0.758 & 323027 & 0.470 & 4.89e-05 & G\\# & 0.0836 & -6.708 & Minor & 0.0287 & 113.897 & 4/4 & 0.479\\\\\n",
       "\\end{tabular}\n"
      ],
      "text/markdown": [
       "\n",
       "A tibble: 232725 × 18\n",
       "\n",
       "| genre &lt;fct&gt; | artist_name &lt;chr&gt; | track_name &lt;chr&gt; | track_id &lt;chr&gt; | popularity &lt;dbl&gt; | acousticness &lt;dbl&gt; | danceability &lt;dbl&gt; | duration_ms &lt;dbl&gt; | energy &lt;dbl&gt; | instrumentalness &lt;dbl&gt; | key &lt;fct&gt; | liveness &lt;dbl&gt; | loudness &lt;dbl&gt; | mode &lt;chr&gt; | speechiness &lt;dbl&gt; | tempo &lt;dbl&gt; | time_signature &lt;fct&gt; | valence &lt;dbl&gt; |\n",
       "|---|---|---|---|---|---|---|---|---|---|---|---|---|---|---|---|---|---|\n",
       "| Movie | Henri Salvador    | C'est beau de faire un Show      | 0BRjO6ga9RKCKjfDqeFgWV | 0 | 0.611 | 0.389 |  99373 | 0.910 | 0 | C# | 0.3460 |  -1.828 | Major | 0.0525 | 166.969 | 4/4 | 0.814 |\n",
       "| Movie | Martin &amp; les fées | Perdu d'avance (par Gad Elmaleh) | 0BjC1NfoEOOusryehmNudP | 1 | 0.246 | 0.590 | 137373 | 0.737 | 0 | F# | 0.1510 |  -5.559 | Minor | 0.0868 | 174.003 | 4/4 | 0.816 |\n",
       "| Movie | Joseph Williams   | Don't Let Me Be Lonely Tonight   | 0CoSDzoNIKCRs124s9uTVy | 3 | 0.952 | 0.663 | 170267 | 0.131 | 0 | C  | 0.1030 | -13.879 | Minor | 0.0362 |  99.488 | 5/4 | 0.368 |\n",
       "| Movie | Henri Salvador    | Dis-moi Monsieur Gordon Cooper   | 0Gc6TVm52BwZD07Ki6tIvf | 0 | 0.703 | 0.240 | 152427 | 0.326 | 0 | C# | 0.0985 | -12.178 | Major | 0.0395 | 171.758 | 4/4 | 0.227 |\n",
       "| ... | ... | ... | ... | ... | ... | ... | ... | ... | ... | ... | ... | ... | ... | ... | ... | ... | ... |\n",
       "| Soul | Jr Thomas &amp; The Volcanos | Burning Fire                   | 1qWZdkBl4UVPj9lK6HuuFM | 38 | 0.0329 | 0.785 | 282447 | 0.683 | 8.80e-04 | E  | 0.2370 | -6.944 | Minor | 0.0337 | 113.830 | 4/4 | 0.969 |\n",
       "| Soul | Muddy Waters             | (I'm Your) Hoochie Coochie Man | 2ziWXUmQLrXTiYjCg2fZ2t | 47 | 0.9010 | 0.517 | 166960 | 0.419 | 0.00e+00 | D  | 0.0945 | -8.282 | Major | 0.1480 |  84.135 | 4/4 | 0.813 |\n",
       "| Soul | R.LUM.R                  | With My Words                  | 6EFsue2YbIG4Qkq8Zr9Rir | 44 | 0.2620 | 0.745 | 222442 | 0.704 | 0.00e+00 | A  | 0.3330 | -7.137 | Major | 0.1460 | 100.031 | 4/4 | 0.489 |\n",
       "| Soul | Mint Condition           | You Don't Have To Hurt No More | 34XO9RwPMKjbvRry54QzWn | 35 | 0.0973 | 0.758 | 323027 | 0.470 | 4.89e-05 | G# | 0.0836 | -6.708 | Minor | 0.0287 | 113.897 | 4/4 | 0.479 |\n",
       "\n"
      ],
      "text/plain": [
       "       genre artist_name              track_name                      \n",
       "1      Movie Henri Salvador           C'est beau de faire un Show     \n",
       "2      Movie Martin & les fées        Perdu d'avance (par Gad Elmaleh)\n",
       "3      Movie Joseph Williams          Don't Let Me Be Lonely Tonight  \n",
       "4      Movie Henri Salvador           Dis-moi Monsieur Gordon Cooper  \n",
       "...    ...   ...                      ...                             \n",
       "232722 Soul  Jr Thomas & The Volcanos Burning Fire                    \n",
       "232723 Soul  Muddy Waters             (I'm Your) Hoochie Coochie Man  \n",
       "232724 Soul  R.LUM.R                  With My Words                   \n",
       "232725 Soul  Mint Condition           You Don't Have To Hurt No More  \n",
       "       track_id               popularity acousticness danceability duration_ms\n",
       "1      0BRjO6ga9RKCKjfDqeFgWV 0          0.611        0.389         99373     \n",
       "2      0BjC1NfoEOOusryehmNudP 1          0.246        0.590        137373     \n",
       "3      0CoSDzoNIKCRs124s9uTVy 3          0.952        0.663        170267     \n",
       "4      0Gc6TVm52BwZD07Ki6tIvf 0          0.703        0.240        152427     \n",
       "...    ...                    ...        ...          ...          ...        \n",
       "232722 1qWZdkBl4UVPj9lK6HuuFM 38         0.0329       0.785        282447     \n",
       "232723 2ziWXUmQLrXTiYjCg2fZ2t 47         0.9010       0.517        166960     \n",
       "232724 6EFsue2YbIG4Qkq8Zr9Rir 44         0.2620       0.745        222442     \n",
       "232725 34XO9RwPMKjbvRry54QzWn 35         0.0973       0.758        323027     \n",
       "       energy instrumentalness key liveness loudness mode  speechiness tempo  \n",
       "1      0.910  0                C#  0.3460    -1.828  Major 0.0525      166.969\n",
       "2      0.737  0                F#  0.1510    -5.559  Minor 0.0868      174.003\n",
       "3      0.131  0                C   0.1030   -13.879  Minor 0.0362       99.488\n",
       "4      0.326  0                C#  0.0985   -12.178  Major 0.0395      171.758\n",
       "...    ...    ...              ... ...      ...      ...   ...         ...    \n",
       "232722 0.683  8.80e-04         E   0.2370   -6.944   Minor 0.0337      113.830\n",
       "232723 0.419  0.00e+00         D   0.0945   -8.282   Major 0.1480       84.135\n",
       "232724 0.704  0.00e+00         A   0.3330   -7.137   Major 0.1460      100.031\n",
       "232725 0.470  4.89e-05         G#  0.0836   -6.708   Minor 0.0287      113.897\n",
       "       time_signature valence\n",
       "1      4/4            0.814  \n",
       "2      4/4            0.816  \n",
       "3      5/4            0.368  \n",
       "4      4/4            0.227  \n",
       "...    ...            ...    \n",
       "232722 4/4            0.969  \n",
       "232723 4/4            0.813  \n",
       "232724 4/4            0.489  \n",
       "232725 4/4            0.479  "
      ]
     },
     "metadata": {},
     "output_type": "display_data"
    }
   ],
   "source": [
    "song_data <- read_csv(\"https://github.com/aidanmeharg/dsci-100-2022W2-group-5/raw/main/data/SpotifyFeatures.csv\")\n",
    "\n",
    "song_data <- song_data |>\n",
    "    mutate(genre = as_factor(genre)) |> \n",
    "    mutate(key = as_factor(key)) |>\n",
    "    mutate(time_signature = as_factor(time_signature))\n",
    "\n",
    "song_data"
   ]
  },
  {
   "cell_type": "markdown",
   "id": "dba0eaf7-34b5-4220-8d11-921b12475de4",
   "metadata": {},
   "source": [
    "### Check for Songs Classified Under Multiple Genres"
   ]
  },
  {
   "cell_type": "code",
   "execution_count": 166,
   "id": "69da84b8-34dc-4d06-9413-2f5afe5ce983",
   "metadata": {},
   "outputs": [
    {
     "data": {
      "text/html": [
       "<table class=\"dataframe\">\n",
       "<caption>A tibble: 8 × 2</caption>\n",
       "<thead>\n",
       "\t<tr><th scope=col>copies</th><th scope=col>count</th></tr>\n",
       "\t<tr><th scope=col>&lt;int&gt;</th><th scope=col>&lt;int&gt;</th></tr>\n",
       "</thead>\n",
       "<tbody>\n",
       "\t<tr><td>1</td><td>141650</td></tr>\n",
       "\t<tr><td>2</td><td> 21871</td></tr>\n",
       "\t<tr><td>3</td><td>  8091</td></tr>\n",
       "\t<tr><td>4</td><td>  3374</td></tr>\n",
       "\t<tr><td>5</td><td>  1300</td></tr>\n",
       "\t<tr><td>6</td><td>   358</td></tr>\n",
       "\t<tr><td>7</td><td>   124</td></tr>\n",
       "\t<tr><td>8</td><td>     6</td></tr>\n",
       "</tbody>\n",
       "</table>\n"
      ],
      "text/latex": [
       "A tibble: 8 × 2\n",
       "\\begin{tabular}{ll}\n",
       " copies & count\\\\\n",
       " <int> & <int>\\\\\n",
       "\\hline\n",
       "\t 1 & 141650\\\\\n",
       "\t 2 &  21871\\\\\n",
       "\t 3 &   8091\\\\\n",
       "\t 4 &   3374\\\\\n",
       "\t 5 &   1300\\\\\n",
       "\t 6 &    358\\\\\n",
       "\t 7 &    124\\\\\n",
       "\t 8 &      6\\\\\n",
       "\\end{tabular}\n"
      ],
      "text/markdown": [
       "\n",
       "A tibble: 8 × 2\n",
       "\n",
       "| copies &lt;int&gt; | count &lt;int&gt; |\n",
       "|---|---|\n",
       "| 1 | 141650 |\n",
       "| 2 |  21871 |\n",
       "| 3 |   8091 |\n",
       "| 4 |   3374 |\n",
       "| 5 |   1300 |\n",
       "| 6 |    358 |\n",
       "| 7 |    124 |\n",
       "| 8 |      6 |\n",
       "\n"
      ],
      "text/plain": [
       "  copies count \n",
       "1 1      141650\n",
       "2 2       21871\n",
       "3 3        8091\n",
       "4 4        3374\n",
       "5 5        1300\n",
       "6 6         358\n",
       "7 7         124\n",
       "8 8           6"
      ]
     },
     "metadata": {},
     "output_type": "display_data"
    },
    {
     "data": {
      "text/html": [
       "176774"
      ],
      "text/latex": [
       "176774"
      ],
      "text/markdown": [
       "176774"
      ],
      "text/plain": [
       "[1] 176774"
      ]
     },
     "metadata": {},
     "output_type": "display_data"
    },
    {
     "data": {
      "image/png": "[encoded data removed]",
      "text/plain": [
       "plot without title"
      ]
     },
     "metadata": {
      "image/png": {
       "height": 480,
       "width": 600
      }
     },
     "output_type": "display_data"
    }
   ],
   "source": [
    "song_copies <- song_data |>\n",
    "    group_by(track_id) |>\n",
    "    summarize(copies = n()) |>\n",
    "    arrange(desc(copies)) \n",
    "\n",
    "song_copy_counts <- song_copies |>\n",
    "    group_by(copies) |>\n",
    "    summarize(count = n())\n",
    "\n",
    "num_unique_track_ids <- song_copy_counts |>\n",
    "    select(count) |>\n",
    "    pull() |>\n",
    "    sum()\n",
    "\n",
    "song_copy_counts\n",
    "num_unique_track_ids\n",
    "\n",
    "ggplot(song_copy_counts, aes(copies, count))+\n",
    "    geom_bar(stat = \"identity\")+\n",
    "    labs(x = \"Number of Labeled Genres For Song\", y = \"Count\")+\n",
    "    theme(text = element_text(size = 20))"
   ]
  },
  {
   "cell_type": "markdown",
   "id": "4d8b3413-aef7-45fe-afd8-e3049debeb86",
   "metadata": {},
   "source": [
    "There are a total of 176,774 unique tracks in this dataset. Of those tracks, 141,650 (a vast majority) fall under a single genre classification while the rest appear in as many as eight different genres! Here we find a song by its unique track_id that is classified under 8 genres:"
   ]
  },
  {
   "cell_type": "code",
   "execution_count": 167,
   "id": "e1692708-49af-4f10-a183-533a76fe0eeb",
   "metadata": {},
   "outputs": [
    {
     "data": {
      "text/html": [
       "<table class=\"dataframe\">\n",
       "<caption>A tibble: 8 × 3</caption>\n",
       "<thead>\n",
       "\t<tr><th scope=col>genre</th><th scope=col>artist_name</th><th scope=col>track_name</th></tr>\n",
       "\t<tr><th scope=col>&lt;fct&gt;</th><th scope=col>&lt;chr&gt;</th><th scope=col>&lt;chr&gt;</th></tr>\n",
       "</thead>\n",
       "<tbody>\n",
       "\t<tr><td>Alternative     </td><td>dvsn</td><td>Hallucinations</td></tr>\n",
       "\t<tr><td>Children’s Music</td><td>dvsn</td><td>Hallucinations</td></tr>\n",
       "\t<tr><td>Hip-Hop         </td><td>dvsn</td><td>Hallucinations</td></tr>\n",
       "\t<tr><td>Indie           </td><td>dvsn</td><td>Hallucinations</td></tr>\n",
       "\t<tr><td>Rap             </td><td>dvsn</td><td>Hallucinations</td></tr>\n",
       "\t<tr><td>Pop             </td><td>dvsn</td><td>Hallucinations</td></tr>\n",
       "\t<tr><td><span style=white-space:pre-wrap>R&amp;B             </span></td><td>dvsn</td><td>Hallucinations</td></tr>\n",
       "\t<tr><td>Soul            </td><td>dvsn</td><td>Hallucinations</td></tr>\n",
       "</tbody>\n",
       "</table>\n"
      ],
      "text/latex": [
       "A tibble: 8 × 3\n",
       "\\begin{tabular}{lll}\n",
       " genre & artist\\_name & track\\_name\\\\\n",
       " <fct> & <chr> & <chr>\\\\\n",
       "\\hline\n",
       "\t Alternative      & dvsn & Hallucinations\\\\\n",
       "\t Children’s Music & dvsn & Hallucinations\\\\\n",
       "\t Hip-Hop          & dvsn & Hallucinations\\\\\n",
       "\t Indie            & dvsn & Hallucinations\\\\\n",
       "\t Rap              & dvsn & Hallucinations\\\\\n",
       "\t Pop              & dvsn & Hallucinations\\\\\n",
       "\t R\\&B              & dvsn & Hallucinations\\\\\n",
       "\t Soul             & dvsn & Hallucinations\\\\\n",
       "\\end{tabular}\n"
      ],
      "text/markdown": [
       "\n",
       "A tibble: 8 × 3\n",
       "\n",
       "| genre &lt;fct&gt; | artist_name &lt;chr&gt; | track_name &lt;chr&gt; |\n",
       "|---|---|---|\n",
       "| Alternative      | dvsn | Hallucinations |\n",
       "| Children’s Music | dvsn | Hallucinations |\n",
       "| Hip-Hop          | dvsn | Hallucinations |\n",
       "| Indie            | dvsn | Hallucinations |\n",
       "| Rap              | dvsn | Hallucinations |\n",
       "| Pop              | dvsn | Hallucinations |\n",
       "| R&amp;B              | dvsn | Hallucinations |\n",
       "| Soul             | dvsn | Hallucinations |\n",
       "\n"
      ],
      "text/plain": [
       "  genre            artist_name track_name    \n",
       "1 Alternative      dvsn        Hallucinations\n",
       "2 Children’s Music dvsn        Hallucinations\n",
       "3 Hip-Hop          dvsn        Hallucinations\n",
       "4 Indie            dvsn        Hallucinations\n",
       "5 Rap              dvsn        Hallucinations\n",
       "6 Pop              dvsn        Hallucinations\n",
       "7 R&B              dvsn        Hallucinations\n",
       "8 Soul             dvsn        Hallucinations"
      ]
     },
     "metadata": {},
     "output_type": "display_data"
    }
   ],
   "source": [
    "most_genres <- song_copies |>\n",
    "    select(track_id) |>\n",
    "    slice(1) |>\n",
    "    pull()\n",
    "\n",
    "\n",
    "multiple_genre_song <- song_data |>\n",
    "    filter(track_id == most_genres) |>\n",
    "    select(genre, artist_name, track_name)\n",
    "\n",
    "multiple_genre_song"
   ]
  },
  {
   "cell_type": "markdown",
   "id": "62b6c55d-b770-4ac3-bf12-32d046e18281",
   "metadata": {},
   "source": [
    "Having songs that fall into multiple genres will complicate the classification process and may give a more optimistic view of model accuracy. For this project, we decide to only use songs with one assigned genre."
   ]
  },
  {
   "cell_type": "code",
   "execution_count": 168,
   "id": "ebbc2c4f-04c4-4be0-ba58-afa18c2e35e2",
   "metadata": {},
   "outputs": [],
   "source": [
    "multi_genre_songs <- song_copies |>\n",
    "    filter(copies > 1) |>\n",
    "    select(track_id) |>\n",
    "    pull()\n",
    "\n",
    "song_data <- song_data |>\n",
    "    filter(!(track_id %in% multi_genre_songs))"
   ]
  },
  {
   "cell_type": "code",
   "execution_count": 169,
   "id": "f77f5cf0-2bd8-4f3c-aa76-1519743d2cf9",
   "metadata": {},
   "outputs": [
    {
     "data": {
      "image/png": "[encoded data removed]",
      "text/plain": [
       "plot without title"
      ]
     },
     "metadata": {
      "image/png": {
       "height": 480,
       "width": 600
      }
     },
     "output_type": "display_data"
    }
   ],
   "source": [
    "options(repr.plot.height = 8, repr.plot.width = 10)\n",
    "\n",
    "genre_plot <- song_data |>\n",
    "    group_by(genre) |>\n",
    "    summarize(count = n()) |>\n",
    "    ggplot(aes(reorder(genre, -count), count))+\n",
    "        geom_bar(stat = \"identity\")+\n",
    "        labs(x = \"Genre\", y = \"Count\")+\n",
    "        coord_flip()+\n",
    "        theme(text = element_text(size = 20))\n",
    "\n",
    "genre_plot"
   ]
  },
  {
   "cell_type": "markdown",
   "id": "b40bf0a7-4de5-4e3d-88f9-f214161e235a",
   "metadata": {},
   "source": [
    "As seen on the last graph there is a problem regarding the genre of Children's Music as it seems to be classified into two genreas because of the apostrophy.One is Children's Music and the other is Children’s Music, we will correct this and put both of them under the same catgeory as tehy should belong"
   ]
  },
  {
   "cell_type": "code",
   "execution_count": 172,
   "id": "6cf96470-bf11-484c-a6ae-f9c47efca160",
   "metadata": {},
   "outputs": [
    {
     "name": "stdout",
     "output_type": "stream",
     "text": [
      "[1] \"Number of Rows of the original data set:  141650\"\n",
      "[1] \"Number of genres of the original Data set:  27\"\n"
     ]
    }
   ],
   "source": [
    "#Checking how many songs and genrea are in teh data set\n",
    "Original_number_Of_songs <-nrow(song_data)\n",
    "Original_number_Of_Genere <- song_data |>\n",
    "                            group_by(genre) |>\n",
    "                            summarize(count = n()) |> \n",
    "                            nrow()\n",
    "print(paste(\"Number of Rows of the original data set: \", Original_number_Of_songs))\n",
    "print(paste(\"Number of genres of the original Data set: \", Original_number_Of_Genere))\n",
    "#We select one of the two genre classify as children songs and mutate them to the other name of Children's Music\n",
    "selectingOneTypeOfChildrensSong <- song_data |>\n",
    "                                filter(genre==\"Children’s Music\") |>\n",
    "                                mutate(genre=\"Children's Music\")\n",
    "\n",
    "#We delete that said genre from the original data set\n",
    "song_data <- song_data |> \n",
    "            filter(genre!=\"Children’s Music\")\n"
   ]
  },
  {
   "cell_type": "code",
   "execution_count": 173,
   "id": "1f279f2e-f734-4d9c-ace9-52b5d509b9e2",
   "metadata": {},
   "outputs": [
    {
     "name": "stdout",
     "output_type": "stream",
     "text": [
      "[1] \"Number of Rows of the new data set:  141650\"\n",
      "[1] \"Number of genres of the new Data set:  26\"\n"
     ]
    }
   ],
   "source": [
    "#We merge both of them into one data set\n",
    "song_data <-add_row(song_data, selectingOneTypeOfChildrensSong)\n",
    "\n",
    "#Confirm they have the same number of rows\n",
    "New_number_of_songs<-nrow(song_data)\n",
    "print(paste(\"Number of Rows of the new data set: \", New_number_of_songs))\n",
    "#Confirm the have one genre less\n",
    "New_number_Of_Genere <- song_data |>\n",
    "                            group_by(genre) |>\n",
    "                            summarize(count = n()) |>\n",
    "                            nrow()\n",
    "print(paste(\"Number of genres of the new Data set: \", New_number_Of_Genere))"
   ]
  },
  {
   "cell_type": "markdown",
   "id": "2f16bf18-feeb-48e2-85e1-2a2d1068c3e6",
   "metadata": {},
   "source": [
    "### TODO: \n",
    "1. Yes, we should either undersample, or try to use any method to balace the data, or balance the data using another function\n",
    "2. They were part of the same genra but using different quotations one was using ' and the other ’, correctly change that\n",
    "3. Yes, I think we should remove them like you did."
   ]
  },
  {
   "cell_type": "markdown",
   "id": "86e99908-1ef2-4330-8935-ae18244561a4",
   "metadata": {},
   "source": [
    "### Training / Testing Split"
   ]
  },
  {
   "cell_type": "markdown",
   "id": "ac817b02-a4ed-4079-9a65-e99eab246377",
   "metadata": {},
   "source": [
    "**Please Don't Forget To Run This**"
   ]
  },
  {
   "cell_type": "code",
   "execution_count": 96,
   "id": "f7e1a76c-88fb-48da-a77e-ad531de29a7a",
   "metadata": {},
   "outputs": [],
   "source": [
    "set.seed(1738)"
   ]
  },
  {
   "cell_type": "code",
   "execution_count": 180,
   "id": "6f547e5b-b4a1-4d42-8f78-391316fad67b",
   "metadata": {},
   "outputs": [
    {
     "data": {
      "image/png": "[encoded data removed]",
      "text/plain": [
       "plot without title"
      ]
     },
     "metadata": {
      "image/png": {
       "height": 480,
       "width": 600
      }
     },
     "output_type": "display_data"
    }
   ],
   "source": [
    "genre_plot <- song_data |>\n",
    "    group_by(genre) |>\n",
    "    summarize(count = n()) |>\n",
    "    ggplot(aes(reorder(genre, -count), count))+\n",
    "        geom_bar(stat = \"identity\")+\n",
    "        labs(x = \"Genre\", y = \"Count\")+\n",
    "        coord_flip()+\n",
    "        theme(text = element_text(size = 20))\n",
    "genre_plot"
   ]
  },
  {
   "cell_type": "markdown",
   "id": "4955dd3b-f22e-4039-9b17-d7795d0578cf",
   "metadata": {},
   "source": [
    "As seen here there seems to be a problem regarding the ratio of many of the genrea such as alcapella. This problem is called inbalance and will make the model correctly uncatageorize many observations due to not having enough points, to correct that we need to make make the percenteage of this points more important in the data set using step_upsample"
   ]
  },
  {
   "cell_type": "code",
   "execution_count": 217,
   "id": "fd2be554-aa5e-41b7-b85a-f2f9047e839e",
   "metadata": {},
   "outputs": [
    {
     "name": "stderr",
     "output_type": "stream",
     "text": [
      "Warning message:\n",
      "\"Too little data to stratify.\n",
      "\u001b[36m*\u001b[39m Resampling will be unstratified.\"\n"
     ]
    }
   ],
   "source": [
    "song_split <- initial_split(song_data, prop = 0.75, strata = genre)\n",
    "song_train <- training(song_split)\n",
    "song_test <- testing(song_split)"
   ]
  },
  {
   "cell_type": "markdown",
   "id": "e670e5c9-12a9-49dd-b8e2-a900deb200a4",
   "metadata": {},
   "source": [
    "### Descriptive Table (training data)"
   ]
  },
  {
   "cell_type": "markdown",
   "id": "24cbb34e-4250-4f94-abf4-080eb72c0969",
   "metadata": {},
   "source": [
    "### Visualization (training data)"
   ]
  },
  {
   "cell_type": "markdown",
   "id": "79fb0734-dd4a-4ca3-8fe7-b3edb45e73cf",
   "metadata": {},
   "source": [
    "Very few A Capella: should we still include this genre?\n",
    "And why are there 2 Children's Music categories???"
   ]
  },
  {
   "cell_type": "code",
   "execution_count": null,
   "id": "80a3f1f1-e436-470f-b0d1-f664081d205e",
   "metadata": {},
   "outputs": [],
   "source": []
  }
 ],
 "metadata": {
  "kernelspec": {
   "display_name": "R",
   "language": "R",
   "name": "ir"
  },
  "language_info": {
   "codemirror_mode": "r",
   "file_extension": ".r",
   "mimetype": "text/x-r-source",
   "name": "R",
   "pygments_lexer": "r",
   "version": "4.1.0"
  },
  "toc-autonumbering": true,
  "toc-showcode": false,
  "toc-showtags": false
 },
 "nbformat": 4,
 "nbformat_minor": 5
}
