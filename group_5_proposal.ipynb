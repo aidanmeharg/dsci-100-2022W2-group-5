{
 "cells": [
  {
   "cell_type": "markdown",
   "id": "70acd4dc-9efb-49b9-b648-10853d2578ce",
   "metadata": {},
   "source": [
    "# **Spotify Song Genre Prediction**\n",
    "#### **DSCI 100 Section 007**\n",
    "#### **Group 5 Project Proposal**"
   ]
  },
  {
   "cell_type": "markdown",
   "id": "d239fc38-d1c9-40ec-90d9-e2357af84c3e",
   "metadata": {},
   "source": [
    "Dataset available at: https://www.kaggle.com/datasets/zaheenhamidani/ultimate-spotify-tracks-db"
   ]
  },
  {
   "cell_type": "markdown",
   "id": "9c7b2b2e-b8b9-4e05-bbf2-71ddf407fbc1",
   "metadata": {},
   "source": [
    "Feature Descriptions: https://developer.spotify.com/documentation/web-api/reference/#/operations/get-audio-features"
   ]
  },
  {
   "cell_type": "code",
   "execution_count": 1,
   "id": "31699c23-b8df-40a4-9e71-6242860b6beb",
   "metadata": {},
   "outputs": [
    {
     "name": "stderr",
     "output_type": "stream",
     "text": [
      "── \u001b[1mAttaching packages\u001b[22m ─────────────────────────────────────── tidyverse 1.3.1 ──\n",
      "\n",
      "\u001b[32m✔\u001b[39m \u001b[34mggplot2\u001b[39m 3.3.6     \u001b[32m✔\u001b[39m \u001b[34mpurrr  \u001b[39m 0.3.4\n",
      "\u001b[32m✔\u001b[39m \u001b[34mtibble \u001b[39m 3.1.7     \u001b[32m✔\u001b[39m \u001b[34mdplyr  \u001b[39m 1.0.9\n",
      "\u001b[32m✔\u001b[39m \u001b[34mtidyr  \u001b[39m 1.2.0     \u001b[32m✔\u001b[39m \u001b[34mstringr\u001b[39m 1.4.0\n",
      "\u001b[32m✔\u001b[39m \u001b[34mreadr  \u001b[39m 2.1.2     \u001b[32m✔\u001b[39m \u001b[34mforcats\u001b[39m 0.5.1\n",
      "\n",
      "── \u001b[1mConflicts\u001b[22m ────────────────────────────────────────── tidyverse_conflicts() ──\n",
      "\u001b[31m✖\u001b[39m \u001b[34mdplyr\u001b[39m::\u001b[32mfilter()\u001b[39m masks \u001b[34mstats\u001b[39m::filter()\n",
      "\u001b[31m✖\u001b[39m \u001b[34mdplyr\u001b[39m::\u001b[32mlag()\u001b[39m    masks \u001b[34mstats\u001b[39m::lag()\n",
      "\n",
      "── \u001b[1mAttaching packages\u001b[22m ────────────────────────────────────── tidymodels 1.0.0 ──\n",
      "\n",
      "\u001b[32m✔\u001b[39m \u001b[34mbroom       \u001b[39m 1.0.0     \u001b[32m✔\u001b[39m \u001b[34mrsample     \u001b[39m 1.0.0\n",
      "\u001b[32m✔\u001b[39m \u001b[34mdials       \u001b[39m 1.0.0     \u001b[32m✔\u001b[39m \u001b[34mtune        \u001b[39m 1.0.0\n",
      "\u001b[32m✔\u001b[39m \u001b[34minfer       \u001b[39m 1.0.2     \u001b[32m✔\u001b[39m \u001b[34mworkflows   \u001b[39m 1.0.0\n",
      "\u001b[32m✔\u001b[39m \u001b[34mmodeldata   \u001b[39m 1.0.0     \u001b[32m✔\u001b[39m \u001b[34mworkflowsets\u001b[39m 1.0.0\n",
      "\u001b[32m✔\u001b[39m \u001b[34mparsnip     \u001b[39m 1.0.0     \u001b[32m✔\u001b[39m \u001b[34myardstick   \u001b[39m 1.0.0\n",
      "\u001b[32m✔\u001b[39m \u001b[34mrecipes     \u001b[39m 1.0.1     \n",
      "\n",
      "── \u001b[1mConflicts\u001b[22m ───────────────────────────────────────── tidymodels_conflicts() ──\n",
      "\u001b[31m✖\u001b[39m \u001b[34mscales\u001b[39m::\u001b[32mdiscard()\u001b[39m masks \u001b[34mpurrr\u001b[39m::discard()\n",
      "\u001b[31m✖\u001b[39m \u001b[34mdplyr\u001b[39m::\u001b[32mfilter()\u001b[39m   masks \u001b[34mstats\u001b[39m::filter()\n",
      "\u001b[31m✖\u001b[39m \u001b[34mrecipes\u001b[39m::\u001b[32mfixed()\u001b[39m  masks \u001b[34mstringr\u001b[39m::fixed()\n",
      "\u001b[31m✖\u001b[39m \u001b[34mdplyr\u001b[39m::\u001b[32mlag()\u001b[39m      masks \u001b[34mstats\u001b[39m::lag()\n",
      "\u001b[31m✖\u001b[39m \u001b[34myardstick\u001b[39m::\u001b[32mspec()\u001b[39m masks \u001b[34mreadr\u001b[39m::spec()\n",
      "\u001b[31m✖\u001b[39m \u001b[34mrecipes\u001b[39m::\u001b[32mstep()\u001b[39m   masks \u001b[34mstats\u001b[39m::step()\n",
      "\u001b[34m•\u001b[39m Dig deeper into tidy modeling with R at \u001b[32mhttps://www.tmwr.org\u001b[39m\n",
      "\n"
     ]
    }
   ],
   "source": [
    "library(tidyverse)\n",
    "library(repr)\n",
    "library(tidymodels)\n",
    "options(repr.matrix.max.rows = 6)"
   ]
  },
  {
   "cell_type": "markdown",
   "id": "a70120b4-1fbe-476a-9f92-991386abe266",
   "metadata": {},
   "source": [
    "**Please Run This Before Continuing!!!!!**"
   ]
  },
  {
   "cell_type": "code",
   "execution_count": 23,
   "id": "e83e1694-ea62-4469-b3fa-dd303f682e49",
   "metadata": {},
   "outputs": [],
   "source": [
    "set.seed(1738)"
   ]
  },
  {
   "cell_type": "code",
   "execution_count": 25,
   "id": "1dd1d3a1-03eb-4d66-ad49-0bae4e6df033",
   "metadata": {},
   "outputs": [
    {
     "name": "stderr",
     "output_type": "stream",
     "text": [
      "\u001b[1mRows: \u001b[22m\u001b[34m232725\u001b[39m \u001b[1mColumns: \u001b[22m\u001b[34m18\u001b[39m\n",
      "\u001b[36m──\u001b[39m \u001b[1mColumn specification\u001b[22m \u001b[36m────────────────────────────────────────────────────────\u001b[39m\n",
      "\u001b[1mDelimiter:\u001b[22m \",\"\n",
      "\u001b[31mchr\u001b[39m  (7): genre, artist_name, track_name, track_id, key, mode, time_signature\n",
      "\u001b[32mdbl\u001b[39m (11): popularity, acousticness, danceability, duration_ms, energy, instr...\n",
      "\n",
      "\u001b[36mℹ\u001b[39m Use `spec()` to retrieve the full column specification for this data.\n",
      "\u001b[36mℹ\u001b[39m Specify the column types or set `show_col_types = FALSE` to quiet this message.\n"
     ]
    },
    {
     "data": {
      "text/html": [
       "<table class=\"dataframe\">\n",
       "<caption>A spec_tbl_df: 232725 × 18</caption>\n",
       "<thead>\n",
       "\t<tr><th scope=col>genre</th><th scope=col>artist_name</th><th scope=col>track_name</th><th scope=col>track_id</th><th scope=col>popularity</th><th scope=col>acousticness</th><th scope=col>danceability</th><th scope=col>duration_ms</th><th scope=col>energy</th><th scope=col>instrumentalness</th><th scope=col>key</th><th scope=col>liveness</th><th scope=col>loudness</th><th scope=col>mode</th><th scope=col>speechiness</th><th scope=col>tempo</th><th scope=col>time_signature</th><th scope=col>valence</th></tr>\n",
       "\t<tr><th scope=col>&lt;chr&gt;</th><th scope=col>&lt;chr&gt;</th><th scope=col>&lt;chr&gt;</th><th scope=col>&lt;chr&gt;</th><th scope=col>&lt;dbl&gt;</th><th scope=col>&lt;dbl&gt;</th><th scope=col>&lt;dbl&gt;</th><th scope=col>&lt;dbl&gt;</th><th scope=col>&lt;dbl&gt;</th><th scope=col>&lt;dbl&gt;</th><th scope=col>&lt;chr&gt;</th><th scope=col>&lt;dbl&gt;</th><th scope=col>&lt;dbl&gt;</th><th scope=col>&lt;chr&gt;</th><th scope=col>&lt;dbl&gt;</th><th scope=col>&lt;dbl&gt;</th><th scope=col>&lt;chr&gt;</th><th scope=col>&lt;dbl&gt;</th></tr>\n",
       "</thead>\n",
       "<tbody>\n",
       "\t<tr><td>Movie</td><td>Henri Salvador   </td><td>C'est beau de faire un Show     </td><td>0BRjO6ga9RKCKjfDqeFgWV</td><td>0</td><td>0.611</td><td>0.389</td><td> 99373</td><td>0.910</td><td>0</td><td>C#</td><td>0.346</td><td> -1.828</td><td>Major</td><td>0.0525</td><td>166.969</td><td>4/4</td><td>0.814</td></tr>\n",
       "\t<tr><td>Movie</td><td>Martin &amp; les fées</td><td>Perdu d'avance (par Gad Elmaleh)</td><td>0BjC1NfoEOOusryehmNudP</td><td>1</td><td>0.246</td><td>0.590</td><td>137373</td><td>0.737</td><td>0</td><td>F#</td><td>0.151</td><td> -5.559</td><td>Minor</td><td>0.0868</td><td>174.003</td><td>4/4</td><td>0.816</td></tr>\n",
       "\t<tr><td>Movie</td><td>Joseph Williams  </td><td>Don't Let Me Be Lonely Tonight  </td><td>0CoSDzoNIKCRs124s9uTVy</td><td>3</td><td>0.952</td><td>0.663</td><td>170267</td><td>0.131</td><td>0</td><td>C </td><td>0.103</td><td>-13.879</td><td>Minor</td><td>0.0362</td><td> 99.488</td><td>5/4</td><td>0.368</td></tr>\n",
       "\t<tr><td>⋮</td><td>⋮</td><td>⋮</td><td>⋮</td><td>⋮</td><td>⋮</td><td>⋮</td><td>⋮</td><td>⋮</td><td>⋮</td><td>⋮</td><td>⋮</td><td>⋮</td><td>⋮</td><td>⋮</td><td>⋮</td><td>⋮</td><td>⋮</td></tr>\n",
       "\t<tr><td>Soul</td><td>Muddy Waters  </td><td>(I'm Your) Hoochie Coochie Man</td><td>2ziWXUmQLrXTiYjCg2fZ2t</td><td>47</td><td>0.9010</td><td>0.517</td><td>166960</td><td>0.419</td><td>0.00e+00</td><td>D </td><td>0.0945</td><td>-8.282</td><td>Major</td><td>0.1480</td><td> 84.135</td><td>4/4</td><td>0.813</td></tr>\n",
       "\t<tr><td>Soul</td><td>R.LUM.R       </td><td>With My Words                 </td><td>6EFsue2YbIG4Qkq8Zr9Rir</td><td>44</td><td>0.2620</td><td>0.745</td><td>222442</td><td>0.704</td><td>0.00e+00</td><td>A </td><td>0.3330</td><td>-7.137</td><td>Major</td><td>0.1460</td><td>100.031</td><td>4/4</td><td>0.489</td></tr>\n",
       "\t<tr><td>Soul</td><td>Mint Condition</td><td>You Don't Have To Hurt No More</td><td>34XO9RwPMKjbvRry54QzWn</td><td>35</td><td>0.0973</td><td>0.758</td><td>323027</td><td>0.470</td><td>4.89e-05</td><td>G#</td><td>0.0836</td><td>-6.708</td><td>Minor</td><td>0.0287</td><td>113.897</td><td>4/4</td><td>0.479</td></tr>\n",
       "</tbody>\n",
       "</table>\n"
      ],
      "text/latex": [
       "A spec\\_tbl\\_df: 232725 × 18\n",
       "\\begin{tabular}{llllllllllllllllll}\n",
       " genre & artist\\_name & track\\_name & track\\_id & popularity & acousticness & danceability & duration\\_ms & energy & instrumentalness & key & liveness & loudness & mode & speechiness & tempo & time\\_signature & valence\\\\\n",
       " <chr> & <chr> & <chr> & <chr> & <dbl> & <dbl> & <dbl> & <dbl> & <dbl> & <dbl> & <chr> & <dbl> & <dbl> & <chr> & <dbl> & <dbl> & <chr> & <dbl>\\\\\n",
       "\\hline\n",
       "\t Movie & Henri Salvador    & C'est beau de faire un Show      & 0BRjO6ga9RKCKjfDqeFgWV & 0 & 0.611 & 0.389 &  99373 & 0.910 & 0 & C\\# & 0.346 &  -1.828 & Major & 0.0525 & 166.969 & 4/4 & 0.814\\\\\n",
       "\t Movie & Martin \\& les fées & Perdu d'avance (par Gad Elmaleh) & 0BjC1NfoEOOusryehmNudP & 1 & 0.246 & 0.590 & 137373 & 0.737 & 0 & F\\# & 0.151 &  -5.559 & Minor & 0.0868 & 174.003 & 4/4 & 0.816\\\\\n",
       "\t Movie & Joseph Williams   & Don't Let Me Be Lonely Tonight   & 0CoSDzoNIKCRs124s9uTVy & 3 & 0.952 & 0.663 & 170267 & 0.131 & 0 & C  & 0.103 & -13.879 & Minor & 0.0362 &  99.488 & 5/4 & 0.368\\\\\n",
       "\t ⋮ & ⋮ & ⋮ & ⋮ & ⋮ & ⋮ & ⋮ & ⋮ & ⋮ & ⋮ & ⋮ & ⋮ & ⋮ & ⋮ & ⋮ & ⋮ & ⋮ & ⋮\\\\\n",
       "\t Soul & Muddy Waters   & (I'm Your) Hoochie Coochie Man & 2ziWXUmQLrXTiYjCg2fZ2t & 47 & 0.9010 & 0.517 & 166960 & 0.419 & 0.00e+00 & D  & 0.0945 & -8.282 & Major & 0.1480 &  84.135 & 4/4 & 0.813\\\\\n",
       "\t Soul & R.LUM.R        & With My Words                  & 6EFsue2YbIG4Qkq8Zr9Rir & 44 & 0.2620 & 0.745 & 222442 & 0.704 & 0.00e+00 & A  & 0.3330 & -7.137 & Major & 0.1460 & 100.031 & 4/4 & 0.489\\\\\n",
       "\t Soul & Mint Condition & You Don't Have To Hurt No More & 34XO9RwPMKjbvRry54QzWn & 35 & 0.0973 & 0.758 & 323027 & 0.470 & 4.89e-05 & G\\# & 0.0836 & -6.708 & Minor & 0.0287 & 113.897 & 4/4 & 0.479\\\\\n",
       "\\end{tabular}\n"
      ],
      "text/markdown": [
       "\n",
       "A spec_tbl_df: 232725 × 18\n",
       "\n",
       "| genre &lt;chr&gt; | artist_name &lt;chr&gt; | track_name &lt;chr&gt; | track_id &lt;chr&gt; | popularity &lt;dbl&gt; | acousticness &lt;dbl&gt; | danceability &lt;dbl&gt; | duration_ms &lt;dbl&gt; | energy &lt;dbl&gt; | instrumentalness &lt;dbl&gt; | key &lt;chr&gt; | liveness &lt;dbl&gt; | loudness &lt;dbl&gt; | mode &lt;chr&gt; | speechiness &lt;dbl&gt; | tempo &lt;dbl&gt; | time_signature &lt;chr&gt; | valence &lt;dbl&gt; |\n",
       "|---|---|---|---|---|---|---|---|---|---|---|---|---|---|---|---|---|---|\n",
       "| Movie | Henri Salvador    | C'est beau de faire un Show      | 0BRjO6ga9RKCKjfDqeFgWV | 0 | 0.611 | 0.389 |  99373 | 0.910 | 0 | C# | 0.346 |  -1.828 | Major | 0.0525 | 166.969 | 4/4 | 0.814 |\n",
       "| Movie | Martin &amp; les fées | Perdu d'avance (par Gad Elmaleh) | 0BjC1NfoEOOusryehmNudP | 1 | 0.246 | 0.590 | 137373 | 0.737 | 0 | F# | 0.151 |  -5.559 | Minor | 0.0868 | 174.003 | 4/4 | 0.816 |\n",
       "| Movie | Joseph Williams   | Don't Let Me Be Lonely Tonight   | 0CoSDzoNIKCRs124s9uTVy | 3 | 0.952 | 0.663 | 170267 | 0.131 | 0 | C  | 0.103 | -13.879 | Minor | 0.0362 |  99.488 | 5/4 | 0.368 |\n",
       "| ⋮ | ⋮ | ⋮ | ⋮ | ⋮ | ⋮ | ⋮ | ⋮ | ⋮ | ⋮ | ⋮ | ⋮ | ⋮ | ⋮ | ⋮ | ⋮ | ⋮ | ⋮ |\n",
       "| Soul | Muddy Waters   | (I'm Your) Hoochie Coochie Man | 2ziWXUmQLrXTiYjCg2fZ2t | 47 | 0.9010 | 0.517 | 166960 | 0.419 | 0.00e+00 | D  | 0.0945 | -8.282 | Major | 0.1480 |  84.135 | 4/4 | 0.813 |\n",
       "| Soul | R.LUM.R        | With My Words                  | 6EFsue2YbIG4Qkq8Zr9Rir | 44 | 0.2620 | 0.745 | 222442 | 0.704 | 0.00e+00 | A  | 0.3330 | -7.137 | Major | 0.1460 | 100.031 | 4/4 | 0.489 |\n",
       "| Soul | Mint Condition | You Don't Have To Hurt No More | 34XO9RwPMKjbvRry54QzWn | 35 | 0.0973 | 0.758 | 323027 | 0.470 | 4.89e-05 | G# | 0.0836 | -6.708 | Minor | 0.0287 | 113.897 | 4/4 | 0.479 |\n",
       "\n"
      ],
      "text/plain": [
       "       genre artist_name       track_name                      \n",
       "1      Movie Henri Salvador    C'est beau de faire un Show     \n",
       "2      Movie Martin & les fées Perdu d'avance (par Gad Elmaleh)\n",
       "3      Movie Joseph Williams   Don't Let Me Be Lonely Tonight  \n",
       "⋮      ⋮     ⋮                 ⋮                               \n",
       "232723 Soul  Muddy Waters      (I'm Your) Hoochie Coochie Man  \n",
       "232724 Soul  R.LUM.R           With My Words                   \n",
       "232725 Soul  Mint Condition    You Don't Have To Hurt No More  \n",
       "       track_id               popularity acousticness danceability duration_ms\n",
       "1      0BRjO6ga9RKCKjfDqeFgWV 0          0.611        0.389         99373     \n",
       "2      0BjC1NfoEOOusryehmNudP 1          0.246        0.590        137373     \n",
       "3      0CoSDzoNIKCRs124s9uTVy 3          0.952        0.663        170267     \n",
       "⋮      ⋮                      ⋮          ⋮            ⋮            ⋮          \n",
       "232723 2ziWXUmQLrXTiYjCg2fZ2t 47         0.9010       0.517        166960     \n",
       "232724 6EFsue2YbIG4Qkq8Zr9Rir 44         0.2620       0.745        222442     \n",
       "232725 34XO9RwPMKjbvRry54QzWn 35         0.0973       0.758        323027     \n",
       "       energy instrumentalness key liveness loudness mode  speechiness tempo  \n",
       "1      0.910  0                C#  0.346     -1.828  Major 0.0525      166.969\n",
       "2      0.737  0                F#  0.151     -5.559  Minor 0.0868      174.003\n",
       "3      0.131  0                C   0.103    -13.879  Minor 0.0362       99.488\n",
       "⋮      ⋮      ⋮                ⋮   ⋮        ⋮        ⋮     ⋮           ⋮      \n",
       "232723 0.419  0.00e+00         D   0.0945   -8.282   Major 0.1480       84.135\n",
       "232724 0.704  0.00e+00         A   0.3330   -7.137   Major 0.1460      100.031\n",
       "232725 0.470  4.89e-05         G#  0.0836   -6.708   Minor 0.0287      113.897\n",
       "       time_signature valence\n",
       "1      4/4            0.814  \n",
       "2      4/4            0.816  \n",
       "3      5/4            0.368  \n",
       "⋮      ⋮              ⋮      \n",
       "232723 4/4            0.813  \n",
       "232724 4/4            0.489  \n",
       "232725 4/4            0.479  "
      ]
     },
     "metadata": {},
     "output_type": "display_data"
    }
   ],
   "source": [
    "song_data <- read_csv(\"data/SpotifyFeatures.csv\")\n",
    "\n",
    "song_data"
   ]
  },
  {
   "cell_type": "code",
   "execution_count": 27,
   "id": "f77f5cf0-2bd8-4f3c-aa76-1519743d2cf9",
   "metadata": {},
   "outputs": [
    {
     "data": {
      "text/plain": [
       "    genre           artist_name         track_name          track_id        \n",
       " Length:232725      Length:232725      Length:232725      Length:232725     \n",
       " Class :character   Class :character   Class :character   Class :character  \n",
       " Mode  :character   Mode  :character   Mode  :character   Mode  :character  \n",
       "                                                                            \n",
       "                                                                            \n",
       "                                                                            \n",
       "   popularity      acousticness     danceability     duration_ms     \n",
       " Min.   :  0.00   Min.   :0.0000   Min.   :0.0569   Min.   :  15387  \n",
       " 1st Qu.: 29.00   1st Qu.:0.0376   1st Qu.:0.4350   1st Qu.: 182857  \n",
       " Median : 43.00   Median :0.2320   Median :0.5710   Median : 220427  \n",
       " Mean   : 41.13   Mean   :0.3686   Mean   :0.5544   Mean   : 235122  \n",
       " 3rd Qu.: 55.00   3rd Qu.:0.7220   3rd Qu.:0.6920   3rd Qu.: 265768  \n",
       " Max.   :100.00   Max.   :0.9960   Max.   :0.9890   Max.   :5552917  \n",
       "     energy         instrumentalness        key               liveness      \n",
       " Min.   :2.03e-05   Min.   :0.0000000   Length:232725      Min.   :0.00967  \n",
       " 1st Qu.:3.85e-01   1st Qu.:0.0000000   Class :character   1st Qu.:0.09740  \n",
       " Median :6.05e-01   Median :0.0000443   Mode  :character   Median :0.12800  \n",
       " Mean   :5.71e-01   Mean   :0.1483012                      Mean   :0.21501  \n",
       " 3rd Qu.:7.87e-01   3rd Qu.:0.0358000                      3rd Qu.:0.26400  \n",
       " Max.   :9.99e-01   Max.   :0.9990000                      Max.   :1.00000  \n",
       "    loudness           mode            speechiness         tempo       \n",
       " Min.   :-52.457   Length:232725      Min.   :0.0222   Min.   : 30.38  \n",
       " 1st Qu.:-11.771   Class :character   1st Qu.:0.0367   1st Qu.: 92.96  \n",
       " Median : -7.762   Mode  :character   Median :0.0501   Median :115.78  \n",
       " Mean   : -9.570                      Mean   :0.1208   Mean   :117.67  \n",
       " 3rd Qu.: -5.501                      3rd Qu.:0.1050   3rd Qu.:139.05  \n",
       " Max.   :  3.744                      Max.   :0.9670   Max.   :242.90  \n",
       " time_signature        valence      \n",
       " Length:232725      Min.   :0.0000  \n",
       " Class :character   1st Qu.:0.2370  \n",
       " Mode  :character   Median :0.4440  \n",
       "                    Mean   :0.4549  \n",
       "                    3rd Qu.:0.6600  \n",
       "                    Max.   :1.0000  "
      ]
     },
     "metadata": {},
     "output_type": "display_data"
    }
   ],
   "source": [
    "summary(song_data)"
   ]
  },
  {
   "cell_type": "markdown",
   "id": "3725002a-9723-44a5-b2ee-290396ba3a95",
   "metadata": {},
   "source": [
    "Intro stuff: motivations, description of dataset + predictors etc."
   ]
  }
 ],
 "metadata": {
  "kernelspec": {
   "display_name": "R",
   "language": "R",
   "name": "ir"
  },
  "language_info": {
   "codemirror_mode": "r",
   "file_extension": ".r",
   "mimetype": "text/x-r-source",
   "name": "R",
   "pygments_lexer": "r",
   "version": "4.1.3"
  }
 },
 "nbformat": 4,
 "nbformat_minor": 5
}
